{
 "cells": [
  {
   "cell_type": "markdown",
   "metadata": {},
   "source": [
    "# Lab 3\n",
    "\n",
    "In this lab we will become familiar with distributions, histograms, and functional programming. Do not use numpy or any other library for this lab.\n",
    "\n",
    "Before that, lets get setup homework submission and submit your previous lab.  \n",
    "\n",
    "## Working on the Command-line.\n",
    "\n",
    "It is important for you to learn to work on the command line and to be familiar with the Unix environment (e.g. Linux, Mac OS, or Windows Linux Subsystem). We'll go over working on the command-line in detail later in the course.\n",
    "\n",
    "You are required to submit your work in this course via GitHub. Today in class, you will setup everything on the command-line.\n",
    "\n",
    "### Command-line basics\n",
    "\n",
    "There is plenty of material online that will help you figure out how to do various tasks on the command line. Commands you may need to know today:\n",
    "\n",
    "* `ls`: lists the contents of the current directory.\n",
    "* `pwd`: prints the path of the current directory.\n",
    "* `cd <directory>`: changes your current directory to the specified directory.\n",
    "* `cd ..`: changes current directory to the previous directory. Basically steps out of the current directory to the directory containing the current directory.\n",
    "* `mkdir <directory>`: create a new directory with the specified name.\n",
    "* `rmdir <directory>`: removes the specified directory. Note it has to be empty.\n",
    "* `rm <filename>`: deletes the specified file.\n",
    "* `mv <filename 1> <filename 2>`: Moves or renames a file.\n",
    "* `cp <filename 1> <filename 2>`: copies an file. If you just provide a path to a directory, it copies the file into that directory with the same filename. If you specifiy a new filename, the copy has a new name. For example `cp File.1.txt File.2.txt` creates a copy of `File.1.txt` with the name `File.2.txt`. Meanwhile `cp File.1.txt my_directory`, where `my_directory` is a directory, creates a copy of `File.1.txt` in directory `my_directory` with the name `File.1.txt`.\n",
    "\n",
    "For reference, here are some example resources I found by googling:\n",
    "\n",
    "* Paths and Wildcards: https://www.warp.dev/terminus/linux-wildcards\n",
    "* Basic commands like copy: https://kb.iu.edu/d/afsk\n",
    "* General introduction to shell: https://github-pages.ucl.ac.uk/RCPSTrainingMaterials/HPCandHTCusingLegion/2_intro_to_shell.html\n",
    "* Manual pages: https://www.geeksforgeeks.org/linux-man-page-entries-different-types/?ref=ml_lbp\n",
    "* Chaining commands: https://www.geeksforgeeks.org/chaining-commands-in-linux/?ref=ml_lbp\n",
    "* Piping: https://www.geeksforgeeks.org/piping-in-unix-or-linux/\n",
    "* Using sed: https://www.geeksforgeeks.org/sed-command-linux-set-2/?ref=ml_lbp\n",
    "* Various Unix commands: https://www.geeksforgeeks.org/linux-commands/?ref=lbp\n",
    "* Cheat sheets:\n",
    "    * https://www.stationx.net/unix-commands-cheat-sheet/\n",
    "    * https://cheatography.com/davechild/cheat-sheets/linux-command-line/\n",
    "    * https://www.theknowledgeacademy.com/blog/unix-commands-cheat-sheet/\n",
    "    \n",
    "These aren't necessarily the best resources. Feel free to search for better ones. Also, don't forget that Unix has built-in manual pages for all of its commands. Just type `man <command>` at the command prompt. Use the space-bar to scroll through the documentation and \"q\" to exit.\n",
    "\n",
    "\n",
    "### Setup and Submission\n",
    "\n",
    "Our course repository is public. The instructions here aim to have you setup a fork of the course repository. Unfortunately because you are forking a public repo, your fork will have to be public also. \n",
    "\n",
    "You should be familiar with git from the first semester of this course. I assume that you all have github accounts and have setup things to be able to [push to github using ssh](https://docs.github.com/en/github/authenticating-to-github/connecting-to-github-with-ssh). The instuctions here lead you to:\n",
    "\n",
    "We'll overview what you will do before going through step by step instructions.\n",
    "\n",
    "1. Setup:\n",
    "    1. Fork the class repository. Some directions in [fork-a-repo](https://docs.github.com/en/github/getting-started-with-github/fork-a-repo).\n",
    "    1. Create a directory on your personal system where you will keep all course materials.\n",
    "    1. In that directory, clone your fork of the repository.\n",
    "    1. Using `git remote`, set the upstream to be the class repo, so you can pull from the class and push to your fork.\n",
    "\n",
    "1. Submission:\n",
    "    1. Copy your solutions into the appropriate directory (e.g. into `Labs/Lab.2/`) and with appropriate filename `Lab.2.solution.ipynb'.\n",
    "    1. Commit / push your solutions.\n",
    "    1. Grant access to course instructors.\n",
    "\n",
    "Below are step by step instructions with examples (including example directory naming convention). Feel free to modify things as you see fit. \n",
    "\n",
    "#### Setup\n",
    "You should only need to follow this instructions once. Here are some useful git commands:\n",
    "\n",
    "* Git help: `git help`\n",
    "* Git remote help: `git help remote`\n",
    "* Check remote status: `git remote -v`\n",
    "* Add a remote: `git remote add <stream name> <repo URL>`\n",
    "* Add a remove: `git remote remove <stream name>`\n",
    "\n",
    "Steps:\n",
    "1. In a browser, log into GitHub and navigate to the [course repository](https://github.com/UTA-DataScience/DATA3402.Spring.2025).\n",
    "1. On the top right of the page, press the fork button to create a new fork into your own GitHub account.\n",
    "1. After successful fork, you should find the browser showing your fork of the course repository. Use the green \"Code\" button to copy path to the repo into your the clipboard of your computer.\n",
    "1. Open a shell on your personal computer.\n",
    "1. If you have not done so already, create a new directory/folder where you will keep all course material to navigate to it. For example: `mkdir Data-3402` and `cd Data-3402`.\n",
    "1. Clone your fork of the repository using `git clone` followed by the path you copied into your clipboard. (copy/paste)\n",
    "1. Paste the URL to your fork in the worksheet for the TAs and instructors.\n",
    "1. Now go into the directory of your clone (`cd DATA3402.Spring.2025`).\n",
    "1. Type `git remote -v` to see the current setup for fetch and pull.\n",
    "1. Note the URL you see. This should be the same as what you used for your clone for both push and fetch.\n",
    "1. Delete the origin remote using `git remote remove origin`.\n",
    "1. Add the course repo as your remote using `git remote add origin https://github.com/UTA-DataScience/DATA3402.Spring.2025.git`.\n",
    "1. Change the push to point to your fork. This means you will need the URL to your clone we copied earlier and confirmed as the original origin. The command will look something like: `git remote set-url --push origin  https://github.com/XXXXXX/DATA3402.Spring.2025.git`, where XXXXX is your username on GitHub.\n",
    "1. Note that if you setup everything correctly, you now should be able to do `git pull` to get updates from the course repo, and do `git push` to push your commits into your own fork.\n",
    "\n",
    "### Submission\n",
    "These instructions outline how you submit files. Some useful commands:\n",
    "* To add a file to local repository: `git add <file>`.\n",
    "* To commit all changed files into local repository: `git -a -m \"A message\"`. You need to provide some comment when you commit. \n",
    "* To push the commited files from the local repository to GitHub: `git push`.\n",
    "* To get updates from GitHub: `git pull`.\n",
    "\n",
    "Steps:\n",
    "1. To submit your labs, navigate to your clone of your fork of the course repository. \n",
    "1. Use `git pull` to make sure you have the latest updates. \n",
    "1. Make sure your copy of the lab your are working on is in the appropriate place in this clone. That means if you have the file elsewhere, copy it to the same directory in your clone of your fork. \n",
    "1. Note that in order to avoid future conflicts, you should always name your solution differently than the original file in the class repo. For example if your file is still named `Lab.2.ipynb` you should rename it using the `mv` command: `mv Lab.2.ipynb Lab.2.solution.ipynb`. \n",
    "1. Add and files you wish to submit into the repo. For example: `git add Labs/Lab.2/Lab.2.solution.ipynb`\n",
    "1. Commit any changes: `git commit -a -m \"Lab 2 updates\"`\n",
    "1. Push your changes: `git push`\n",
    "1. Check on github website that your solutions have been properly submitted.\n",
    "\n",
    "Before you leave the session today, make sure your GitHub Repo is setup. If you need to work further on your lab, navigate jupyter to the copy of the lab you just submitted and work there. Once done, repeat the commit and push commands to submit your updated solution. Note that lab 2 is due by midnight Friay 1/31/2025.\n"
   ]
  },
  {
   "cell_type": "markdown",
   "metadata": {},
   "source": [
    "### Uniform Distribution\n",
    "Lets start with generating some fake random data. You can get a random number between 0 and 1 using the python random module as follow:"
   ]
  },
  {
   "cell_type": "code",
   "execution_count": 37,
   "metadata": {},
   "outputs": [
    {
     "name": "stdout",
     "output_type": "stream",
     "text": [
      "The Value of x is 0.9812093241477373\n"
     ]
    }
   ],
   "source": [
    "import random\n",
    "x=random.random()\n",
    "print(\"The Value of x is\", x)"
   ]
  },
  {
   "cell_type": "markdown",
   "metadata": {},
   "source": [
    "Everytime you call random, you will get a new number.\n",
    "\n",
    "*Exercise 1:* Using random, write a function `generate_uniform(N, mymin, mymax)`, that returns a python list containing N random numbers between specified minimum and maximum value. Note that you may want to quickly work out on paper how to turn numbers between 0 and 1 to between other values. "
   ]
  },
  {
   "cell_type": "code",
   "execution_count": 38,
   "metadata": {},
   "outputs": [],
   "source": [
    "# Skeleton\n",
    "def generate_uniform(N,x_min,x_max):\n",
    "    out = []\n",
    "    \n",
    "    for _ in range(N):\n",
    "        value = x_min + (x_max - x_min) * random.random()\n",
    "        out.append(value)\n",
    "    return out"
   ]
  },
  {
   "cell_type": "code",
   "execution_count": 39,
   "metadata": {},
   "outputs": [
    {
     "name": "stdout",
     "output_type": "stream",
     "text": [
      "Data Type: <class 'list'>\n",
      "Data Length: 1000\n",
      "Type of Data Contents: <class 'float'>\n",
      "Data Minimum: -9.937568840049416\n",
      "Data Maximum: 9.985725871639502\n"
     ]
    }
   ],
   "source": [
    "# Test your solution here\n",
    "data=generate_uniform(1000,-10,10)\n",
    "print (\"Data Type:\", type(data))\n",
    "print (\"Data Length:\", len(data))\n",
    "if len(data)>0: \n",
    "    print (\"Type of Data Contents:\", type(data[0]))\n",
    "    print (\"Data Minimum:\", min(data))\n",
    "    print (\"Data Maximum:\", max(data))"
   ]
  },
  {
   "cell_type": "markdown",
   "metadata": {},
   "source": [
    "*Exercise 2a:* \n",
    "Write a function that computes the mean of values in a list. Recall the equation for the mean of a random variable $\\bf{x}$ computed on a data set of $n$ values $\\{ x_i \\} = \\{x_1, x_2, ..., x_n\\}$  is ${\\bf\\bar{x}} = \\frac{1}{n} \\sum_i^n x_i$."
   ]
  },
  {
   "cell_type": "code",
   "execution_count": 40,
   "metadata": {},
   "outputs": [],
   "source": [
    "# Skeleton\n",
    "def mean(Data):\n",
    "    m=0.\n",
    "\n",
    "    if len(Data):\n",
    "        m = sum(Data) / len(Data)\n",
    "  \n",
    "    return m"
   ]
  },
  {
   "cell_type": "code",
   "execution_count": 41,
   "metadata": {},
   "outputs": [
    {
     "name": "stdout",
     "output_type": "stream",
     "text": [
      "Mean of Data: -0.12331425088751562\n"
     ]
    }
   ],
   "source": [
    "# Test your solution here\n",
    "print (\"Mean of Data:\", mean(data))"
   ]
  },
  {
   "cell_type": "markdown",
   "metadata": {},
   "source": [
    "*Exercise 2b:* \n",
    "Write a function that computes the variance of values in a list. Recall the equation for the variance of a random variable $\\bf{x}$ computed on a data set of $n$ values $\\{ x_i \\} = \\{x_1, x_2, ..., x_n\\}$  is ${\\bf\\langle x \\rangle} = \\frac{1}{n} \\sum_i^n (x_i - {\\bf\\bar{x}})$."
   ]
  },
  {
   "cell_type": "code",
   "execution_count": 42,
   "metadata": {},
   "outputs": [],
   "source": [
    "# Skeleton\n",
    "def variance(Data):\n",
    "    m=0.\n",
    "\n",
    "    mean_data = mean(Data)\n",
    "    m = sum((x - mean_data)**2 for x in Data) / len(Data)\n",
    "    \n",
    "    return m"
   ]
  },
  {
   "cell_type": "code",
   "execution_count": 43,
   "metadata": {
    "scrolled": true
   },
   "outputs": [
    {
     "name": "stdout",
     "output_type": "stream",
     "text": [
      "Variance of Data: 32.38358424847795\n"
     ]
    }
   ],
   "source": [
    "# Test your solution here\n",
    "print (\"Variance of Data:\", variance(data))"
   ]
  },
  {
   "cell_type": "markdown",
   "metadata": {},
   "source": [
    "## Histogramming"
   ]
  },
  {
   "cell_type": "markdown",
   "metadata": {},
   "source": [
    "*Exercise 3:* Write a function that bins the data so that you can create a histogram. An example of how to implement histogramming is the following logic:\n",
    "\n",
    "* User inputs a list of values `x` and optionally `n_bins` which defaults to 10.\n",
    "* If not supplied, find the minimum and maximum (`x_min`,`x_max`) of the values in x.\n",
    "* Determine the bin size (`bin_size`) by dividing the range of the function by the number of bins.\n",
    "* Create an empty list of zeros of size `n_bins`, call it `hist`.\n",
    "* Loop over the values in `x`\n",
    "    * Loop over the values in `hist` with index `i`:\n",
    "        * If x is between `x_min+i*bin_size` and `x_min+(i+1)*bin_size`, increment `hist[i].` \n",
    "        * For efficiency, try to use continue to goto the next bin and data point.\n",
    "* Return `hist` and the list corresponding of the bin edges (i.e. of `x_min+i*bin_size`).    "
   ]
  },
  {
   "cell_type": "code",
   "execution_count": 44,
   "metadata": {},
   "outputs": [],
   "source": [
    "def histogram(x,n_bins=10,x_min=None,x_max=None):\n",
    "    if x_min is None:\n",
    "        x_min = min(x)\n",
    "    if x_max is None:\n",
    "        x_max = max(x)\n",
    "\n",
    "    bin_size = (x_max - x_min) / n_bins\n",
    "    hist = [0] * n_bins # initialize bins\n",
    "    bin_edges = [x_min + i * bin_size for i in range(n_bins + 1)]\n",
    "\n",
    "    for value in x:\n",
    "        if value < x_min or value > x_max:\n",
    "            continue\n",
    "        bin_index = int((value - x_min) // bin_size) \n",
    "        \n",
    "        if bin_index == n_bins:\n",
    "            bin_index -= 1\n",
    "        hist[bin_index] += 1\n",
    "\n",
    "    return hist,bin_edges"
   ]
  },
  {
   "cell_type": "code",
   "execution_count": 45,
   "metadata": {},
   "outputs": [
    {
     "name": "stdout",
     "output_type": "stream",
     "text": [
      "Histogram counts:  [3, 0, 2, 1, 0, 1, 3, 0, 0, 3, 1, 1, 2, 1, 2, 0, 0, 5, 0, 3, 1, 0, 3, 1, 1, 3, 1, 0, 2, 0, 0, 0, 0, 1, 0, 0, 0, 0, 1, 0, 2, 1, 0, 0, 1, 2, 1, 0, 2, 2, 2, 1, 1, 0, 1, 0, 1, 1, 1, 1, 1, 2, 1, 0, 5, 1, 2, 0, 0, 0, 1, 0, 1, 2, 0, 0, 1, 1, 2, 1, 0, 0, 4, 1, 0, 0, 0, 1, 2, 2, 0, 1, 1, 0, 3, 0, 0, 0, 1, 1]\n",
      "\n",
      "First few bins:  [-9.615555463454406, -9.421210838121528, -9.22686621278865, -9.032521587455772, -8.838176962122894]\n"
     ]
    }
   ],
   "source": [
    "# Test your solution here\n",
    "data = generate_uniform(100, -10, 10)\n",
    "h,b=histogram(data,100)\n",
    "print(\"Histogram counts: \", h)\n",
    "print(\"\\nFirst few bins: \", b[:5])"
   ]
  },
  {
   "cell_type": "markdown",
   "metadata": {},
   "source": [
    "*Exercise 4:* Write a function that uses the histogram function in the previous exercise to create a text-based \"graph\". For example the output could look like the following:\n",
    "```\n",
    "[  0,  1] : ######\n",
    "[  1,  2] : #####\n",
    "[  2,  3] : ######\n",
    "[  3,  4] : ####\n",
    "[  4,  5] : ####\n",
    "[  5,  6] : ######\n",
    "[  6,  7] : #####\n",
    "[  7,  8] : ######\n",
    "[  8,  9] : ####\n",
    "[  9, 10] : #####\n",
    "```\n",
    "\n",
    "Where each line corresponds to a bin and the number of `#`'s are proportional to the value of the data in the bin. "
   ]
  },
  {
   "cell_type": "code",
   "execution_count": 46,
   "metadata": {},
   "outputs": [],
   "source": [
    "# Solution\n",
    "def draw_histogram(x,n_bins,x_min=None,x_max=None,character=\"#\",max_character_per_line=20):\n",
    "    hist, bin_edges = histogram(x, n_bins, x_min, x_max)\n",
    "    \n",
    "    # find maximum bin count for scaling\n",
    "    max_count = max(hist) if hist else 0\n",
    "    scale = max_character_per_line / max_count if max_count > 0 else 0\n",
    "\n",
    "    # debugging: Print histogram and bin edges\n",
    "    print(\"Histogram counts:\", hist)\n",
    "    print(\"\\nBin edges:\", bin_edges)\n",
    "    \n",
    "    # print the histogram bars\n",
    "    for i in range(len(hist)):\n",
    "        bar_length = int(hist[i] * scale)\n",
    "        \n",
    "        # print the bar only if it's non-zero length\n",
    "        if bar_length > 0:\n",
    "            print(f\"[{bin_edges[i]:3.1f}, {bin_edges[i+1]:3.1f}] : {character * bar_length}\")\n",
    "        else:\n",
    "            print(f\"[{bin_edges[i]:3.1f}, {bin_edges[i+1]:3.1f}] : (empty)\")\n",
    "    \n",
    "    return hist,bin_edges"
   ]
  },
  {
   "cell_type": "code",
   "execution_count": 47,
   "metadata": {},
   "outputs": [
    {
     "name": "stdout",
     "output_type": "stream",
     "text": [
      "Histogram counts: [4, 5, 3, 3, 2, 9, 3, 4, 5, 6, 6, 6, 7, 7, 3, 3, 3, 7, 9, 5]\n",
      "\n",
      "Bin edges: [-9.800149890143874, -8.81541328976788, -7.830676689391887, -6.845940089015893, -5.8612034886399, -4.876466888263906, -3.8917302878879116, -2.9069936875119184, -1.9222570871359244, -0.9375204867599312, 0.04721611361606293, 1.031952713992057, 2.016689314368051, 3.001425914744045, 3.9861625151200375, 4.970899115496032, 5.955635715872026, 6.94037231624802, 7.925108916624012, 8.909845517000008, 9.894582117376]\n",
      "[-9.8, -8.8] : ########\n",
      "[-8.8, -7.8] : ###########\n",
      "[-7.8, -6.8] : ######\n",
      "[-6.8, -5.9] : ######\n",
      "[-5.9, -4.9] : ####\n",
      "[-4.9, -3.9] : ####################\n",
      "[-3.9, -2.9] : ######\n",
      "[-2.9, -1.9] : ########\n",
      "[-1.9, -0.9] : ###########\n",
      "[-0.9, 0.0] : #############\n",
      "[0.0, 1.0] : #############\n",
      "[1.0, 2.0] : #############\n",
      "[2.0, 3.0] : ###############\n",
      "[3.0, 4.0] : ###############\n",
      "[4.0, 5.0] : ######\n",
      "[5.0, 6.0] : ######\n",
      "[6.0, 6.9] : ######\n",
      "[6.9, 7.9] : ###############\n",
      "[7.9, 8.9] : ####################\n",
      "[8.9, 9.9] : ###########\n"
     ]
    }
   ],
   "source": [
    "# Test your solution here\n",
    "data = generate_uniform(100, -10, 10)\n",
    "h,b=draw_histogram(data,20)"
   ]
  },
  {
   "cell_type": "markdown",
   "metadata": {},
   "source": [
    "## Functional Programming\n",
    "\n",
    "*Exercise 5:* Write a function the applies a booling function (that returns true/false) to every element in data, and return a list of indices of elements where the result was true. Use this function to find the indices of entries greater than 0.5. "
   ]
  },
  {
   "cell_type": "code",
   "execution_count": 48,
   "metadata": {},
   "outputs": [],
   "source": [
    "def where(mylist,myfunc):\n",
    "    out= []\n",
    "    \n",
    "    # loop through list with enumeration to get indices\n",
    "    for i, value in enumerate(mylist):\n",
    "        # apply function and check if True\n",
    "        if myfunc(value):\n",
    "            out.append(i)\n",
    "    \n",
    "    return out"
   ]
  },
  {
   "cell_type": "code",
   "execution_count": 49,
   "metadata": {},
   "outputs": [
    {
     "name": "stdout",
     "output_type": "stream",
     "text": [
      "Indices of entries greater than 0.5: [2, 5, 6, 7, 9, 12, 13, 17, 18, 19, 20, 22, 24, 27, 30, 32, 34, 35, 37, 39, 40, 42, 44, 45, 46, 48, 52, 54, 57, 58, 59, 60, 61, 63, 68, 69, 70, 72, 74, 76, 77, 79, 81, 84, 85, 87, 93, 96, 97, 98]\n"
     ]
    }
   ],
   "source": [
    "# Test your solution here\n",
    "indices = where(data, lambda x: x > 0.5)\n",
    "print(\"Indices of entries greater than 0.5:\", indices)"
   ]
  },
  {
   "cell_type": "markdown",
   "metadata": {},
   "source": [
    "*Exercise 6:* The `inrange(mymin,mymax)` function below returns a function that tests if it's input is between the specified values. Write corresponding functions that test:\n",
    "* Even\n",
    "* Odd\n",
    "* Greater than\n",
    "* Less than\n",
    "* Equal\n",
    "* Divisible by"
   ]
  },
  {
   "cell_type": "code",
   "execution_count": 50,
   "metadata": {},
   "outputs": [
    {
     "name": "stdout",
     "output_type": "stream",
     "text": [
      "True True False False False\n",
      "False False True True False\n",
      "Number of Entries passing F1: 56\n",
      "Number of Entries passing F2: 0\n"
     ]
    }
   ],
   "source": [
    "def in_range(mymin,mymax):\n",
    "    def testrange(x):\n",
    "        return x<mymax and x>=mymin\n",
    "    return testrange\n",
    "\n",
    "# Examples:\n",
    "F1=in_range(0,10)\n",
    "F2=in_range(10,20)\n",
    "\n",
    "# Test of in_range\n",
    "print (F1(0), F1(1), F1(10), F1(15), F1(20))\n",
    "print (F2(0), F2(1), F2(10), F2(15), F2(20))\n",
    "\n",
    "print (\"Number of Entries passing F1:\", len(where(data,F1)))\n",
    "print (\"Number of Entries passing F2:\", len(where(data,F2)))"
   ]
  },
  {
   "cell_type": "code",
   "execution_count": 51,
   "metadata": {},
   "outputs": [],
   "source": [
    "def is_even():\n",
    "    def test_even(x):\n",
    "        return x % 2 == 0\n",
    "    return test_even\n",
    "\n",
    "# test if number is odd\n",
    "def is_odd():\n",
    "    def test_odd(x):\n",
    "        return x % 2 == 1\n",
    "    return test_odd\n",
    "\n",
    "# test if number is greater than value\n",
    "def greater_than(value):\n",
    "    def test_greater(x):\n",
    "        return x > value\n",
    "    return test_greater\n",
    "\n",
    "# test if number is less than value\n",
    "def less_than(value):\n",
    "    def test_less(x):\n",
    "        return x < value\n",
    "    return test_less\n",
    "\n",
    "# test if number equals value\n",
    "def equals(value):\n",
    "    def test_equal(x):\n",
    "        return x == value\n",
    "    return test_equal\n",
    "\n",
    "# test if number is divisible by value\n",
    "def divisible_by(value):\n",
    "    def test_divisible(x):\n",
    "        return x % value == 0\n",
    "    return test_divisible"
   ]
  },
  {
   "cell_type": "code",
   "execution_count": 52,
   "metadata": {},
   "outputs": [
    {
     "name": "stdout",
     "output_type": "stream",
     "text": [
      "Even numbers: [2, 4, 6, 8, 10]\n",
      "Odd numbers: [1, 3, 5, 7, 9]\n",
      "Greater than 5: [6, 7, 8, 9, 10]\n",
      "Less than 5: [1, 2, 3, 4]\n",
      "Equal to 5: [5]\n",
      "Divisible by 3: [3, 6, 9]\n"
     ]
    }
   ],
   "source": [
    "# Test the functions\n",
    "test_data = [1, 2, 3, 4, 5, 6, 7, 8, 9, 10]\n",
    "\n",
    "E = is_even()\n",
    "O = is_odd()\n",
    "G5 = greater_than(5)\n",
    "L5 = less_than(5)\n",
    "EQ5 = equals(5)\n",
    "D3 = divisible_by(3)\n",
    "\n",
    "print(\"Even numbers:\", [x for x in test_data if E(x)])\n",
    "print(\"Odd numbers:\", [x for x in test_data if O(x)])\n",
    "print(\"Greater than 5:\", [x for x in test_data if G5(x)])\n",
    "print(\"Less than 5:\", [x for x in test_data if L5(x)])\n",
    "print(\"Equal to 5:\", [x for x in test_data if EQ5(x)])\n",
    "print(\"Divisible by 3:\", [x for x in test_data if D3(x)])"
   ]
  },
  {
   "cell_type": "markdown",
   "metadata": {},
   "source": [
    "*Exercise 7:* Repeat the previous exercise using `lambda` and the built-in python functions sum and map instead of your solution above. "
   ]
  },
  {
   "cell_type": "code",
   "execution_count": 53,
   "metadata": {
    "scrolled": true
   },
   "outputs": [
    {
     "name": "stdout",
     "output_type": "stream",
     "text": [
      "Number of even numbers: [2, 4, 6, 8, 10]\n",
      "Number of odd numbers: [1, 3, 5, 7, 9]\n",
      "Number greater than 5: [6, 7, 8, 9, 10]\n",
      "Number less than 5: [1, 2, 3, 4]\n",
      "Number equal to 5: [5]\n",
      "Number divisible by 3: [3, 6, 9]\n",
      "Even numbers: [2, 4, 6, 8, 10]\n",
      "Odd numbers: [1, 3, 5, 7, 9]\n",
      "Greater than 5: [6, 7, 8, 9, 10]\n",
      "Less than 5: [1, 2, 3, 4]\n",
      "Equal to 5: [5]\n",
      "Divisible by 3: [3, 6, 9]\n"
     ]
    }
   ],
   "source": [
    "# using lambda \n",
    "is_even = lambda x: x % 2 == 0\n",
    "is_odd = lambda x: x % 2 == 1\n",
    "greater_than = lambda value: lambda x: x > value\n",
    "less_than = lambda value: lambda x: x < value\n",
    "equals = lambda value: lambda x: x == value\n",
    "divisible_by = lambda value: lambda x: x % value == 0\n",
    "\n",
    "# test data\n",
    "test_data = [1, 2, 3, 4, 5, 6, 7, 8, 9, 10]\n",
    "\n",
    "# elements that satisfy the condition \n",
    "count_matching = lambda data, func: list(filter(func, data))\n",
    "\n",
    "# filter elements that satisfy the condition\n",
    "filter_matching = lambda data, func: list(filter(func, data))\n",
    "\n",
    "# counting elements\n",
    "print(\"Number of even numbers:\", count_matching(test_data, is_even))\n",
    "print(\"Number of odd numbers:\", count_matching(test_data, is_odd))\n",
    "print(\"Number greater than 5:\", count_matching(test_data, greater_than(5)))\n",
    "print(\"Number less than 5:\", count_matching(test_data, less_than(5)))\n",
    "print(\"Number equal to 5:\", count_matching(test_data, equals(5)))\n",
    "print(\"Number divisible by 3:\", count_matching(test_data, divisible_by(3)))\n",
    "\n",
    "# filtering elements\n",
    "print(\"Even numbers:\", filter_matching(test_data, is_even))\n",
    "print(\"Odd numbers:\", filter_matching(test_data, is_odd))\n",
    "print(\"Greater than 5:\", filter_matching(test_data, greater_than(5)))\n",
    "print(\"Less than 5:\", filter_matching(test_data, less_than(5)))\n",
    "print(\"Equal to 5:\", filter_matching(test_data, equals(5)))\n",
    "print(\"Divisible by 3:\", filter_matching(test_data, divisible_by(3)))"
   ]
  },
  {
   "cell_type": "markdown",
   "metadata": {},
   "source": [
    "## Monte Carlo\n",
    "\n",
    "*Exercise 7:* Write a \"generator\" function called `generate_function(func,x_min,x_max,N)`, that instead of generating a flat distribution, generates a distribution with functional form coded in `func`. Note that `func` will always be > 0.  \n",
    "\n",
    "Use the test function below and your histogramming functions above to demonstrate that your generator is working properly.\n",
    "\n",
    "Hint: A simple, but slow, solution is to a draw random number `test_x` within the specified range and another number `p` between the `min` and `max` of the function (which you will have to determine). If `p<=function(test_x)`, then place `test_x` on the output. If not, repeat the process, drawing two new numbers. Repeat until you have the specified number of generated numbers, `N`. For this problem, it's OK to determine the `min` and `max` by numerically sampling the function.  "
   ]
  },
  {
   "cell_type": "code",
   "execution_count": 54,
   "metadata": {},
   "outputs": [],
   "source": [
    "def generate_function(func,x_min,x_max,N=1000):\n",
    "    out = list()\n",
    "    # first sample the function to find approximate maximum\n",
    "    n_samples = 1000\n",
    "    samples = []\n",
    "    for _ in range(n_samples):\n",
    "        x = x_min + (x_max - x_min) * random.random()\n",
    "        samples.append(func(x))\n",
    "    f_max = max(samples)\n",
    "    \n",
    "    # generate points using rejection sampling\n",
    "    while len(out) < N:\n",
    "        # generate random x in range\n",
    "        x = x_min + (x_max - x_min) * random.random()\n",
    "        # generate random y up to f_max\n",
    "        y = f_max * random.random()\n",
    "        \n",
    "        # accept point if y <= f(x)\n",
    "        if y <= func(x):\n",
    "            out.append(x)\n",
    "    \n",
    "    return out"
   ]
  },
  {
   "cell_type": "code",
   "execution_count": 55,
   "metadata": {},
   "outputs": [
    {
     "name": "stdout",
     "output_type": "stream",
     "text": [
      "Number of generated points: 1000\n",
      "\n",
      "First 10 points: [-9.69525618447479, -9.77884754090677, -6.297369655401264, 7.071502030571782, 4.706120087647413, 5.812082929087104, 6.7187739434581815, -9.338067997697333, 4.589633034982866, 2.1762801853031917]\n",
      "Histogram counts: [97, 85, 82, 54, 41, 34, 25, 14, 4, 6, 17, 28, 35, 47, 49, 52, 61, 68, 95, 106]\n",
      "\n",
      "Bin edges: [-9.9953592872565, -8.995639468605924, -7.995919649955348, -6.996199831304772, -5.996480012654196, -4.99676019400362, -3.997040375353045, -2.9973205567024683, -1.9976007380518928, -0.9978809194013163, 0.0018388992492592848, 1.0015587178998349, 2.0012785365504104, 3.000998355200986, 4.000718173851563, 5.000437992502139, 6.0001578111527145, 6.999877629803292, 7.999597448453867, 8.999317267104443, 9.999037085755019]\n",
      "[-10.0, -9.0] : ##################\n",
      "[-9.0, -8.0] : ################\n",
      "[-8.0, -7.0] : ###############\n",
      "[-7.0, -6.0] : ##########\n",
      "[-6.0, -5.0] : #######\n",
      "[-5.0, -4.0] : ######\n",
      "[-4.0, -3.0] : ####\n",
      "[-3.0, -2.0] : ##\n",
      "[-2.0, -1.0] : (empty)\n",
      "[-1.0, 0.0] : #\n",
      "[0.0, 1.0] : ###\n",
      "[1.0, 2.0] : #####\n",
      "[2.0, 3.0] : ######\n",
      "[3.0, 4.0] : ########\n",
      "[4.0, 5.0] : #########\n",
      "[5.0, 6.0] : #########\n",
      "[6.0, 7.0] : ###########\n",
      "[7.0, 8.0] : ############\n",
      "[8.0, 9.0] : #################\n",
      "[9.0, 10.0] : ####################\n"
     ]
    }
   ],
   "source": [
    "# A test function\n",
    "def test_func(x,a=1,b=1):\n",
    "    return abs(a*x+b)\n",
    "\n",
    "# test the function and print results\n",
    "data = generate_function(test_func, -10, 10)\n",
    "print(\"Number of generated points:\", len(data))\n",
    "print(\"\\nFirst 10 points:\", data[:10])\n",
    "\n",
    "# using the histogram function to visualize the distribution\n",
    "h, b = draw_histogram(data, 20)"
   ]
  },
  {
   "cell_type": "markdown",
   "metadata": {},
   "source": [
    "*Exercise 8:* Use your function to generate 1000 numbers that are normal distributed, using the `gaussian` function below. Confirm the mean and variance of the data is close to the mean and variance you specify when building the Gaussian. Histogram the data. "
   ]
  },
  {
   "cell_type": "code",
   "execution_count": 56,
   "metadata": {},
   "outputs": [
    {
     "name": "stdout",
     "output_type": "stream",
     "text": [
      "Generated Gaussian Statistics:\n",
      "Mean (should be close to 0): 0.023\n",
      "Variance (should be close to 1): 1.015\n",
      "Histogram counts: [0, 0, 0, 2, 8, 21, 39, 70, 154, 195, 193, 144, 110, 47, 11, 6, 0, 0, 0, 0]\n",
      "\n",
      "Bin edges: [-5.0, -4.5, -4.0, -3.5, -3.0, -2.5, -2.0, -1.5, -1.0, -0.5, 0.0, 0.5, 1.0, 1.5, 2.0, 2.5, 3.0, 3.5, 4.0, 4.5, 5.0]\n",
      "[-5.0, -4.5] : (empty)\n",
      "[-4.5, -4.0] : (empty)\n",
      "[-4.0, -3.5] : (empty)\n",
      "[-3.5, -3.0] : (empty)\n",
      "[-3.0, -2.5] : (empty)\n",
      "[-2.5, -2.0] : ##\n",
      "[-2.0, -1.5] : ####\n",
      "[-1.5, -1.0] : #######\n",
      "[-1.0, -0.5] : ###############\n",
      "[-0.5, 0.0] : ####################\n",
      "[0.0, 0.5] : ###################\n",
      "[0.5, 1.0] : ##############\n",
      "[1.0, 1.5] : ###########\n",
      "[1.5, 2.0] : ####\n",
      "[2.0, 2.5] : #\n",
      "[2.5, 3.0] : (empty)\n",
      "[3.0, 3.5] : (empty)\n",
      "[3.5, 4.0] : (empty)\n",
      "[4.0, 4.5] : (empty)\n",
      "[4.5, 5.0] : (empty)\n"
     ]
    }
   ],
   "source": [
    "import math\n",
    "\n",
    "def gaussian(mean, sigma):\n",
    "    def f(x):\n",
    "        return math.exp(-((x-mean)**2)/(2*sigma**2)) / (sigma * math.sqrt(2 * math.pi))\n",
    "    return f\n",
    "\n",
    "# Example Instantiation\n",
    "g1=gaussian(0,1)\n",
    "g2=gaussian(10,3)\n",
    "\n",
    "# generate 1000 points from standard normal\n",
    "sigma = 1 #sigma is 1 for g1\n",
    "data = generate_function(g1, -5*sigma, 5*sigma, 1000) # using sigma to define range\n",
    "\n",
    "# calculate and check statistics\n",
    "calculated_mean = sum(data) / len(data)\n",
    "calculated_variance = sum((x - calculated_mean)**2 for x in data) / (len(data) - 1)\n",
    "\n",
    "print(f\"Generated Gaussian Statistics:\")\n",
    "print(f\"Mean (should be close to 0): {calculated_mean:.3f}\")\n",
    "print(f\"Variance (should be close to 1): {calculated_variance:.3f}\")\n",
    "\n",
    "# visualize the distribution\n",
    "h, b = draw_histogram(data, 20, -5*sigma, 5*sigma)"
   ]
  },
  {
   "cell_type": "markdown",
   "metadata": {},
   "source": [
    "*Exercise 9:* Combine your `generate_function`, `where`, and `in_range` functions above to create an integrate function. Use your integrate function to show that approximately 68% of Normal distribution is within one variance."
   ]
  },
  {
   "cell_type": "code",
   "execution_count": 57,
   "metadata": {},
   "outputs": [],
   "source": [
    "def integrate(func, x_min, x_max, n_points=1000):\n",
    "    data = generate_function(func, x_min, x_max, n_points)\n",
    "    \n",
    "    points_within_1sigma = where(data, in_range(-1, 1))\n",
    "    fraction = len(points_within_1sigma) / len(data)\n",
    "    \n",
    "    return fraction"
   ]
  },
  {
   "cell_type": "code",
   "execution_count": 58,
   "metadata": {},
   "outputs": [
    {
     "name": "stdout",
     "output_type": "stream",
     "text": [
      "Fraction of points within one standard deviation: 0.679\n",
      "Expected: approximately 0.68 (68%)\n",
      "\n",
      "Histogram counts: [1, 1, 3, 7, 22, 26, 58, 79, 95, 121, 136, 115, 111, 80, 60, 49, 16, 9, 9, 2]\n",
      "\n",
      "Bin edges: [-3.3196683020357023, -3.0066276268481604, -2.693586951660618, -2.3805462764730763, -2.067505601285534, -1.754464926097992, -1.4414242509104502, -1.128383575722908, -0.8153429005353661, -0.5023022253478242, -0.1892615501602819, 0.12377912502725996, 0.4368198002148018, 0.7498604754023441, 1.0629011505898864, 1.3759418257774279, 1.6889825009649702, 2.0020231761525125, 2.315063851340054, 2.628104526527596, 2.9411452017151385]\n",
      "[-3.3, -3.0] : (empty)\n",
      "[-3.0, -2.7] : (empty)\n",
      "[-2.7, -2.4] : (empty)\n",
      "[-2.4, -2.1] : #\n",
      "[-2.1, -1.8] : ###\n",
      "[-1.8, -1.4] : ###\n",
      "[-1.4, -1.1] : ########\n",
      "[-1.1, -0.8] : ###########\n",
      "[-0.8, -0.5] : #############\n",
      "[-0.5, -0.2] : #################\n",
      "[-0.2, 0.1] : ####################\n",
      "[0.1, 0.4] : ################\n",
      "[0.4, 0.7] : ################\n",
      "[0.7, 1.1] : ###########\n",
      "[1.1, 1.4] : ########\n",
      "[1.4, 1.7] : #######\n",
      "[1.7, 2.0] : ##\n",
      "[2.0, 2.3] : #\n",
      "[2.3, 2.6] : #\n",
      "[2.6, 2.9] : (empty)\n"
     ]
    }
   ],
   "source": [
    "def test_normal_distribution():\n",
    "    g1 = gaussian(0, 1)\n",
    "    n_points = 100000\n",
    "    \n",
    "    fraction = integrate(g1, -5, 5, n_points)  # increased points for better accuracy\n",
    "  \n",
    "    print(f\"Fraction of points within one standard deviation: {fraction:.3f}\")\n",
    "    print(f\"Expected: approximately 0.68 (68%)\\n\")\n",
    "     \n",
    "    # Ggnerate histogram to visualize\n",
    "    data = generate_function(g1, -5, 5, 1000)\n",
    "    h, b = draw_histogram(data, 20)\n",
    "\n",
    "# test\n",
    "test_normal_distribution()"
   ]
  }
 ],
 "metadata": {
  "kernelspec": {
   "display_name": "Python 3 (ipykernel)",
   "language": "python",
   "name": "python3"
  },
  "language_info": {
   "codemirror_mode": {
    "name": "ipython",
    "version": 3
   },
   "file_extension": ".py",
   "mimetype": "text/x-python",
   "name": "python",
   "nbconvert_exporter": "python",
   "pygments_lexer": "ipython3",
   "version": "3.10.12"
  }
 },
 "nbformat": 4,
 "nbformat_minor": 4
}
