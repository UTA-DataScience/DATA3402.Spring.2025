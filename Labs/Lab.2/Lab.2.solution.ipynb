{
 "cells": [
  {
   "cell_type": "markdown",
   "metadata": {},
   "source": [
    "## Lab 2- Tic Tac Toe\n",
    "\n",
    "In this lab your will build a n x n Tic Tac Toe game. As you do the exercises, make sure your solutions work for any size Tic Tac Toe game. "
   ]
  },
  {
   "cell_type": "markdown",
   "metadata": {},
   "source": [
    "*Exercise 1:* Write a function that creates an n by n matrix (of list of lists) which will represent the state of a Tie Tac Toe game. Let 0, 1, and 2 represent empty, \"X\", and \"O\", respectively.\n"
   ]
  },
  {
   "cell_type": "code",
   "execution_count": 44,
   "metadata": {},
   "outputs": [],
   "source": [
    "# Write you solution here\n",
    "def create_tic_tac_toe_matrix(n):\n",
    "    return[[0 for _ in range(n)] for _ in range(n)]   "
   ]
  },
  {
   "cell_type": "code",
   "execution_count": 45,
   "metadata": {},
   "outputs": [
    {
     "name": "stdout",
     "output_type": "stream",
     "text": [
      "[[0, 0, 0], [0, 0, 0], [0, 0, 0]]\n"
     ]
    }
   ],
   "source": [
    "# Test your solution here\n",
    "board_game = create_tic_tac_toe_matrix(3)\n",
    "print(board_game)"
   ]
  },
  {
   "cell_type": "markdown",
   "metadata": {},
   "source": [
    "*Exercise 2:* Write a function that takes 2 integers `n` and `m` as input and draws a `n` by `m` game board. For example the following is a 3x3 board:\n",
    "```\n",
    "   --- --- --- \n",
    "  |   |   |   | \n",
    "   --- --- ---  \n",
    "  |   |   |   | \n",
    "   --- --- ---  \n",
    "  |   |   |   | \n",
    "   --- --- --- \n",
    "   ```"
   ]
  },
  {
   "cell_type": "code",
   "execution_count": 46,
   "metadata": {},
   "outputs": [],
   "source": [
    "# Write you solution here\n",
    "def draw_empty_board(n,m):\n",
    "    print('  '+'--- '*m)\n",
    "    \n",
    "    for _ in range(n):\n",
    "        print(' | '+'  | '*m)\n",
    "        print('  '+ '--- '*m)"
   ]
  },
  {
   "cell_type": "code",
   "execution_count": 47,
   "metadata": {},
   "outputs": [
    {
     "name": "stdout",
     "output_type": "stream",
     "text": [
      "3x3 Board:\n",
      "  --- --- --- \n",
      " |   |   |   | \n",
      "  --- --- --- \n",
      " |   |   |   | \n",
      "  --- --- --- \n",
      " |   |   |   | \n",
      "  --- --- --- \n"
     ]
    }
   ],
   "source": [
    "# Test your solution here\n",
    "print(\"3x3 Board:\")\n",
    "draw_empty_board(3,3)"
   ]
  },
  {
   "cell_type": "markdown",
   "metadata": {},
   "source": [
    "*Exercise 3:* Modify exercise 2, so that it takes a matrix of the form from exercise 1 and draws a tic-tac-tie board with \"X\"s and \"O\"s.  "
   ]
  },
  {
   "cell_type": "code",
   "execution_count": 48,
   "metadata": {},
   "outputs": [],
   "source": [
    "# Write you solution here\n",
    "def draw_tic_tac_toe_board(matrix):\n",
    "    n = len(matrix)\n",
    "    horizontal = \" ---\"* n\n",
    "    \n",
    "    for i in range(n):\n",
    "        print(horizontal)\n",
    "        \n",
    "        for j in range(n):\n",
    "            symbol = \" \" #Default empty symbol\n",
    "            if matrix[i][j] == 1: #Player 1's move\n",
    "                symbol = \"X\" \n",
    "            elif matrix[i][j] == 2: #Player 2's move\n",
    "                symbol = \"O\"\n",
    "            print(f\"| {symbol}\", end=\" \") #Print cell          \n",
    "        print(\"|\") #Close row\n",
    "        \n",
    "    print(horizontal)"
   ]
  },
  {
   "cell_type": "code",
   "execution_count": 49,
   "metadata": {},
   "outputs": [
    {
     "name": "stdout",
     "output_type": "stream",
     "text": [
      " --- --- ---\n",
      "|   | X | O |\n",
      " --- --- ---\n",
      "| X |   | O |\n",
      " --- --- ---\n",
      "| O | X | X |\n",
      " --- --- ---\n"
     ]
    }
   ],
   "source": [
    "# Test your solution here\n",
    "test_matrix = [[0,1,2],\n",
    "          [1,0,2],\n",
    "          [2,1,1]]\n",
    "draw_tic_tac_toe_board(test_matrix)"
   ]
  },
  {
   "cell_type": "markdown",
   "metadata": {},
   "source": [
    "*Exercise 4:* Write a function that takes a `n` by `n` matrix representing a tic-tac-toe game, and returns -1, 0, 1, or 2 indicating the game is incomplete, the game is a draw, player 1 has won, or player 2 has one, respectively. Here are some example inputs you can use to test your code:"
   ]
  },
  {
   "cell_type": "code",
   "execution_count": 50,
   "metadata": {},
   "outputs": [],
   "source": [
    "# Write you solution here\n",
    "def check_winner(matrix):\n",
    "    n = len(matrix)\n",
    "\n",
    "    # Check rows for winner\n",
    "    for row in matrix:\n",
    "        if len(set(row)) == 1 and row[0] != 0:\n",
    "            return row[0]\n",
    "\n",
    "    # Check columns for winner\n",
    "    for j in range(n):\n",
    "        column = [matrix[i][j] for i in range(n)]\n",
    "        if len(set(column)) == 1 and column[0] != 0:\n",
    "            return column[0]\n",
    "\n",
    "    # Check diagonals\n",
    "    diagonal_1 = [matrix[i][i] for i in range(n)]\n",
    "    if len(set(diagonal_1)) == 1 and diagonal_1[0] != 0:\n",
    "        return diagonal_1[0]\n",
    "\n",
    "    diagonal_2 = [matrix[i][n - 1 - i] for i in range(n)]\n",
    "    if len(set(diagonal_2)) == 1 and diagonal_2[0] != 0:\n",
    "        return diagonal_2[0]\n",
    "\n",
    "    # Check if the game is incomplete\n",
    "    if any(0 in row for row in matrix):\n",
    "        return -1  # Incomplete\n",
    "\n",
    "    # If no winner and no empty spots\n",
    "    return 0  # Draw\n",
    "\n",
    "#Test cases\n",
    "cases = [\n",
    "    \n",
    "    [[0,0,2],\n",
    "     [2,1,0],\n",
    "     [0,2,1]], #incomplete game (-1)\n",
    "    \n",
    "    [[1,1,1],\n",
    "     [0,2,0],\n",
    "     [2,0,2]], #player 1 wins (1)\n",
    "    \n",
    "    \n",
    "    [[1,2,0],\n",
    "    [0,2,1],\n",
    "    [1,2,0]], #player 2 wins (2)\n",
    "    \n",
    "    \n",
    "    [[1,2,0],\n",
    "     [2,1,2],\n",
    "     [0,2,1]], #player 1 wins (1)\n",
    "    \n",
    "    #Draw\n",
    "    [[1,2,1],\n",
    "     [2,1,2],\n",
    "     [2,1,2]], #Draw (0)\n",
    "]       "
   ]
  },
  {
   "cell_type": "code",
   "execution_count": 51,
   "metadata": {
    "scrolled": true
   },
   "outputs": [
    {
     "name": "stdout",
     "output_type": "stream",
     "text": [
      "Cases 1 : -1\n",
      "Cases 2 : 1\n",
      "Cases 3 : 2\n",
      "Cases 4 : 1\n",
      "Cases 5 : 0\n"
     ]
    }
   ],
   "source": [
    "# Test your solution here\n",
    "\n",
    "for i, case in enumerate(cases, 1):\n",
    "    print(f\"Cases {i} : {check_winner(case)}\")"
   ]
  },
  {
   "cell_type": "markdown",
   "metadata": {},
   "source": [
    "*Exercise 5:* Write a function that takes a game board, player number, and `(x,y)` coordinates and places \"X\" or \"O\" in the correct location of the game board. Make sure that you only allow filling previously empty locations. Return `True` or `False` to indicate successful placement of \"X\" or \"O\"."
   ]
  },
  {
   "cell_type": "code",
   "execution_count": 52,
   "metadata": {},
   "outputs": [],
   "source": [
    "# Write you solution here\n",
    "def game_board_place_marker(matrix, player, x, y):\n",
    "    if x < 0 or x >= len(matrix) or y < 0  or y >= len(matrix):\n",
    "        return False\n",
    "        \n",
    "    if matrix[x][y] != 0: # check if position is already occupied.\n",
    "        return False\n",
    "        \n",
    "    matrix[x][y] = player\n",
    "    return True"
   ]
  },
  {
   "cell_type": "code",
   "execution_count": 53,
   "metadata": {
    "scrolled": true
   },
   "outputs": [
    {
     "name": "stdout",
     "output_type": "stream",
     "text": [
      "[0, 0, 0]\n",
      "[0, 1, 0]\n",
      "[0, 0, 2]\n",
      "\n",
      "Test 1: Valid move at (0,0)\n",
      "Success: True\n",
      "Board after move: \n",
      "[1, 0, 0]\n",
      "[0, 1, 0]\n",
      "[0, 0, 2]\n",
      "\n",
      "Test 2: Invalid move at (1,1) - already occupied\n",
      "Success: False\n",
      "Board after attempted move: \n",
      "[1, 0, 0]\n",
      "[0, 1, 0]\n",
      "[0, 0, 2]\n",
      "\n",
      "Test 3: Invalid move at (3,3) - out of bounds\n",
      "Success: False\n",
      "Board after attempted move: \n",
      "[1, 0, 0]\n",
      "[0, 1, 0]\n",
      "[0, 0, 2]\n",
      "\n",
      "Test 4: Valid move at (2,0,1)\n",
      "Success: True\n",
      "Board after move: \n",
      "[1, 2, 0]\n",
      "[0, 1, 0]\n",
      "[0, 0, 2]\n",
      "\n"
     ]
    }
   ],
   "source": [
    "# Test your solution here\n",
    "def Test():\n",
    "    matrix = [\n",
    "        [0,0,0],\n",
    "        [0,1,0],\n",
    "        [0,0,2]\n",
    "    ]\n",
    "\n",
    "    for row in matrix:\n",
    "        print(row)\n",
    "    print()\n",
    "\n",
    "    #Test 1: Valid move for player 1(X)\n",
    "    print(\"Test 1: Valid move at (0,0)\")\n",
    "    result = game_board_place_marker(matrix, 1,0,0)\n",
    "    \n",
    "    print(f\"Success: {result}\")\n",
    "    print(\"Board after move: \")\n",
    "    for row in matrix:\n",
    "        print(row)\n",
    "    print()\n",
    "    \n",
    "    # Test 2: Invalid move at (1,1) - occupied\n",
    "    print(\"Test 2: Invalid move at (1,1) - already occupied\")\n",
    "    result = game_board_place_marker(matrix, 2,1,1)\n",
    "    \n",
    "    print(f\"Success: {result}\")\n",
    "    print(\"Board after attempted move: \")\n",
    "    for row in matrix:\n",
    "        print(row)\n",
    "    print()\n",
    "\n",
    "    #Test 3: invalid move (out of bounds)\n",
    "    print(\"Test 3: Invalid move at (3,3) - out of bounds\")\n",
    "    result = game_board_place_marker(matrix, 1,3,3)\n",
    "    \n",
    "    print(f\"Success: {result}\")\n",
    "    print(\"Board after attempted move: \")\n",
    "    for row in matrix:\n",
    "        print(row)\n",
    "    print()\n",
    "\n",
    "    #Test 4: Valid move for player 2 (O)\n",
    "    print(\"Test 4: Valid move at (2,0,1)\")\n",
    "    result = game_board_place_marker(matrix, 2,0,1)\n",
    "    \n",
    "    print(f\"Success: {result}\")\n",
    "    print(\"Board after move: \")\n",
    "    for row in matrix:\n",
    "        print(row)\n",
    "    print()\n",
    "    \n",
    "Test()"
   ]
  },
  {
   "cell_type": "markdown",
   "metadata": {},
   "source": [
    "*Exercise 6:* Modify Exercise 3 to show column and row labels so that players can specify location using \"A2\" or \"C1\"."
   ]
  },
  {
   "cell_type": "code",
   "execution_count": 54,
   "metadata": {},
   "outputs": [],
   "source": [
    "# Write you solution here\n",
    "\n",
    "def draw_labeled_board(matrix):\n",
    "\n",
    "    rows = len(matrix)\n",
    "    cols = len(matrix[0])  # adjusted to support non square boards\n",
    "\n",
    "    # Column labels\n",
    "    print(\"    \" + \"    \".join(chr(65 + j) for j in range(cols)))\n",
    "    print(\"   \" + \" ---\" * cols + \"-\")\n",
    "\n",
    "    for i in range(rows):\n",
    "        print(f\" {i+1} \", end=\"\")  # Row labels\n",
    "\n",
    "        for j in range(cols):\n",
    "            symbol = \" \" if matrix[i][j] == 0 else (\"X\" if matrix[i][j] == 1 else \"O\")\n",
    "            print(f\"| {symbol} \", end=\"\")\n",
    "        print(\"|\")  # End row\n",
    "        print(\"   \" + \" ---\" * cols + \"-\")  # Row separator\n",
    "\n",
    "def test_labeled_board():\n",
    "    \n",
    "    print(\"Test 1: Empty 3x3 board\")\n",
    "    empty_board = [\n",
    "        [0,0,0],\n",
    "        [0,0,0],\n",
    "        [0,0,0]\n",
    "    ]\n",
    "    draw_labeled_board(empty_board)\n",
    "    print()\n",
    "\n",
    "    print(\"Test 2: Empty 3x3 with some moves\")\n",
    "    second_test = [\n",
    "        [1,0,2],\n",
    "        [0,1,0],\n",
    "        [2,0,1]\n",
    "    ]\n",
    "    draw_labeled_board(second_test)\n",
    "    print()\n",
    "\n",
    "    print(\"Test 3: Empty 4x4 with moves\")\n",
    "    third_board = [\n",
    "        [1,2,0,1],\n",
    "        [0,1,2,0],\n",
    "        [1,2,0,1]\n",
    "    ]\n",
    "    draw_labeled_board(third_board)\n",
    "    print()"
   ]
  },
  {
   "cell_type": "code",
   "execution_count": 55,
   "metadata": {},
   "outputs": [
    {
     "name": "stdout",
     "output_type": "stream",
     "text": [
      "Test 1: Empty 3x3 board\n",
      "    A    B    C\n",
      "    --- --- ----\n",
      " 1 |   |   |   |\n",
      "    --- --- ----\n",
      " 2 |   |   |   |\n",
      "    --- --- ----\n",
      " 3 |   |   |   |\n",
      "    --- --- ----\n",
      "\n",
      "Test 2: Empty 3x3 with some moves\n",
      "    A    B    C\n",
      "    --- --- ----\n",
      " 1 | X |   | O |\n",
      "    --- --- ----\n",
      " 2 |   | X |   |\n",
      "    --- --- ----\n",
      " 3 | O |   | X |\n",
      "    --- --- ----\n",
      "\n",
      "Test 3: Empty 4x4 with moves\n",
      "    A    B    C    D\n",
      "    --- --- --- ----\n",
      " 1 | X | O |   | X |\n",
      "    --- --- --- ----\n",
      " 2 |   | X | O |   |\n",
      "    --- --- --- ----\n",
      " 3 | X | O |   | X |\n",
      "    --- --- --- ----\n",
      "\n"
     ]
    }
   ],
   "source": [
    "# Test your solution here\n",
    "\n",
    "test_labeled_board()"
   ]
  },
  {
   "cell_type": "markdown",
   "metadata": {},
   "source": [
    "*Exercise 7:* Write a function that takes a board, player number, and location specified as in exercise 6 and then calls exercise 5 to correctly modify the board.  "
   ]
  },
  {
   "cell_type": "code",
   "execution_count": 56,
   "metadata": {},
   "outputs": [],
   "source": [
    "# Write you solution here\n",
    "def make_move (board, player, position):\n",
    "    \n",
    "    # Check if position format is valid\n",
    "    if len(position) < 2:\n",
    "        return False  # Too short to be a valid move\n",
    "    \n",
    "    try:\n",
    "        col_letter = position[0].upper()\n",
    "        row_number = int(position[1:]) - 1  # Convert 1 based to 0 based index\n",
    "        \n",
    "        # Convert column letter to index (A → 0, B → 1, C → 2, etc.)\n",
    "        col_index = ord(col_letter) - ord('A')\n",
    "        \n",
    "        # Ensure row and column indices are within board range\n",
    "        if not (0 <= row_number < len(board)) or not (0 <= col_index < len(board[0])):\n",
    "            return False  # Out of bounds\n",
    "\n",
    "        # Call place_marker function\n",
    "        return place_marker(board, player, row_number, col_index)\n",
    "    \n",
    "    except (ValueError, IndexError):\n",
    "        return False  # Handle non-numeric row input or out of bounds access\n",
    "\n",
    "# From Exercise 5\n",
    "def place_marker(board, player, x, y):\n",
    "    \"\"\"Places marker at coordinates if valid\"\"\"\n",
    "    if x < 0 or x >= len(board) or y < 0 or y >= len(board[0]):\n",
    "        return False  # Out of bounds\n",
    "    if board[x][y] != 0:\n",
    "        return False  # Position already occupied\n",
    "    board[x][y] = player\n",
    "    return True\n",
    "\n",
    "board = [[0,0,0],\n",
    "         [0,0,0],\n",
    "         [0,0,0]]\n"
   ]
  },
  {
   "cell_type": "code",
   "execution_count": 57,
   "metadata": {},
   "outputs": [
    {
     "name": "stdout",
     "output_type": "stream",
     "text": [
      "Testing make_move function:\n",
      "\n",
      "Test 1: Valid move 'B2' for player 1\n",
      "Move successful: True\n",
      "Board after move: [[0, 0, 0], [0, 1, 0], [0, 0, 0]]\n",
      "\n",
      "Test 2: Invalid move 'B2' (already taken)\n",
      "Move successful: False\n",
      "Board after move: [[0, 0, 0], [0, 1, 0], [0, 0, 0]]\n",
      "\n",
      "Test 3: Invalid position 'D4' (out of bounds)\n",
      "Move successful: False\n",
      "Board after move: [[0, 0, 0], [0, 1, 0], [0, 0, 0]]\n",
      "\n",
      "Test 4: Invalid input 'X9' (out of range)\n",
      "Move successful: False\n",
      "Board after move: [[0, 0, 0], [0, 1, 0], [0, 0, 0]]\n",
      "\n",
      "Test 5: Invalid input 'B' (incomplete position)\n",
      "Move successful: False\n",
      "Board after move: [[0, 0, 0], [0, 1, 0], [0, 0, 0]]\n",
      "\n",
      "Test 6: Invalid input 'B#' (non-numeric row)\n",
      "Move successful: False\n",
      "Board after move: [[0, 0, 0], [0, 1, 0], [0, 0, 0]]\n"
     ]
    }
   ],
   "source": [
    "# Test your solution here\n",
    "\n",
    "print(\"Testing make_move function:\")\n",
    "print(\"\\nTest 1: Valid move 'B2' for player 1\")\n",
    "result = make_move(board, 1, \"B2\")\n",
    "print(f\"Move successful: {result}\")\n",
    "print(\"Board after move:\", board)\n",
    "\n",
    "print(\"\\nTest 2: Invalid move 'B2' (already taken)\")\n",
    "result = make_move(board, 2, \"B2\")\n",
    "print(f\"Move successful: {result}\")\n",
    "print(\"Board after move:\", board)\n",
    "\n",
    "print(\"\\nTest 3: Invalid position 'D4' (out of bounds)\")\n",
    "result = make_move(board, 1, \"D4\")\n",
    "print(f\"Move successful: {result}\")\n",
    "print(\"Board after move:\", board)\n",
    "\n",
    "print(\"\\nTest 4: Invalid input 'X9' (out of range)\")\n",
    "result = make_move(board, 1, \"X9\")\n",
    "print(f\"Move successful: {result}\")\n",
    "print(\"Board after move:\", board)\n",
    "\n",
    "print(\"\\nTest 5: Invalid input 'B' (incomplete position)\")\n",
    "result = make_move(board, 1, \"B\")\n",
    "print(f\"Move successful: {result}\")\n",
    "print(\"Board after move:\", board)\n",
    "\n",
    "print(\"\\nTest 6: Invalid input 'B#' (non-numeric row)\")\n",
    "result = make_move(board, 1, \"B#\")\n",
    "print(f\"Move successful: {result}\")\n",
    "print(\"Board after move:\", board)"
   ]
  },
  {
   "cell_type": "markdown",
   "metadata": {},
   "source": [
    "*Exercise 8:* Write a function is called with a board and player number, takes input from the player using python's `input`, and modifies the board using your function from exercise 7. Note that you should keep asking for input until you have gotten a valid input that results in a valid move."
   ]
  },
  {
   "cell_type": "code",
   "execution_count": 60,
   "metadata": {},
   "outputs": [],
   "source": [
    "# Write you solution here\n",
    "\n",
    "def player_move(board, player):\n",
    "    while True:\n",
    "        move = input(f\"Player {player}, enter your move (e.g, A1, B2): \").strip().upper()\n",
    "\n",
    "        # Attempt to place the marker using make_move from exercise 7\n",
    "        if make_move(board, player, move):\n",
    "            print(f\"Move accepted: {move}\")\n",
    "            break\n",
    "        else:\n",
    "            print(\"Invalid move. Please try again.\")\n",
    "# Example \n",
    "board = [[0,0,0],\n",
    "         [0,0,0],\n",
    "         [0,0,0],]"
   ]
  },
  {
   "cell_type": "code",
   "execution_count": 61,
   "metadata": {},
   "outputs": [
    {
     "name": "stdin",
     "output_type": "stream",
     "text": [
      "Player 1, enter your move (e.g, A1, B2):  d5\n"
     ]
    },
    {
     "name": "stdout",
     "output_type": "stream",
     "text": [
      "Invalid move. Please try again.\n"
     ]
    },
    {
     "name": "stdin",
     "output_type": "stream",
     "text": [
      "Player 1, enter your move (e.g, A1, B2):  j7\n"
     ]
    },
    {
     "name": "stdout",
     "output_type": "stream",
     "text": [
      "Invalid move. Please try again.\n"
     ]
    },
    {
     "name": "stdin",
     "output_type": "stream",
     "text": [
      "Player 1, enter your move (e.g, A1, B2):  g5\n"
     ]
    },
    {
     "name": "stdout",
     "output_type": "stream",
     "text": [
      "Invalid move. Please try again.\n"
     ]
    },
    {
     "name": "stdin",
     "output_type": "stream",
     "text": [
      "Player 1, enter your move (e.g, A1, B2):  b4\n"
     ]
    },
    {
     "name": "stdout",
     "output_type": "stream",
     "text": [
      "Invalid move. Please try again.\n"
     ]
    },
    {
     "name": "stdin",
     "output_type": "stream",
     "text": [
      "Player 1, enter your move (e.g, A1, B2):  b3\n"
     ]
    },
    {
     "name": "stdout",
     "output_type": "stream",
     "text": [
      "Move accepted: B3\n",
      "Update Board: \n",
      "[0, 0, 0]\n",
      "[0, 0, 0]\n",
      "[0, 1, 0]\n"
     ]
    }
   ],
   "source": [
    "# Test your solution here\n",
    "player_move(board, 1)\n",
    "\n",
    "# print the board after a valid move\n",
    "print(\"Update Board: \")\n",
    "for row in board:\n",
    "    print(row)"
   ]
  },
  {
   "cell_type": "markdown",
   "metadata": {},
   "source": [
    "*Exercise 9:* Use all of the previous exercises to implement a full tic-tac-toe game, where an appropriate board is drawn, 2 players are repeatedly asked for a location coordinates of where they wish to place a mark, and the game status is checked until a player wins or a draw occurs."
   ]
  },
  {
   "cell_type": "code",
   "execution_count": 62,
   "metadata": {},
   "outputs": [],
   "source": [
    "# Test your solution here\n",
    "def display_board(board):\n",
    "    size = len(board)\n",
    "     \n",
    "    # Print column labels (A - C for 3x3)\n",
    "    print(\"    \" + \"   \".join(chr(65 + i) for i in range(size)))  # Column labels\n",
    "    \n",
    "    # Print the top border\n",
    "    print(\"  -\" + \"----\" * size)\n",
    "    \n",
    "    for i, row in enumerate(board):\n",
    "        # Print the row number and the cells with vertical borders\n",
    "        print(f\"{i + 1} |\", end=\"\")\n",
    "        for cell in row:\n",
    "            symbol = \" X \" if cell == 1 else \" O \" if cell == 2 else \"   \"  # Cell content\n",
    "            print(symbol, end=\"|\")\n",
    "        print()  # End of the row\n",
    "        \n",
    "        # Print the horizontal border after each row\n",
    "        print(\"  -\" + \"----\" * size)\n",
    "        \n",
    "# Check for winner\n",
    "def check_winner(board, player):\n",
    "    size = len(board)\n",
    "\n",
    "    # Check rows and columns\n",
    "    for i in range(size):\n",
    "        if all(board[i][j] == player for j in range(size)):  # Check row\n",
    "            return True\n",
    "        if all(board[j][i] == player for j in range(size)):  # Check column\n",
    "            return True\n",
    "\n",
    "    # Check diagonals\n",
    "    if all(board[i][i] == player for i in range(size)):  # main diagonal\n",
    "        return True\n",
    "    if all(board[i][size - 1 - i] == player for i in range(size)):  # anti-diagonal\n",
    "        return True\n",
    "\n",
    "    return False\n",
    "\n",
    "# Function to check if the board is full (draw)\n",
    "def is_draw(board):\n",
    "    return all(cell != 0 for row in board for cell in row)\n",
    "\n",
    "# Handles player moves\n",
    "def make_move(board, player, position):\n",
    "    size = len(board)\n",
    "    if len(position) < 2:\n",
    "        return False  # Too short to be a valid move\n",
    "\n",
    "    try:\n",
    "        col_letter = position[0].upper()\n",
    "        row_number = int(position[1:]) - 1  # convert 1 based to 0 based index\n",
    "\n",
    "        # Convert column letter to index (A → 0, B → 1, C → 2, etc.)\n",
    "        col_index = ord(col_letter) - ord('A')\n",
    "\n",
    "        # Ensure row and column indices are within board range\n",
    "        if not (0 <= row_number < size) or not (0 <= col_index < size):\n",
    "            return False  # Out of bounds\n",
    "\n",
    "        # Check if the position is already occupied\n",
    "        if board[row_number][col_index] != 0:\n",
    "            return False\n",
    "\n",
    "        board[row_number][col_index] = player  # Place the mark\n",
    "        return True\n",
    "\n",
    "    except (ValueError, IndexError):\n",
    "        return False  # Handle non-numeric row input or out of ounds access\n",
    "\n",
    "# Player input loop\n",
    "def player_move(board, player):\n",
    "    while True:\n",
    "        move = input(f\"Player {player} ({'X' if player == 1 else 'O'}), enter your move (e.g., A1, B2): \").strip().upper()\n",
    "        if make_move(board, player, move):\n",
    "            return  # Exit once a valid move is made\n",
    "        else:\n",
    "            print(\"Invalid move. Try again.\")\n",
    "\n",
    "# Tic-Tac-Toe game loop\n",
    "def play_tic_tac_toe(size=3):\n",
    "    board = [[0 for _ in range(size)] for _ in range(size)]  # create an empty board\n",
    "    current_player = 1  # Player 1 starts\n",
    "\n",
    "    while True:\n",
    "        display_board(board)  # Show board\n",
    "        player_move(board, current_player)  # Get player move\n",
    "\n",
    "        # Check win condition\n",
    "        if check_winner(board, current_player):\n",
    "            display_board(board)\n",
    "            print(f\"Player {current_player} ({'X' if current_player == 1 else 'O'}) wins!\")\n",
    "            break\n",
    "\n",
    "        # Check draw condition\n",
    "        if is_draw(board):\n",
    "            display_board(board)\n",
    "            print(\"It's a draw!\")\n",
    "            break\n",
    "\n",
    "        # Switch player\n",
    "        current_player = 2 if current_player == 1 else 1\n"
   ]
  },
  {
   "cell_type": "code",
   "execution_count": null,
   "metadata": {},
   "outputs": [
    {
     "name": "stdout",
     "output_type": "stream",
     "text": [
      "    A   B   C\n",
      "  -------------\n",
      "1 |   |   |   |\n",
      "  -------------\n",
      "2 |   |   |   |\n",
      "  -------------\n",
      "3 |   |   |   |\n",
      "  -------------\n"
     ]
    },
    {
     "name": "stdin",
     "output_type": "stream",
     "text": [
      "Player 1 (X), enter your move (e.g., A1, B2):  a1\n"
     ]
    },
    {
     "name": "stdout",
     "output_type": "stream",
     "text": [
      "    A   B   C\n",
      "  -------------\n",
      "1 | X |   |   |\n",
      "  -------------\n",
      "2 |   |   |   |\n",
      "  -------------\n",
      "3 |   |   |   |\n",
      "  -------------\n"
     ]
    },
    {
     "name": "stdin",
     "output_type": "stream",
     "text": [
      "Player 2 (O), enter your move (e.g., A1, B2):  b2\n"
     ]
    },
    {
     "name": "stdout",
     "output_type": "stream",
     "text": [
      "    A   B   C\n",
      "  -------------\n",
      "1 | X |   |   |\n",
      "  -------------\n",
      "2 |   | O |   |\n",
      "  -------------\n",
      "3 |   |   |   |\n",
      "  -------------\n"
     ]
    }
   ],
   "source": [
    "# Test your solution here\n",
    "\n",
    "# START GAME\n",
    "play_tic_tac_toe(size=3)"
   ]
  },
  {
   "cell_type": "markdown",
   "metadata": {},
   "source": [
    "*Exercise 10:* Test that your game works for 5x5 Tic Tac Toe.  "
   ]
  },
  {
   "cell_type": "code",
   "execution_count": null,
   "metadata": {},
   "outputs": [],
   "source": [
    "# Test your solution here\n",
    "def display_board(board):\n",
    "    size = len(board)\n",
    "     \n",
    "    # Print column labels (A, B, C, D, E for 5x5)\n",
    "    print(\"   \" + \"   \".join(chr(65 + i) for i in range(size)))  # Column labels\n",
    "    \n",
    "    # Print the top border\n",
    "    print(\"  -\" + \"----\" * size)\n",
    "    \n",
    "    for i, row in enumerate(board):\n",
    "        # Print the row number and the cells with vertical borders\n",
    "        print(f\"{i + 1} |\", end=\"\")\n",
    "        for cell in row:\n",
    "            symbol = \" X \" if cell == 1 else \" O \" if cell == 2 else \"   \"  # Cell content\n",
    "            print(symbol, end=\"|\")\n",
    "        print()  # End of the row\n",
    "        \n",
    "        # Print the horizontal border after each row\n",
    "        print(\"  -\" + \"----\" * size)\n",
    "        \n",
    "# Check for winner\n",
    "def check_winner(board, player):\n",
    "    size = len(board)\n",
    "\n",
    "    # Check rows and columns\n",
    "    for i in range(size):\n",
    "        if all(board[i][j] == player for j in range(size)):  # Check row\n",
    "            return True\n",
    "        if all(board[j][i] == player for j in range(size)):  # Check column\n",
    "            return True\n",
    "\n",
    "    # Check diagonals\n",
    "    if all(board[i][i] == player for i in range(size)):  # main diagonal\n",
    "        return True\n",
    "    if all(board[i][size - 1 - i] == player for i in range(size)):  # anti-diagonal\n",
    "        return True\n",
    "\n",
    "    return False\n",
    "\n",
    "# Function to check if the board is full (draw)\n",
    "def is_draw(board):\n",
    "    return all(cell != 0 for row in board for cell in row)\n",
    "\n",
    "# Handles player moves\n",
    "def make_move(board, player, position):\n",
    "    size = len(board)\n",
    "    if len(position) < 2:\n",
    "        return False  # Too short to be a valid move\n",
    "\n",
    "    try:\n",
    "        col_letter = position[0].upper()\n",
    "        row_number = int(position[1:]) - 1  # convert 1 based to 0 based index\n",
    "\n",
    "        # convert column letter to index (A → 0, B → 1, C → 2, etc.)\n",
    "        col_index = ord(col_letter) - ord('A')\n",
    "\n",
    "        # Ensure row and column indices are within board range\n",
    "        if not (0 <= row_number < size) or not (0 <= col_index < size):\n",
    "            return False  # Out of bounds\n",
    "\n",
    "        # Check if the position is already occupied\n",
    "        if board[row_number][col_index] != 0:\n",
    "            return False\n",
    "\n",
    "        board[row_number][col_index] = player  # Place the mark\n",
    "        return True\n",
    "\n",
    "    except (ValueError, IndexError):\n",
    "        return False  # Handle non numeric row input or out of ounds access\n",
    "\n",
    "# Player input loop\n",
    "def player_move(board, player):\n",
    "    while True:\n",
    "        move = input(f\"Player {player} ({'X' if player == 1 else 'O'}), enter your move (e.g., A1, B2): \").strip().upper()\n",
    "        if make_move(board, player, move):\n",
    "            return  # Exit once a valid move is made\n",
    "        else:\n",
    "            print(\"Invalid move. Try again.\")\n",
    "\n",
    "# Tic-Tac-Toe game loop\n",
    "def play_tic_tac_toe(size=5):\n",
    "    board = [[0 for _ in range(size)] for _ in range(size)]  # create an empty board\n",
    "    current_player = 1  # Player 1 starts\n",
    "\n",
    "    while True:\n",
    "        display_board(board)  # Show board\n",
    "        player_move(board, current_player)  # Get player move\n",
    "\n",
    "        # Check win condition\n",
    "        if check_winner(board, current_player):\n",
    "            display_board(board)\n",
    "            print(f\"Player {current_player} ({'X' if current_player == 1 else 'O'}) wins!\")\n",
    "            break\n",
    "\n",
    "        # Check draw condition\n",
    "        if is_draw(board):\n",
    "            display_board(board)\n",
    "            print(\"It's a draw!\")\n",
    "            break\n",
    "\n",
    "        # Switch player\n",
    "        current_player = 2 if current_player == 1 else 1\n",
    "\n",
    "# START GAME\n",
    "play_tic_tac_toe(size=5)\n"
   ]
  },
  {
   "cell_type": "markdown",
   "metadata": {},
   "source": [
    "*Exercise 11:* (Advanced / Challenge) Develop a version of the game where one player is the computer. Note that you don't need to do an extensive seach for the best move. You can have the computer simply protect against loosing and otherwise try to win with straight or diagonal patterns."
   ]
  },
  {
   "cell_type": "code",
   "execution_count": null,
   "metadata": {},
   "outputs": [],
   "source": [
    "# Write you solution here"
   ]
  },
  {
   "cell_type": "code",
   "execution_count": null,
   "metadata": {},
   "outputs": [],
   "source": [
    "# Test your solution here"
   ]
  }
 ],
 "metadata": {
  "kernelspec": {
   "display_name": "Python 3 (ipykernel)",
   "language": "python",
   "name": "python3"
  },
  "language_info": {
   "codemirror_mode": {
    "name": "ipython",
    "version": 3
   },
   "file_extension": ".py",
   "mimetype": "text/x-python",
   "name": "python",
   "nbconvert_exporter": "python",
   "pygments_lexer": "ipython3",
   "version": "3.10.12"
  }
 },
 "nbformat": 4,
 "nbformat_minor": 4
}
