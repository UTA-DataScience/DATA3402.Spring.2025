{
 "cells": [
  {
   "cell_type": "markdown",
   "metadata": {},
   "source": [
    "#Lab 2- Tic Tac Toe\n",
    "import random"
   ]
  },
  {
   "cell_type": "markdown",
   "metadata": {},
   "source": [
    "Exercise 1: Write a function that creates an n by n matrix (of list of lists) which will represent the state of a Tic Tac Toe game. Let 0, 1, and 2 represent empty, \"X\", and \"O\", respectively."
   ]
  },
  {
   "cell_type": "code",
   "execution_count": 3,
   "metadata": {},
   "outputs": [],
   "source": [
    "import random\n",
    "import string"
   ]
  },
  {
   "cell_type": "code",
   "execution_count": 4,
   "metadata": {},
   "outputs": [
    {
     "name": "stdout",
     "output_type": "stream",
     "text": [
      "[0, 0, 0]\n",
      "[0, 0, 0]\n",
      "[0, 0, 0]\n"
     ]
    }
   ],
   "source": [
    "def create_board(n, value = 0):\n",
    "    return [ [value for _ in range(n)] for _ in range(n)]\n",
    "\n",
    "standard_board = create_board(3, value = 0)\n",
    "\n",
    "for row in standard_board:\n",
    "    print(row)\n"
   ]
  },
  {
   "cell_type": "markdown",
   "metadata": {},
   "source": [
    "Exercise 2: Write a function that takes 2 integers n and m as input and draws a n by m game board. For example the following is a 3x3 board:"
   ]
  },
  {
   "cell_type": "code",
   "execution_count": 15,
   "metadata": {},
   "outputs": [
    {
     "name": "stdout",
     "output_type": "stream",
     "text": [
      "[0, 0, 0]\n",
      "[0, 0, 0]\n",
      "[0, 0, 0]\n"
     ]
    }
   ],
   "source": [
    "def game_board(value = 0):\n",
    "    n = int(input(\"Please enter your value for n: \"))\n",
    "    m = int(input(\"Please enter your value for m: \"))\n",
    "    return [ [value for _ in range(n)] for _ in range(m)]\n",
    "\n",
    "my_board = game_board()\n",
    "\n",
    "for row in my_board:\n",
    "    print(row)"
   ]
  },
  {
   "cell_type": "markdown",
   "metadata": {},
   "source": [
    "Exercise 3: Modify exercise 2, so that it takes a matrix of the form from exercise 1 and draws a tic-tac-tie board with \"X\"s and \"O\"s."
   ]
  },
  {
   "cell_type": "code",
   "execution_count": 14,
   "metadata": {},
   "outputs": [
    {
     "name": "stdout",
     "output_type": "stream",
     "text": [
      "['O', 'X', 'O']\n",
      "['X', 'O', 'X']\n",
      "['O', 'X', 'O']\n"
     ]
    }
   ],
   "source": [
    "def game_board(value = [\"O\", \"X\"]):\n",
    "    n = int(input(\"Please enter your value for n: \"))\n",
    "    m = int(input(\"Please enter your value for m: \"))\n",
    "    return [[value[(i * m + j) % len(value)] for j in range(m)] for i in range(n)]\n",
    "\n",
    "my_board = game_board()\n",
    "\n",
    "for row in my_board:\n",
    "    print(row)"
   ]
  },
  {
   "cell_type": "markdown",
   "metadata": {},
   "source": [
    "Exercise 4: Write a function that takes a n by n matrix representing a tic-tac-toe game, and returns -1, 0, 1, or 2 indicating the game is incomplete, the game is a draw, player 1 has won, or player 2 has won, respectively. Here are some example inputs you can use to test your code:"
   ]
  },
  {
   "cell_type": "code",
   "execution_count": 19,
   "metadata": {},
   "outputs": [],
   "source": [
    "def check_game_board(board):\n",
    "    n = len(board) # setting n equal to the dimensions of the matrix.\n",
    "    for i in range(n):\n",
    "        if all(board[i][0] != 0 and board[i][j] == board[i][0] for j in range(n)): # Check the rows\n",
    "            return board[i][0]\n",
    "        if all(board[0][i] != 0 and board[j][i] == board[0][i] for j in range(n)): # Check the columns\n",
    "            return board[0][i]\n",
    "        if all(board[0][0] != 0 and board[i][i] == board[0][0] for i in range(n)): # Check the diagonal from top left to bottom right\n",
    "            return board[0][0]\n",
    "        if all(board[0][n-1] != 0 and board[i][n-1-i] == board[0][n-1] for i in range(n)): # Check the diagonal from top right to bottom left\n",
    "            return board[0][n-1]\n",
    "        if any(board[i][j] == 0 for i in range(n) for j in range(n)): # Check for any empty entries in the matrix\n",
    "            return -1\n",
    "        return 0 # Draw condition if all else fails."
   ]
  },
  {
   "cell_type": "code",
   "execution_count": 29,
   "metadata": {},
   "outputs": [],
   "source": [
    "winner_is_2 = [[2, 2, 0],\n",
    "\t[2, 1, 0],\n",
    "\t[2, 1, 1]]\n",
    "\n",
    "winner_is_1 = [[1, 2, 0],\n",
    "\t[2, 1, 0],\n",
    "\t[2, 1, 1]]\n",
    "\n",
    "\n",
    "winner_is_also_1 = [[0, 1, 0],\n",
    "\t[2, 1, 0],\n",
    "\t[2, 1, 1]]\n",
    "\n",
    "\n",
    "no_winner = [[1, 2, 0],\n",
    "\t[2, 1, 0],\n",
    "\t[2, 1, 2]]\n",
    "\n",
    "\n",
    "also_no_winner = [[1, 2, 0],\n",
    "\t[2, 1, 0],\n",
    "\t[2, 1, 0]]\n",
    "\n"
   ]
  },
  {
   "cell_type": "markdown",
   "metadata": {},
   "source": [
    "Exercise 5: Write a function that takes a game board, player number, and (x,y) coordinates and places \"X\" or \"O\" in the correct location of the game board. Make sure that you only allow filling previously empty locations. Return True or False to indicate successful placement of \"X\" or \"O\"."
   ]
  },
  {
   "cell_type": "code",
   "execution_count": 16,
   "metadata": {},
   "outputs": [],
   "source": [
    "def play_game(game_board, player, x, y):\n",
    "    n = len(board) # setting n equal to the dimensions of the matrix.\n",
    "    if not (0 <= x < n and 0 <= y < n): # Checking if the move is possible\n",
    "        print(\"Error: This move is out of bounds.\")\n",
    "        return False\n",
    "    if board[x][y] == 0: # Checking if the space is free\n",
    "        board[x][y] = \"X\" if player == 1 else \"O\"\n",
    "        return True\n",
    "    else: # Error message if the space is not free\n",
    "        print(\"Error: This space is already occupied.\")\n",
    "        return False\n",
    "    \n"
   ]
  },
  {
   "cell_type": "markdown",
   "metadata": {},
   "source": [
    "Exercise 6: Modify Exercise 3 to show column and row labels so that players can specify location using \"A2\" or \"C1\"."
   ]
  },
  {
   "cell_type": "code",
   "execution_count": 6,
   "metadata": {},
   "outputs": [
    {
     "name": "stdout",
     "output_type": "stream",
     "text": [
      "   A   B   C\n",
      "1 O | X | O\n",
      "  ---+---+---\n",
      "2 X | O | X\n",
      "  ---+---+---\n",
      "3 O | X | O\n"
     ]
    }
   ],
   "source": [
    "import string\n",
    "\n",
    "def game_board(value=[\"O\", \"X\"]):\n",
    "    n = int(input(\"Please enter your value for n: \"))\n",
    "    m = int(input(\"Please enter your value for m: \"))\n",
    "\n",
    "    board = [[value[(i * m + j) % len(value)] for j in range(m)] for i in range(n)]\n",
    "    \n",
    "    # Print column labels (A, B, C...)\n",
    "    columns = \"   \" + \"   \".join(string.ascii_uppercase[:m])\n",
    "    print(columns)\n",
    "\n",
    "    for i in range(n):\n",
    "        row_label = f\"{i+1} \"  # Row labels (1, 2, 3, ...)\n",
    "        row_content = \" | \".join(board[i])  # Convert list to formatted string\n",
    "        print(row_label + row_content)\n",
    "        if i < n - 1:\n",
    "            print(\"  \" + \"---+\" * (m - 1) + \"---\")  # Row separators\n",
    "    \n",
    "    return board\n",
    "\n",
    "my_board = game_board()"
   ]
  },
  {
   "cell_type": "markdown",
   "metadata": {},
   "source": [
    "Exercise 7: Write a function that takes a board, player number, and location specified as in exercise 6 and then calls exercise 5 to correctly modify the board."
   ]
  },
  {
   "cell_type": "code",
   "execution_count": 28,
   "metadata": {},
   "outputs": [],
   "source": [
    "import string\n",
    "\n",
    "def game_board():\n",
    "    n = int(input(\"Please enter your value for n: \"))\n",
    "    m = int(input(\"Please enter your value for m: \"))\n",
    "\n",
    "    # Generate empty board filled with 0s\n",
    "    board = [[0 for _ in range(m)] for _ in range(n)]\n",
    "    print_board(board)\n",
    "    \n",
    "    return board\n",
    "\n",
    "def print_board(board):\n",
    "    n, m = len(board), len(board[0])\n",
    "    columns = \"   \" + \"   \".join(string.ascii_uppercase[:m])  # Column labels (A, B, C...)\n",
    "    print(columns)\n",
    "\n",
    "    for i in range(n):\n",
    "        row_label = f\"{i+1} \"  # Row numbers (1, 2, 3, ...)\n",
    "        row_content = \" | \".join(str(cell) if cell != 0 else \" \" for cell in board[i])\n",
    "        print(row_label + row_content)\n",
    "        if i < n - 1:\n",
    "            print(\"  \" + \"---+\" * (m - 1) + \"---\")  # Row separators\n",
    "\n",
    "def play_game(board, player, position):\n",
    "    n, m = len(board), len(board[0])  # Get board dimensions\n",
    "    letters = string.ascii_uppercase[:m]  # Column labels (A, B, C, ...)\n",
    "\n",
    "    # Validate input format (e.g., \"A1\", \"C2\")\n",
    "    if len(position) < 2 or position[0] not in letters or not position[1:].isdigit():\n",
    "        print(\"Error: Invalid move format. Use A1, B2, etc.\")\n",
    "        return False\n",
    "    \n",
    "    col = letters.index(position[0])  # Convert column letter to index\n",
    "    row = int(position[1:]) - 1  # Convert row number to index \n",
    "\n",
    "    # Check if move is out of bounds\n",
    "    if not (0 <= row < n and 0 <= col < m):\n",
    "        print(\"Error: This move is out of bounds.\")\n",
    "        return False\n",
    "\n",
    "    # Check if the space is free\n",
    "    if board[row][col] != 0:\n",
    "        print(\"Error: This space is already occupied.\")\n",
    "        return False\n",
    "\n",
    "    # Place the move\n",
    "    board[row][col] = \"X\" if player == 1 else \"O\"\n",
    "\n",
    "    # Print updated board\n",
    "    print_board(board)\n",
    "    return True"
   ]
  },
  {
   "cell_type": "code",
   "execution_count": 32,
   "metadata": {},
   "outputs": [
    {
     "name": "stdout",
     "output_type": "stream",
     "text": [
      "   A   B   C\n",
      "1   |   |  \n",
      "  ---+---+---\n",
      "2   |   |  \n",
      "  ---+---+---\n",
      "3   |   |  \n",
      "   A   B   C\n",
      "1   |   |  \n",
      "  ---+---+---\n",
      "2   | X |  \n",
      "  ---+---+---\n",
      "3   |   |  \n"
     ]
    }
   ],
   "source": [
    "board = game_board()\n",
    "play_game1(board, 1, \"B2\")  # Player 1 places \"X\" at B2\n",
    "print_board(board)"
   ]
  },
  {
   "cell_type": "markdown",
   "metadata": {},
   "source": [
    "Exercise 8: Write a function is called with a board and player number, takes input from the player using python's input, and modifies the board using your function from exercise 7. Note that you should keep asking for input until you have gotten a valid input that results in a valid move."
   ]
  },
  {
   "cell_type": "code",
   "execution_count": 33,
   "metadata": {},
   "outputs": [],
   "source": [
    "def player_turn(board, player):\n",
    "    while True:\n",
    "        position = input(f\"Player {player} ({'X' if player == 1 else 'O'}), enter your move (e.g., A1, B2): \").upper()\n",
    "\n",
    "        if position.lower() == \"quit\":\n",
    "            print(\"Game ended.\")\n",
    "            return False  # Return False to indicate game termination\n",
    "\n",
    "        success = play_game(board, player, position)\n",
    "\n",
    "        if success:\n",
    "            return True  # Move was successful"
   ]
  },
  {
   "cell_type": "code",
   "execution_count": 37,
   "metadata": {},
   "outputs": [
    {
     "name": "stdout",
     "output_type": "stream",
     "text": [
      "   A   B   C\n",
      "1   |   |  \n",
      "  ---+---+---\n",
      "2   |   |  \n",
      "  ---+---+---\n",
      "3   |   |  \n",
      "   A   B   C\n",
      "1 X |   |  \n",
      "  ---+---+---\n",
      "2   |   |  \n",
      "  ---+---+---\n",
      "3   |   |  \n",
      "   A   B   C\n",
      "1 X |   |  \n",
      "  ---+---+---\n",
      "2   | O |  \n",
      "  ---+---+---\n",
      "3   |   |  \n"
     ]
    },
    {
     "data": {
      "text/plain": [
       "True"
      ]
     },
     "execution_count": 37,
     "metadata": {},
     "output_type": "execute_result"
    }
   ],
   "source": [
    "board = game_board()  # Create an empty game board\n",
    "player_turn(board, 1)  # Player 1's turn\n",
    "player_turn(board, 2)  # Player 2's turn"
   ]
  },
  {
   "cell_type": "markdown",
   "metadata": {},
   "source": [
    "Exercise 9: Use all of the previous exercises to implement a full tic-tac-toe game, where an appropriate board is drawn, 2 players are repeatedly asked for a location coordinates of where they wish to place a mark, and the game status is checked until a player wins or a draw occurs."
   ]
  },
  {
   "cell_type": "code",
   "execution_count": 39,
   "metadata": {},
   "outputs": [
    {
     "name": "stdout",
     "output_type": "stream",
     "text": [
      "   A   B   C   D   E\n",
      "1 _ | _ | _ | _ | _\n",
      "  ---+---+---+---+---\n",
      "2 _ | _ | _ | _ | _\n",
      "  ---+---+---+---+---\n",
      "3 _ | _ | _ | _ | _\n",
      "  ---+---+---+---+---\n",
      "4 _ | _ | _ | _ | _\n",
      "  ---+---+---+---+---\n",
      "5 _ | _ | _ | _ | _\n",
      "\n",
      "\n",
      "   A   B   C   D   E\n",
      "1 X | _ | _ | _ | _\n",
      "  ---+---+---+---+---\n",
      "2 _ | _ | _ | _ | _\n",
      "  ---+---+---+---+---\n",
      "3 _ | _ | _ | _ | _\n",
      "  ---+---+---+---+---\n",
      "4 _ | _ | _ | _ | _\n",
      "  ---+---+---+---+---\n",
      "5 _ | _ | _ | _ | _\n",
      "\n",
      "\n",
      "   A   B   C   D   E\n",
      "1 X | O | _ | _ | _\n",
      "  ---+---+---+---+---\n",
      "2 _ | _ | _ | _ | _\n",
      "  ---+---+---+---+---\n",
      "3 _ | _ | _ | _ | _\n",
      "  ---+---+---+---+---\n",
      "4 _ | _ | _ | _ | _\n",
      "  ---+---+---+---+---\n",
      "5 _ | _ | _ | _ | _\n",
      "\n",
      "\n",
      "   A   B   C   D   E\n",
      "1 X | O | _ | _ | _\n",
      "  ---+---+---+---+---\n",
      "2 X | _ | _ | _ | _\n",
      "  ---+---+---+---+---\n",
      "3 _ | _ | _ | _ | _\n",
      "  ---+---+---+---+---\n",
      "4 _ | _ | _ | _ | _\n",
      "  ---+---+---+---+---\n",
      "5 _ | _ | _ | _ | _\n",
      "\n",
      "\n",
      "   A   B   C   D   E\n",
      "1 X | O | _ | _ | _\n",
      "  ---+---+---+---+---\n",
      "2 X | O | _ | _ | _\n",
      "  ---+---+---+---+---\n",
      "3 _ | _ | _ | _ | _\n",
      "  ---+---+---+---+---\n",
      "4 _ | _ | _ | _ | _\n",
      "  ---+---+---+---+---\n",
      "5 _ | _ | _ | _ | _\n",
      "\n",
      "\n",
      "   A   B   C   D   E\n",
      "1 X | O | _ | _ | _\n",
      "  ---+---+---+---+---\n",
      "2 X | O | _ | _ | _\n",
      "  ---+---+---+---+---\n",
      "3 X | _ | _ | _ | _\n",
      "  ---+---+---+---+---\n",
      "4 _ | _ | _ | _ | _\n",
      "  ---+---+---+---+---\n",
      "5 _ | _ | _ | _ | _\n",
      "\n",
      "\n",
      "   A   B   C   D   E\n",
      "1 X | O | _ | _ | _\n",
      "  ---+---+---+---+---\n",
      "2 X | O | _ | _ | _\n",
      "  ---+---+---+---+---\n",
      "3 X | O | _ | _ | _\n",
      "  ---+---+---+---+---\n",
      "4 _ | _ | _ | _ | _\n",
      "  ---+---+---+---+---\n",
      "5 _ | _ | _ | _ | _\n",
      "\n",
      "\n",
      "   A   B   C   D   E\n",
      "1 X | O | _ | _ | _\n",
      "  ---+---+---+---+---\n",
      "2 X | O | _ | _ | _\n",
      "  ---+---+---+---+---\n",
      "3 X | O | _ | _ | _\n",
      "  ---+---+---+---+---\n",
      "4 X | _ | _ | _ | _\n",
      "  ---+---+---+---+---\n",
      "5 _ | _ | _ | _ | _\n",
      "\n",
      "\n",
      "   A   B   C   D   E\n",
      "1 X | O | _ | _ | _\n",
      "  ---+---+---+---+---\n",
      "2 X | O | _ | _ | _\n",
      "  ---+---+---+---+---\n",
      "3 X | O | _ | _ | _\n",
      "  ---+---+---+---+---\n",
      "4 X | O | _ | _ | _\n",
      "  ---+---+---+---+---\n",
      "5 _ | _ | _ | _ | _\n",
      "\n",
      "\n",
      "   A   B   C   D   E\n",
      "1 X | O | _ | _ | _\n",
      "  ---+---+---+---+---\n",
      "2 X | O | _ | _ | _\n",
      "  ---+---+---+---+---\n",
      "3 X | O | _ | _ | _\n",
      "  ---+---+---+---+---\n",
      "4 X | O | _ | _ | _\n",
      "  ---+---+---+---+---\n",
      "5 X | _ | _ | _ | _\n",
      "\n",
      "\n",
      "Player 1 (X) wins!\n"
     ]
    }
   ],
   "source": [
    "import string\n",
    "def game_board():\n",
    "    n = int(input(\"Please enter your value for n: \"))\n",
    "    m = int(input(\"Please enter your value for m: \"))\n",
    "\n",
    "    # Generate empty board filled with 0s\n",
    "    board = [[0 for _ in range(m)] for _ in range(n)]\n",
    "    print_board(board)  # Show empty board initially\n",
    "    \n",
    "    return board\n",
    "\n",
    "def print_board(board):\n",
    "    n, m = len(board), len(board[0])\n",
    "    columns = \"   \" + \"   \".join(string.ascii_uppercase[:m])  # Column labels (A, B, C...)\n",
    "    print(columns)\n",
    "\n",
    "    for i in range(n):\n",
    "        row_label = f\"{i+1} \"  # Row numbers (1, 2, 3, ...)\n",
    "        row_content = \" | \".join(str(cell) if cell in [\"X\", \"O\"] else \"_\" for cell in board[i])\n",
    "        print(row_label + row_content)\n",
    "        if i < n - 1:\n",
    "            print(\"  \" + \"---+\" * (m - 1) + \"---\")  # Row separators\n",
    "    print(\"\\n\")  # Extra line break for readability\n",
    "\n",
    "def play_game(board, player, position):\n",
    "    n, m = len(board), len(board[0])  # Get board dimensions\n",
    "    letters = string.ascii_uppercase[:m]  # Column labels (A, B, C, ...)\n",
    "\n",
    "    # Validate input format (e.g., \"A1\", \"C2\")\n",
    "    if len(position) < 2 or position[0] not in letters or not position[1:].isdigit():\n",
    "        print(\"Error: Invalid move format. Use A1, B2, etc.\")\n",
    "        return False\n",
    "    \n",
    "    col = letters.index(position[0])  # Convert column letter to index \n",
    "    row = int(position[1:]) - 1  # Convert row number to index \n",
    "\n",
    "    # Check if move is out of bounds\n",
    "    if not (0 <= row < n and 0 <= col < m):\n",
    "        print(\"Error: This move is out of bounds.\")\n",
    "        return False\n",
    "\n",
    "    # Check if the space is free\n",
    "    if board[row][col] != 0:\n",
    "        print(\"Error: This space is already occupied.\")\n",
    "        return False\n",
    "\n",
    "    # Place the move\n",
    "    board[row][col] = \"X\" if player == 1 else \"O\"\n",
    "\n",
    "    # Print updated board\n",
    "    print_board(board)\n",
    "    \n",
    "    return True  # Move was successful\n",
    "\n",
    "def player_turn(board, player):\n",
    "    while True:\n",
    "        position = input(f\"Player {player} ({'X' if player == 1 else 'O'}), enter your move (e.g., A1, B2): \").upper()\n",
    "\n",
    "        if position.lower() == \"quit\":\n",
    "            print(\"Game ended.\")\n",
    "            return False  # Return False to indicate game termination\n",
    "\n",
    "        success = play_game(board, player, position)\n",
    "\n",
    "        if success:\n",
    "            return True  # Move was successful, exit loop\n",
    "\n",
    "def check_winner(board):\n",
    "    n, m = len(board), len(board[0])\n",
    "\n",
    "    # Check rows and columns\n",
    "    for i in range(n):\n",
    "        if all(board[i][0] != 0 and board[i][j] == board[i][0] for j in range(m)):  # Row check\n",
    "            return 1 if board[i][0] == \"X\" else 2\n",
    "    for i in range(m):\n",
    "        if all(board[0][i] != 0 and board[j][i] == board[0][i] for j in range(n)):  # Column check\n",
    "            return 1 if board[0][i] == \"X\" else 2\n",
    "\n",
    "    # Check diagonals (only if square board)\n",
    "    if n == m:\n",
    "        if all(board[0][0] != 0 and board[i][i] == board[0][0] for i in range(n)):\n",
    "            return 1 if board[0][0] == \"X\" else 2\n",
    "        if all(board[0][m-1] != 0 and board[i][m-1-i] == board[0][m-1] for i in range(n)):\n",
    "            return 1 if board[0][m-1] == \"X\" else 2\n",
    "\n",
    "    # Check if there are empty spaces (game is incomplete)\n",
    "    if any(board[i][j] == 0 for i in range(n) for j in range(m)):\n",
    "        return -1\n",
    "\n",
    "    return 0  # It's a draw\n",
    "\n",
    "def start_game():\n",
    "    board = game_board()  # Create an empty board\n",
    "    current_player = 1  # Player 1 starts\n",
    "\n",
    "    while True:\n",
    "        result = player_turn(board, current_player)\n",
    "\n",
    "        if result is False:  # Player entered \"quit\"\n",
    "            break\n",
    "\n",
    "        game_status = check_winner(board)\n",
    "\n",
    "        if game_status == 1:\n",
    "            print(\"Player 1 (X) wins!\")\n",
    "            break\n",
    "        elif game_status == 2:\n",
    "            print(\"Player 2 (O) wins!\")\n",
    "            break\n",
    "        elif game_status == 0:\n",
    "            print(\"It's a draw!\")\n",
    "            break\n",
    "\n",
    "        # Switch players\n",
    "        current_player = 2 if current_player == 1 else 1\n",
    "\n",
    "# Run the game\n",
    "start_game()"
   ]
  }
 ],
 "metadata": {
  "kernelspec": {
   "display_name": "Python 3",
   "language": "python",
   "name": "python3"
  },
  "language_info": {
   "codemirror_mode": {
    "name": "ipython",
    "version": 3
   },
   "file_extension": ".py",
   "mimetype": "text/x-python",
   "name": "python",
   "nbconvert_exporter": "python",
   "pygments_lexer": "ipython3",
   "version": "3.12.2"
  }
 },
 "nbformat": 4,
 "nbformat_minor": 2
}
