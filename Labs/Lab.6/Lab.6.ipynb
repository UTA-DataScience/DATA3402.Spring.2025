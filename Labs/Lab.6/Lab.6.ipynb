{
 "cells": [
  {
   "cell_type": "markdown",
   "metadata": {},
   "source": [
    "# Lab 6"
   ]
  },
  {
   "cell_type": "markdown",
   "metadata": {},
   "source": [
    "You are tasked with evaluating card counting strategies for black jack. In order to do so, you will use object oriented programming to create a playable casino style black jack game where a computer dealer plays against $n$ computer players and possibily one human player. If you don't know the rules of blackjack or card counting, please google it. \n",
    "\n",
    "A few requirements:\n",
    "* The game should utilize multiple 52-card decks. Typically the game is played with 6 decks.\n",
    "* Players should have chips.\n",
    "* Dealer's actions are predefined by rules of the game (typically hit on 16). \n",
    "* The players should be aware of all shown cards so that they can count cards.\n",
    "* Each player could have a different strategy.\n",
    "* The system should allow you to play large numbers of games, study the outcomes, and compare average winnings per hand rate for different strategies."
   ]
  },
  {
   "cell_type": "markdown",
   "metadata": {},
   "source": [
    "1. Begin by creating a classes to represent cards and decks. The deck should support more than one 52-card set. The deck should allow you to shuffle and draw cards. Include a \"plastic\" card, placed randomly in the deck. Later, when the plastic card is dealt, shuffle the cards before the next deal."
   ]
  },
  {
   "cell_type": "code",
   "execution_count": 1,
   "metadata": {},
   "outputs": [],
   "source": [
    "import random\n",
    "\n",
    "class Base:\n",
    "    # Logging levels\n",
    "    SILENT = 6\n",
    "    DEBUG = 1\n",
    "    INFO = 2\n",
    "    WARNING = 3\n",
    "    ERROR = 4\n",
    "    CRITICAL = 5\n",
    "    \n",
    "    def __init__(self, level=INFO):\n",
    "        self.level = level\n",
    "        \n",
    "    def message(self, level, *args):\n",
    "        if level >= self.level:\n",
    "            print(*args)\n",
    "\n",
    "class Card(Base):\n",
    "    __suits = [\"Clubs\", \"Diamonds\", \"Hearts\", \"Spades\", \"ShuffleCard\"]\n",
    "    __values = list(range(2, 11)) + [\"Jack\", \"Queen\", \"King\", \"Ace\"]\n",
    "\n",
    "    def __init__(self, suit, value=None):\n",
    "        Base.__init__(self)\n",
    "        self.__suit = suit if suit in self.__suits else None\n",
    "        self.__value = value if value in self.__values or suit == \"ShuffleCard\" else None\n",
    "        \n",
    "        if self.__suit is None:\n",
    "            self.message(self.ERROR, \"Error, bad suit:\", suit)\n",
    "\n",
    "        if self.__value is None and self.__suit != \"ShuffleCard\":\n",
    "            self.message(self.ERROR, \"Error, bad value:\", value)\n",
    "\n",
    "    def value(self):\n",
    "        return self.__value\n",
    "    \n",
    "    def suit(self):\n",
    "        return self.__suit\n",
    "    \n",
    "    def numerical_value(self):\n",
    "        # Special Handling of aces - they can be 1 or 11\n",
    "        # Here we return 1, and handle the Ace as 11 in the hand evaluation\n",
    "        if self.__value == \"Ace\":\n",
    "            return 1\n",
    "        elif self.__value in [\"Jack\", \"Queen\", \"King\"]:\n",
    "            return 10\n",
    "        else:\n",
    "            return self.__value\n",
    "        \n",
    "    def count_value(self):\n",
    "        \"\"\"Return the card counting value based on Hi-Lo strategy\"\"\"\n",
    "        if self.__suit == \"ShuffleCard\":\n",
    "            return 0\n",
    "        if isinstance(self.__value, int) and 2 <= self.__value <= 6:\n",
    "            return 1  # Low cards increase the count\n",
    "        elif isinstance(self.__value, int) and 7 <= self.__value <= 9:\n",
    "            return 0  # Neutral cards don't affect the count\n",
    "        else:  # 10, J, Q, K, A are high cards\n",
    "            return -1  # High cards decrease the count\n",
    "        \n",
    "    def shuffle_card(self):\n",
    "        return self.__suit == \"ShuffleCard\"\n",
    "\n",
    "    def __str__(self):\n",
    "        if self.shuffle_card():\n",
    "            return \"Shuffle Card\"\n",
    "        else:\n",
    "            return str(self.__value) + \" of \" + self.__suit\n",
    "\n",
    "    __repr__ = __str__\n",
    "\n",
    "class Deck(Base):\n",
    "    __suits = [\"Clubs\", \"Diamonds\", \"Hearts\", \"Spades\"]\n",
    "    __values = list(range(2, 11)) + [\"Jack\", \"Queen\", \"King\", \"Ace\"]\n",
    "\n",
    "    def __init__(self, n_decks=6):\n",
    "        Base.__init__(self)\n",
    "        self.__n_decks = n_decks\n",
    "        self.__cards = []\n",
    "        self.reset()\n",
    "            \n",
    "    def reset(self):\n",
    "        \"\"\"Reset the deck with new cards and shuffle card\"\"\"\n",
    "        self.__cards = []\n",
    "        for _ in range(self.__n_decks):\n",
    "            self.__cards.extend(self.__make_deck())\n",
    "            \n",
    "        # Add shuffle card at random position in the last quarter of the deck\n",
    "        # This simulates a \"cut card\" or \"plastic card\" in casino play\n",
    "        deck_size = len(self.__cards)\n",
    "        position = random.randint(int(deck_size * 0.75), deck_size - 1)\n",
    "        self.__cards.insert(position, Card(\"ShuffleCard\"))\n",
    "    \n",
    "    def __make_deck(self):\n",
    "        deck = []\n",
    "        for suit in self.__suits:\n",
    "            for value in self.__values:\n",
    "                deck.append(Card(suit, value))\n",
    "        return deck\n",
    "    \n",
    "    def shuffle(self):\n",
    "        random.shuffle(self.__cards)\n",
    "        \n",
    "    def deal(self):\n",
    "        if len(self.__cards) > 0:\n",
    "            return self.__cards.pop()\n",
    "        else:\n",
    "            # If we run out of cards, reset and shuffle the deck\n",
    "            self.reset()\n",
    "            self.shuffle()\n",
    "            self.message(self.INFO, \"Deck has been reset and shuffled\")\n",
    "            return self.__cards.pop()\n",
    "            \n",
    "    def cards_remaining(self):\n",
    "        return len(self.__cards)"
   ]
  },
  {
   "cell_type": "markdown",
   "metadata": {},
   "source": [
    "2. Now design your game on a UML diagram. You may want to create classes to represent, players, a hand, and/or the game. As you work through the lab, update your UML diagram. At the end of the lab, submit your diagram (as pdf file) along with your notebook. "
   ]
  },
  {
   "cell_type": "markdown",
   "metadata": {},
   "source": [
    "3. Begin with implementing the skeleton (ie define data members and methods/functions, but do not code the logic) of the classes in your UML diagram."
   ]
  },
  {
   "cell_type": "code",
   "execution_count": null,
   "metadata": {},
   "outputs": [],
   "source": []
  },
  {
   "cell_type": "markdown",
   "metadata": {},
   "source": [
    "4. Complete the implementation by coding the logic of all functions. For now, just implement the dealer player and human player."
   ]
  },
  {
   "cell_type": "code",
   "execution_count": 29,
   "metadata": {},
   "outputs": [],
   "source": []
  },
  {
   "cell_type": "markdown",
   "metadata": {},
   "source": [
    "5.  Test. Demonstrate game play. For example, create a game of several dealer players and show that the game is functional through several rounds."
   ]
  },
  {
   "cell_type": "code",
   "execution_count": null,
   "metadata": {},
   "outputs": [],
   "source": []
  },
  {
   "cell_type": "markdown",
   "metadata": {},
   "source": [
    "6. Implement a new player with the following strategy:\n",
    "\n",
    "    * Assign each card a value: \n",
    "        * Cards 2 to 6 are +1 \n",
    "        * Cards 7 to 9 are 0 \n",
    "        * Cards 10 through Ace are -1\n",
    "    * Compute the sum of the values for all cards seen so far.\n",
    "    * Hit if sum is very negative, stay if sum is very positive. Select a threshold for hit/stay, e.g. 0 or -2.  "
   ]
  },
  {
   "cell_type": "code",
   "execution_count": null,
   "metadata": {},
   "outputs": [],
   "source": []
  },
  {
   "cell_type": "markdown",
   "metadata": {},
   "source": [
    "7. Create a test scenario where one player, using the above strategy, is playing with a dealer and 3 other players that follow the dealer's strategy. Each player starts with same number of chips. Play 50 rounds (or until the strategy player is out of money). Compute the strategy player's winnings. You may remove unnecessary printouts from your code (perhaps implement a verbose/quiet mode) to reduce the output."
   ]
  },
  {
   "cell_type": "code",
   "execution_count": 33,
   "metadata": {},
   "outputs": [
    {
     "name": "stdout",
     "output_type": "stream",
     "text": [
      "Card Counter is out of chips!\n",
      "\n",
      "Final chip counts:\n",
      "Card Counter: 0 chips\n",
      "Computer Player 1: 0 chips\n",
      "Computer Player 2: 0 chips\n",
      "Computer Player 3: 0 chips\n"
     ]
    }
   ],
   "source": []
  },
  {
   "cell_type": "markdown",
   "metadata": {},
   "source": [
    "8. Create a loop that runs 100 games of 50 rounds, as setup in previous question, and store the strategy player's chips at the end of the game (aka \"winnings\") in a list. Histogram the winnings. What is the average winnings per round? What is the standard deviation. What is the probabilty of net winning or lossing after 50 rounds?\n"
   ]
  },
  {
   "cell_type": "code",
   "execution_count": null,
   "metadata": {},
   "outputs": [],
   "source": []
  },
  {
   "cell_type": "markdown",
   "metadata": {},
   "source": [
    "9. Repeat previous questions scanning the value of the threshold. Try at least 5 different threshold values. Can you find an optimal value?"
   ]
  },
  {
   "cell_type": "code",
   "execution_count": null,
   "metadata": {},
   "outputs": [],
   "source": []
  },
  {
   "cell_type": "markdown",
   "metadata": {},
   "source": [
    "10. Create a new strategy based on web searches or your own ideas. Demonstrate that the new strategy will result in increased or decreased winnings. "
   ]
  },
  {
   "cell_type": "code",
   "execution_count": null,
   "metadata": {},
   "outputs": [],
   "source": []
  },
  {
   "cell_type": "code",
   "execution_count": null,
   "metadata": {},
   "outputs": [],
   "source": []
  }
 ],
 "metadata": {
  "kernelspec": {
   "display_name": "Python 3 (ipykernel)",
   "language": "python",
   "name": "python3"
  },
  "language_info": {
   "codemirror_mode": {
    "name": "ipython",
    "version": 3
   },
   "file_extension": ".py",
   "mimetype": "text/x-python",
   "name": "python",
   "nbconvert_exporter": "python",
   "pygments_lexer": "ipython3",
   "version": "3.10.12"
  }
 },
 "nbformat": 4,
 "nbformat_minor": 4
}
