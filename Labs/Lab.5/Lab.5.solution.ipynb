{
 "cells": [
  {
   "cell_type": "markdown",
   "metadata": {},
   "source": [
    "# Lab 5\n"
   ]
  },
  {
   "cell_type": "markdown",
   "metadata": {},
   "source": [
    "Matrix Representation: In this lab you will be creating a simple linear algebra system. In memory, we will represent matrices as nested python lists as we have done in lecture. In the exercises below, you are required to explicitly test every feature you implement, demonstrating it works.\n",
    "\n",
    "1. Create a `matrix` class with the following properties:\n",
    "    * It can be initialized in 2 ways:\n",
    "        1. with arguments `n` and `m`, the size of the matrix. A newly instanciated matrix will contain all zeros.\n",
    "        2. with a list of lists of values. Note that since we are using lists of lists to implement matrices, it is possible that not all rows have the same number of columns. Test explicitly that the matrix is properly specified.\n",
    "    * Matrix instances `M` can be indexed with `M[i][j]` and `M[i,j]`.\n",
    "    * Matrix assignment works in 2 ways:\n",
    "        1. If `M_1` and `M_2` are `matrix` instances `M_1=M_2` sets the values of `M_1` to those of `M_2`, if they are the same size. Error otherwise.\n",
    "        2. In example above `M_2` can be a list of lists of correct size.\n"
   ]
  },
  {
   "cell_type": "code",
   "execution_count": 6,
   "metadata": {},
   "outputs": [],
   "source": [
    "class Matrix:\n",
    "    def __init__(self, n= None, m= None, data= None):\n",
    "        \"\"\"\n",
    "        With arguments n and m, the size of the matrix filled with zeros.\n",
    "        With a list of lists of values.\n",
    "        \"\"\"\n",
    "        if data is not None:\n",
    "            # initialize with list of lists\n",
    "            self.data = data\n",
    "            self.n= len(self.data)\n",
    "            if self.n == 0:\n",
    "                self.m = 0\n",
    "            else:\n",
    "                self.m = len(self.data[0])\n",
    "\n",
    "                # check if all rows have the same number of columns\n",
    "                if not all(len(row) == self.m for row in self.data):\n",
    "                    raise ValueError(\"All rows must have the same number of columns.\")\n",
    "        elif n is not None and m is not None:\n",
    "            if n <= 0 or m <= 0:\n",
    "                raise ValueError(\"Dimensions n and m must be positive integers!\")\n",
    "            self.n = n\n",
    "            self.m = m\n",
    "            self.data = [[0 for _ in range (m) ] for _ in range (n)]\n",
    "        else:\n",
    "            raise ValueError(\"Either (n and m) or data must be provided for Matric initiation.\")\n",
    "            \n",
    "\n",
    "    def __getitem__(self, index):\n",
    "        \"\"\"\n",
    "        Matrix indexing: supports M[i][j] and M[i,j]\n",
    "        \"\"\"\n",
    "        if isinstance(index, tuple):\n",
    "            if len(index) != 2:\n",
    "                raise IndexError(\"Invalid index. Use M[i][j] or M[i, j].\")\n",
    "            i, j = index\n",
    "            return self.data[i][j]\n",
    "        elif isinstance(index, int):\n",
    "            return self.data[index]\n",
    "        else:\n",
    "            raise IndexError(\"Invalid index type.\")\n",
    "    \n",
    "    def __setitem__(self, index, value):\n",
    "        \"\"\"\n",
    "        Matrix assignment: supports M[i][j] = value and M[i,j] = value\n",
    "        \"\"\"\n",
    "        if isinstance(index, tuple):\n",
    "            if len(index) != 2:\n",
    "                raise IndexError(\"Invalid index. Use M[i][j] or M[i, j].\")\n",
    "            i, j = index\n",
    "            self.data[i][j] = value\n",
    "        elif isinstance(index, int):\n",
    "            self.data[index] = value\n",
    "        else:\n",
    "            raise IndexError(\"Invalid index type.\")\n",
    "    \n",
    "    def __eq__(self, other):\n",
    "        \"\"\"\n",
    "        Matrix equality check\n",
    "        \"\"\"\n",
    "        if isinstance(other, Matrix):\n",
    "            return self.n == other.n and self.m == other.m and self.data == other.data\n",
    "        elif isinstance(other, list):\n",
    "            return self.n == len(other) and self.m == len(other[0]) and self.data == other\n",
    "        else:\n",
    "            return False\n",
    "    \n",
    "    def assign(self, other):\n",
    "        \"\"\"\n",
    "        Matrix assignment: set values of self to those of other\n",
    "        \"\"\"\n",
    "        if isinstance(other, Matrix):\n",
    "            if self.n != other.n or self.m != other.m:\n",
    "                raise ValueError(\"Matrices must be the same size for assignment.\")\n",
    "            self.data = [row[:] for row in other.data]\n",
    "        elif isinstance(other, list):\n",
    "            if self.n != len(other) or self.m != len(other[0]):\n",
    "                raise ValueError(\"Matrices must be the same size for assignment.\")\n",
    "            self.data = [row[:] for row in other]\n",
    "        else:\n",
    "            raise TypeError(\"Invalid type for assignment!\")\n",
    "    \n",
    "    def __repr__(self):\n",
    "        \"\"\"\n",
    "        String representation of the matrix for printing\n",
    "        \"\"\"\n",
    "        return '\\n'.join([' '.join(f\"{val:4}\" for val in row) for row in self.data])     "
   ]
  },
  {
   "cell_type": "code",
   "execution_count": 7,
   "metadata": {},
   "outputs": [
    {
     "name": "stdout",
     "output_type": "stream",
     "text": [
      "M1 (2x3 zero matrix): \n",
      "   0    0    0\n",
      "   0    0    0\n"
     ]
    }
   ],
   "source": [
    "# Test 1: Initialize  a 2x3 zero matrix.\n",
    "M1 = Matrix(n=2, m=3)\n",
    "print(\"M1 (2x3 zero matrix): \")\n",
    "print(M1)"
   ]
  },
  {
   "cell_type": "code",
   "execution_count": 8,
   "metadata": {},
   "outputs": [
    {
     "name": "stdout",
     "output_type": "stream",
     "text": [
      "M2 (Initialize from list of lists): \n",
      "   1    2    3\n",
      "   4    5    6\n"
     ]
    }
   ],
   "source": [
    "# Test 2: Initialize a matrix from list of lists.\n",
    "M2 = Matrix(data = [[1,2,3], [4,5,6]])\n",
    "print(\"M2 (Initialize from list of lists): \")\n",
    "print(M2)"
   ]
  },
  {
   "cell_type": "code",
   "execution_count": 9,
   "metadata": {},
   "outputs": [
    {
     "name": "stdout",
     "output_type": "stream",
     "text": [
      "Indexing\n",
      "M2 [0] [1]: 5\n",
      "M2 [0] [1]: 6\n"
     ]
    }
   ],
   "source": [
    "# Test 2: Indexing\n",
    "M2 = Matrix(data = [[1,2,3], [4,5,6]])\n",
    "print(\"Indexing\")\n",
    "print(\"M2 [0] [1]:\", M2[1][1]) # output 5\n",
    "print(\"M2 [0] [1]:\", M2[1][2]) # output 6"
   ]
  },
  {
   "cell_type": "code",
   "execution_count": 10,
   "metadata": {},
   "outputs": [
    {
     "name": "stdout",
     "output_type": "stream",
     "text": [
      "M2 after M2[1] [2]= 45:\n",
      "   1    2   45\n",
      "   4    5    6\n"
     ]
    }
   ],
   "source": [
    "# Test 4 Assignment\n",
    "M2[0,2] = 45\n",
    "print(\"M2 after M2[1] [2]= 45:\")\n",
    "print(M2)"
   ]
  },
  {
   "cell_type": "code",
   "execution_count": 11,
   "metadata": {},
   "outputs": [
    {
     "name": "stdout",
     "output_type": "stream",
     "text": [
      "M2 == M3: True\n"
     ]
    }
   ],
   "source": [
    "# Test 5: Matrix equality\n",
    "M3 = Matrix(data=[[1, 2, 45], [4, 5, 6]])\n",
    "print(\"M2 == M3:\", M2 == M3)  # output True"
   ]
  },
  {
   "cell_type": "code",
   "execution_count": 12,
   "metadata": {},
   "outputs": [
    {
     "name": "stdout",
     "output_type": "stream",
     "text": [
      "M4 after assignment from M2:\n",
      "   1    2   45\n",
      "   4    5    6\n"
     ]
    }
   ],
   "source": [
    "# Test 6: Matrix assignment\n",
    "M4 = Matrix(n=2, m=3)\n",
    "M4.assign(M2)  # Use the public method, not the dunder method\n",
    "print(\"M4 after assignment from M2:\")\n",
    "print(M4)"
   ]
  },
  {
   "cell_type": "markdown",
   "metadata": {},
   "source": [
    "2. Add the following methods:\n",
    "    * `shape()`: returns a tuple `(n,m)` of the shape of the matrix.\n",
    "    * `transpose()`: returns a new matrix instance which is the transpose of the matrix.\n",
    "    * `row(n)` and `column(n)`: that return the nth row or column of the matrix M as a new appropriately shaped matrix object.\n",
    "    * `to_list()`: which returns the matrix as a list of lists.\n",
    "    *  `block(n_0,n_1,m_0,m_1)` that returns a smaller matrix located at the n_0 to n_1 columns and m_0 to m_1 rows. \n",
    "    * (Extra credit) Modify `__getitem__` implemented above to support slicing.\n",
    "        "
   ]
  },
  {
   "cell_type": "code",
   "execution_count": 13,
   "metadata": {},
   "outputs": [],
   "source": [
    "class Matrix:\n",
    "    def __init__(self, n= None, m= None, data= None):\n",
    "        \"\"\"\n",
    "        With arguments n and m, the size of the matrix filled with zeros.\n",
    "        With a list of lists of values.\n",
    "        \"\"\"\n",
    "        if data is not None:\n",
    "            # Initialize with a list of lists\n",
    "            self.data = data\n",
    "            self.n = len(self.data)\n",
    "            if self.n == 0:\n",
    "                self.m = 0\n",
    "            else:\n",
    "                self.m = len(self.data[0])\n",
    "                # Check if all rows have the same number of columns\n",
    "                if not all(len(row) == self.m for row in self.data):\n",
    "                    raise ValueError(\"All rows must have the same number of columns.\")\n",
    "        elif n is not None and m is not None:\n",
    "            # Initialize with n and m (size of the matrix)\n",
    "            if n <= 0 or m <= 0:\n",
    "                raise ValueError(\"Dimensions n and m must be positive integers!\")\n",
    "            self.n = n\n",
    "            self.m = m\n",
    "            self.data = [[0 for _ in range(m)] for _ in range(n)]\n",
    "        else:\n",
    "            raise TypeError(\"Either (n and m) or data must be provided for Matrix initialization.\")\n",
    "    \n",
    "    def __getitem__(self, index):\n",
    "        \"\"\"\n",
    "        Matrix indexing: supports M[i][j], M[i,j], and slicing.\n",
    "        \"\"\"\n",
    "        if isinstance(index, tuple):\n",
    "            if len(index) != 2:\n",
    "                raise IndexError(\"Invalid index! Use M[i][j] or M[i, j].\")\n",
    "            i, j = index\n",
    "            # handle slicing\n",
    "            if isinstance(i, slice) or isinstance(j, slice):\n",
    "                # get sliced rows\n",
    "                rows = self.data[i]\n",
    "                # get sliced columns from each row\n",
    "                sliced_data = [row[j] for row in rows]\n",
    "                return Matrix(data=sliced_data)\n",
    "            else:\n",
    "                return self.data[i][j]\n",
    "        elif isinstance(index, int):\n",
    "            return self.data[index]\n",
    "        else:\n",
    "            raise IndexError(\"Invalid index type!\")\n",
    "    \n",
    "    def __setitem__(self, index, value):\n",
    "        \"\"\"\n",
    "        Matrix assignment: supports M[i][j] = value and M[i,j] = value\n",
    "        \"\"\"\n",
    "        if isinstance(index, tuple):\n",
    "            if len(index) != 2:\n",
    "                raise IndexError(\"Invalid index! Use M[i][j] or M[i, j].\")\n",
    "            i, j = index\n",
    "            self.data[i][j] = value\n",
    "        elif isinstance(index, int):\n",
    "            self.data[index] = value\n",
    "        else:\n",
    "            raise IndexError(\"Invalid index type!\")\n",
    "    \n",
    "    def __eq__(self, other):\n",
    "        \"\"\"\n",
    "        Matrix equality check\n",
    "        \"\"\"\n",
    "        if isinstance(other, Matrix):\n",
    "            return self.n == other.n and self.m == other.m and self.data == other.data\n",
    "        elif isinstance(other, list):\n",
    "            return self.n == len(other) and self.m == len(other[0]) and self.data == other\n",
    "        else:\n",
    "            return False\n",
    "    \n",
    "    def assign(self, other):\n",
    "        \"\"\"\n",
    "        Matrix assignment: set values of self to those of other\n",
    "        \"\"\"\n",
    "        if isinstance(other, Matrix):\n",
    "            if self.n != other.n or self.m != other.m:\n",
    "                raise ValueError(\"Matrices must be the same size for assignment.\")\n",
    "            self.data = [row[:] for row in other.data]\n",
    "        elif isinstance(other, list):\n",
    "            if self.n != len(other) or self.m != len(other[0]):\n",
    "                raise ValueError(\"Matrices must be the same size for assignment.\")\n",
    "            self.data = [row[:] for row in other]\n",
    "        else:\n",
    "            raise TypeError(\"Invalid type for assignment.\")\n",
    "    \n",
    "    def shape(self):\n",
    "        \"\"\"\n",
    "        Returns the shape of the matrix as a tuple (n, m).\n",
    "        \"\"\"\n",
    "        return (self.n, self.m)\n",
    "    \n",
    "    def transpose(self):\n",
    "        \"\"\"\n",
    "        Returns a new matrix that is the transpose of the current matrix.\n",
    "        \"\"\"\n",
    "        transposed_data = [[self.data[j][i] for j in range(self.n)] for i in range(self.m)]\n",
    "        return Matrix(data=transposed_data)\n",
    "    \n",
    "    def row(self, n):\n",
    "        \"\"\"\n",
    "        Returns the nth row of the matrix as a new matrix object.\n",
    "        \"\"\"\n",
    "        if n < 0 or n >= self.n:\n",
    "            raise IndexError(\"Row index out of bounds.\")\n",
    "        return Matrix(data=[self.data[n]])\n",
    "    \n",
    "    def column(self, n):\n",
    "        \"\"\"\n",
    "        Returns the nth column of the matrix as a new matrix object.\n",
    "        \"\"\"\n",
    "        if n < 0 or n >= self.m:\n",
    "            raise IndexError(\"Column index out of bounds.\")\n",
    "        return Matrix(data=[[self.data[i][n]] for i in range(self.n)])\n",
    "    \n",
    "    def to_list(self):\n",
    "        \"\"\"\n",
    "        Returns the matrix as a list of lists.\n",
    "        \"\"\"\n",
    "        return [row[:] for row in self.data]\n",
    "    \n",
    "    def block(self, n_0, n_1, m_0, m_1):\n",
    "        \"\"\"\n",
    "        Returns a submatrix (block) from rows n_0 to n_1 and columns m_0 to m_1.\n",
    "        \"\"\"\n",
    "        if n_0 < 0 or n_1 >= self.n or m_0 < 0 or m_1 >= self.m:\n",
    "            raise IndexError(\"Block indices out of bounds.\")\n",
    "        block_data = [row[m_0:m_1+1] for row in self.data[n_0:n_1+1]]\n",
    "        return Matrix(data=block_data)\n",
    "    \n",
    "    def __repr__(self):\n",
    "        \"\"\"\n",
    "        String representation of the matrix for printing\n",
    "        \"\"\"\n",
    "        return '\\n'.join([' '.join(f\"{val:4}\" for val in row) for row in self.data])"
   ]
  },
  {
   "cell_type": "code",
   "execution_count": 14,
   "metadata": {},
   "outputs": [
    {
     "name": "stdout",
     "output_type": "stream",
     "text": [
      "M1 (2x3 zero matrix):\n",
      "   0    0    0\n",
      "   0    0    0\n",
      "\n",
      "M2 (initialized from list of lists):\n",
      "   1    2    3\n",
      "   4    5    6\n",
      "\n",
      "M2[0][1]: 5\n",
      "M2[1, 2]: 6\n",
      "\n",
      "M2 after M2[1, 2] = 45:\n",
      "   1    2   45\n",
      "   4    5    6\n",
      "\n",
      "M2 == M3: True\n",
      "\n",
      "Test 6:\n",
      "Test 5:\n",
      "M4 after assignment from M2:\n",
      "   1    2   45\n",
      "   4    5    6\n"
     ]
    }
   ],
   "source": [
    "# Test 1: Initialize a 2x3 zero matrix\n",
    "M1 = Matrix(n=2, m=3)\n",
    "print(\"M1 (2x3 zero matrix):\")\n",
    "print(M1)\n",
    "\n",
    "# Test 2: Initialize a matrix from a list of lists\n",
    "M2 = Matrix(data=[[1, 2, 3], [4, 5, 6]])\n",
    "print(\"\\nM2 (initialized from list of lists):\")\n",
    "print(M2)\n",
    "\n",
    "# Test 3: Indexing\n",
    "print(\"\\nM2[0][1]:\", M2[1][1])  # Should print 5\n",
    "print(\"M2[1, 2]:\", M2[1, 2])    # Should print 6\n",
    "\n",
    "# Test 4: Assignment\n",
    "M2[0, 2] = 45\n",
    "print(\"\\nM2 after M2[1, 2] = 45:\")\n",
    "print(M2)\n",
    "\n",
    "# Test 5: Matrix equality\n",
    "M3 = Matrix(data=[[1, 2, 45], [4, 5, 6]])\n",
    "print(\"\\nM2 == M3:\", M2 == M3)  # Should print True\n",
    "\n",
    "# Test 6: Matrix assignment\n",
    "M4 = Matrix(n=2, m=3)\n",
    "M4.assign(M2)  # Use the public method, not the dunder method\n",
    "print(\"\\nTest 6:\\nTest 5:\\nM4 after assignment from M2:\")\n",
    "print(M4)"
   ]
  },
  {
   "cell_type": "code",
   "execution_count": 15,
   "metadata": {},
   "outputs": [
    {
     "name": "stdout",
     "output_type": "stream",
     "text": [
      "Shape of M2: (2, 3)\n"
     ]
    }
   ],
   "source": [
    "# Test 7: Shape\n",
    "print(\"Shape of M2:\", M2.shape())  # output (2, 3)"
   ]
  },
  {
   "cell_type": "code",
   "execution_count": 16,
   "metadata": {},
   "outputs": [
    {
     "name": "stdout",
     "output_type": "stream",
     "text": [
      "Transpose of M2:\n",
      "   1    4\n",
      "   2    5\n",
      "  45    6\n"
     ]
    }
   ],
   "source": [
    "# Test 8: Transpose\n",
    "M5 = M2.transpose()\n",
    "print(\"Transpose of M2:\")\n",
    "print(M5)"
   ]
  },
  {
   "cell_type": "code",
   "execution_count": 17,
   "metadata": {},
   "outputs": [
    {
     "name": "stdout",
     "output_type": "stream",
     "text": [
      "Row 1 of M2:\n",
      "   4    5    6\n",
      "Column 2 of M2:\n",
      "  45\n",
      "   6\n"
     ]
    }
   ],
   "source": [
    "# Test 9: Row and Column\n",
    "print(\"Row 1 of M2:\")\n",
    "print(M2.row(1))\n",
    "print(\"Column 2 of M2:\")\n",
    "print(M2.column(2))"
   ]
  },
  {
   "cell_type": "code",
   "execution_count": 18,
   "metadata": {},
   "outputs": [
    {
     "name": "stdout",
     "output_type": "stream",
     "text": [
      "M2 as a list of lists:\n",
      "[[1, 2, 45], [4, 5, 6]]\n"
     ]
    }
   ],
   "source": [
    "# Test 10: To List\n",
    "print(\"M2 as a list of lists:\")\n",
    "print(M2.to_list())"
   ]
  },
  {
   "cell_type": "code",
   "execution_count": 19,
   "metadata": {},
   "outputs": [
    {
     "name": "stdout",
     "output_type": "stream",
     "text": [
      "Block of M2 from rows 0 to 1 and columns 1 to 2:\n",
      "   2   45\n",
      "   5    6\n"
     ]
    }
   ],
   "source": [
    "# Test 11: Block\n",
    "print(\"Block of M2 from rows 0 to 1 and columns 1 to 2:\")\n",
    "print(M2.block(0, 1, 1, 2))"
   ]
  },
  {
   "cell_type": "code",
   "execution_count": 20,
   "metadata": {},
   "outputs": [
    {
     "name": "stdout",
     "output_type": "stream",
     "text": [
      "Sliced M2 (rows 0 to 1, columns 1 to 2):\n",
      "   2   45\n",
      "   5    6\n"
     ]
    }
   ],
   "source": [
    "# Test 12: Slicing \n",
    "print(\"Sliced M2 (rows 0 to 1, columns 1 to 2):\")\n",
    "print(M2[0:2, 1:3])"
   ]
  },
  {
   "cell_type": "markdown",
   "metadata": {},
   "source": [
    "3. Write functions that create special matrices (note these are standalone functions, not member functions of your `matrix` class):\n",
    "    * `constant(n,m,c)`: returns a `n` by `m` matrix filled with floats of value `c`.\n",
    "    * `zeros(n,m)` and `ones(n,m)`: return `n` by `m` matrices filled with floats of value `0` and `1`, respectively.\n",
    "    * `eye(n)`: returns the n by n identity matrix."
   ]
  },
  {
   "cell_type": "code",
   "execution_count": 21,
   "metadata": {},
   "outputs": [],
   "source": [
    "def constant(n, m, c):\n",
    "    \"\"\"\n",
    "    Returns an n x m matrix filled with floats of value c.\n",
    "\n",
    "    Args:\n",
    "        n (int): Number of rows.\n",
    "        m (int): Number of columns.\n",
    "        c (float): Constant value to fill the matrix.\n",
    "\n",
    "    Returns:\n",
    "        Matrix: An n x m matrix filled with value c.\n",
    "\n",
    "    Raises:\n",
    "        ValueError: If n or m are not positive integers!\n",
    "    \"\"\"\n",
    "    if n <= 0 or m <= 0:\n",
    "        raise ValueError(\"Dimensions n and m must be positive integers!\")\n",
    "    c = float(c)  # Ensure c is a float\n",
    "    return Matrix(data=[[c for _ in range(m)] for _ in range(n)])\n",
    "\n",
    "def zeros(n, m):\n",
    "    \"\"\"\n",
    "    Returns an n x m matrix filled with floats of value 0.\n",
    "    \"\"\"\n",
    "    return constant(n, m, 0)\n",
    "\n",
    "def ones(n, m):\n",
    "    \"\"\"\n",
    "    Returns an n x m matrix filled with floats of value 1.\n",
    "    \"\"\"\n",
    "    return constant(n, m, 1)\n",
    "\n",
    "def eye(n):\n",
    "    \"\"\"\n",
    "    Returns the n x n identity matrix.\n",
    "    \"\"\"\n",
    "    if n <= 0:\n",
    "        raise ValueError(\"Dimension n must be a positive integer!\")\n",
    "    identity_data = [[1.0 if i == j else 0.0 for j in range(n)] for i in range(n)]\n",
    "    return Matrix(data=identity_data)"
   ]
  },
  {
   "cell_type": "code",
   "execution_count": 22,
   "metadata": {},
   "outputs": [
    {
     "name": "stdout",
     "output_type": "stream",
     "text": [
      "Constant Matrix (1x3, c=7.0):\n",
      " 7.0  7.0  7.0\n"
     ]
    }
   ],
   "source": [
    "# Test functions\n",
    "print(\"Constant Matrix (1x3, c=7.0):\")\n",
    "print(constant(1, 3, 7.0))"
   ]
  },
  {
   "cell_type": "code",
   "execution_count": 23,
   "metadata": {},
   "outputs": [
    {
     "name": "stdout",
     "output_type": "stream",
     "text": [
      "Zeros Matrix 2x5):\n",
      " 0.0  0.0  0.0  0.0  0.0\n",
      " 0.0  0.0  0.0  0.0  0.0\n"
     ]
    }
   ],
   "source": [
    "print(\"Zeros Matrix 2x5):\")\n",
    "print(zeros(2, 5))"
   ]
  },
  {
   "cell_type": "code",
   "execution_count": 24,
   "metadata": {},
   "outputs": [
    {
     "name": "stdout",
     "output_type": "stream",
     "text": [
      "Ones Matrix (2x2):\n",
      " 1.0  1.0\n",
      " 1.0  1.0\n"
     ]
    }
   ],
   "source": [
    "print(\"Ones Matrix (2x2):\")\n",
    "print(ones(2, 2))"
   ]
  },
  {
   "cell_type": "code",
   "execution_count": 25,
   "metadata": {},
   "outputs": [
    {
     "name": "stdout",
     "output_type": "stream",
     "text": [
      "Identity Matrix (5x5):\n",
      " 1.0  0.0  0.0  0.0  0.0\n",
      " 0.0  1.0  0.0  0.0  0.0\n",
      " 0.0  0.0  1.0  0.0  0.0\n",
      " 0.0  0.0  0.0  1.0  0.0\n",
      " 0.0  0.0  0.0  0.0  1.0\n"
     ]
    }
   ],
   "source": [
    "print(\"Identity Matrix (5x5):\")\n",
    "print(eye(5))"
   ]
  },
  {
   "cell_type": "markdown",
   "metadata": {},
   "source": [
    "4. Add the following member functions to your class. Make sure to appropriately test the dimensions of the matrices to make sure the operations are correct.\n",
    "    * `M.scalarmul(c)`: a matrix that is scalar product $cM$, where every element of $M$ is multiplied by $c$.\n",
    "    * `M.add(N)`: adds two matrices $M$ and $N$. Don’t forget to test that the sizes of the matrices are compatible for this and all other operations.\n",
    "    * `M.sub(N)`: subtracts two matrices $M$ and $N$.\n",
    "    * `M.mat_mult(N)`: returns a matrix that is the matrix product of two matrices $M$ and $N$.\n",
    "    * `M.element_mult(N)`: returns a matrix that is the element-wise product of two matrices $M$ and $N$.\n",
    "    * `M.equals(N)`: returns true/false if $M==N$."
   ]
  },
  {
   "cell_type": "code",
   "execution_count": 46,
   "metadata": {},
   "outputs": [],
   "source": [
    "class Matrix:\n",
    "    def __init__(self, n=None, m=None, data=None):\n",
    "        \"\"\"\n",
    "        Initialize a matrix in one of two ways:\n",
    "        1. With arguments n and m, the size of the matrix (filled with zeros)\n",
    "        2. With a list of lists of values\n",
    "        \"\"\"\n",
    "        if data is not None:\n",
    "            self.data = data\n",
    "            self.n = len(self.data)\n",
    "            if self.n == 0:\n",
    "                self.m = 0\n",
    "            else:\n",
    "                self.m = len(self.data[0])\n",
    "                if not all(len(row) == self.m for row in self.data):\n",
    "                    raise ValueError(\"All rows must have the same number of columns.\")\n",
    "        elif n is not None and m is not None:\n",
    "            if n <= 0 or m <= 0:\n",
    "                raise ValueError(\"Dimensions n and m must be positive integers.\")\n",
    "            self.n = n\n",
    "            self.m = m\n",
    "            self.data = [[0 for _ in range(m)] for _ in range(n)]\n",
    "        else:\n",
    "            raise TypeError(\"Either (n and m) or data must be provided for Matrix initialization.\")\n",
    "    \n",
    "    def scalarmul(self, c):\n",
    "        \"\"\" Returns a new matrix that is the scalar product cM. \"\"\"\n",
    "        c = float(c)  # Ensure c is a float\n",
    "        return Matrix(data=[[c * val for val in row] for row in self.data])\n",
    "\n",
    "    def add(self, N):\n",
    "        \"\"\" Adds two matrices M and N. \"\"\"\n",
    "        if not isinstance(N, Matrix):\n",
    "            raise TypeError(\"Can only add a Matrix to another Matrix.\")\n",
    "        if self.n != N.n or self.m != N.m:\n",
    "            raise ValueError(\"Matrices must have the same dimensions for addition.\")\n",
    "        return Matrix(data=[[self.data[i][j] + N.data[i][j] for j in range(self.m)] for i in range(self.n)])\n",
    "\n",
    "    def sub(self, N):\n",
    "        \"\"\" Subtracts two matrices M and N. \"\"\"\n",
    "        if not isinstance(N, Matrix):\n",
    "            raise TypeError(\"Can only subtract a Matrix from another Matrix.\")\n",
    "        if self.n != N.n or self.m != N.m:\n",
    "            raise ValueError(\"Matrices must have the same dimensions for subtraction.\")\n",
    "        return Matrix(data=[[self.data[i][j] - N.data[i][j] for j in range(self.m)] for i in range(self.n)])\n",
    "\n",
    "    def mat_mult(self, N):\n",
    "        \"\"\" Returns a matrix that is the matrix product of M and N. \"\"\"\n",
    "        if not isinstance(N, Matrix):\n",
    "            raise TypeError(\"Can only multiply a Matrix with another Matrix.\")\n",
    "        if self.m != N.n:\n",
    "            raise ValueError(\"Number of columns in M must equal number of rows in N for matrix multiplication.\")\n",
    "        return Matrix(data=[[sum(self.data[i][k] * N.data[k][j] for k in range(self.m)) for j in range(N.m)] for i in range(self.n)])\n",
    "\n",
    "    def element_mult(self, N):\n",
    "        \"\"\" Returns a matrix that is the element-wise product of M and N. \"\"\"\n",
    "        if not isinstance(N, Matrix):\n",
    "            raise TypeError(\"Can only perform element-wise multiplication with another Matrix.\")\n",
    "        if self.n != N.n or self.m != N.m:\n",
    "            raise ValueError(\"Matrices must have the same dimensions for element-wise multiplication.\")\n",
    "        return Matrix(data=[[self.data[i][j] * N.data[i][j] for j in range(self.m)] for i in range(self.n)])\n",
    "\n",
    "    def equals(self, N):\n",
    "        \"\"\" Returns True if M == N, False otherwise. \"\"\"\n",
    "        if not isinstance(N, Matrix):\n",
    "            return False\n",
    "        return self.n == N.n and self.m == N.m and self.data == N.data\n",
    "\n",
    "    def __repr__(self):\n",
    "        \"\"\" String representation of the matrix for printing. \"\"\"\n",
    "        return '\\n'.join([' '.join(f\"{val:4}\" for val in row) for row in self.data])"
   ]
  },
  {
   "cell_type": "code",
   "execution_count": 27,
   "metadata": {},
   "outputs": [
    {
     "name": "stdout",
     "output_type": "stream",
     "text": [
      "Scalar multiplication (M1 * 2):\n",
      " 2.0  4.0\n",
      " 6.0  8.0\n"
     ]
    }
   ],
   "source": [
    "# Testing the new functions\n",
    "M1 = Matrix(data=[[1, 2], [3, 4]])\n",
    "M2 = Matrix(data=[[5, 6], [7, 8]])\n",
    "\n",
    "print(\"Scalar multiplication (M1 * 2):\")\n",
    "print(M1.scalarmul(2))"
   ]
  },
  {
   "cell_type": "code",
   "execution_count": 28,
   "metadata": {},
   "outputs": [
    {
     "name": "stdout",
     "output_type": "stream",
     "text": [
      "Matrix addition (M1 + M2):\n",
      "   6    8\n",
      "  10   12\n"
     ]
    }
   ],
   "source": [
    "print(\"Matrix addition (M1 + M2):\")\n",
    "print(M1.add(M2))"
   ]
  },
  {
   "cell_type": "code",
   "execution_count": 29,
   "metadata": {},
   "outputs": [
    {
     "name": "stdout",
     "output_type": "stream",
     "text": [
      "Matrix subtraction (M1 - M2):\n",
      "  -4   -4\n",
      "  -4   -4\n"
     ]
    }
   ],
   "source": [
    "print(\"Matrix subtraction (M1 - M2):\")\n",
    "print(M1.sub(M2))"
   ]
  },
  {
   "cell_type": "code",
   "execution_count": 30,
   "metadata": {},
   "outputs": [
    {
     "name": "stdout",
     "output_type": "stream",
     "text": [
      "Matrix multiplication (M1 * M2):\n",
      "  19   22\n",
      "  43   50\n"
     ]
    }
   ],
   "source": [
    "print(\"Matrix multiplication (M1 * M2):\")\n",
    "print(M1.mat_mult(M2))"
   ]
  },
  {
   "cell_type": "code",
   "execution_count": 31,
   "metadata": {},
   "outputs": [
    {
     "name": "stdout",
     "output_type": "stream",
     "text": [
      "Element-wise multiplication (M1 * M2):\n",
      "   5   12\n",
      "  21   32\n"
     ]
    }
   ],
   "source": [
    "print(\"Element-wise multiplication (M1 * M2):\")\n",
    "print(M1.element_mult(M2))"
   ]
  },
  {
   "cell_type": "markdown",
   "metadata": {},
   "source": [
    "5. Overload python operators to appropriately use your functions in 4 and allow expressions like:\n",
    "    * 2*M\n",
    "    * M*2\n",
    "    * M+N\n",
    "    * M-N\n",
    "    * M*N\n",
    "    * M==N\n",
    "    * M=N\n"
   ]
  },
  {
   "cell_type": "code",
   "execution_count": 95,
   "metadata": {},
   "outputs": [],
   "source": [
    "class Matrix:\n",
    "    def __init__(self, n=None, m=None, data=None):\n",
    "        if data is not None:\n",
    "            self.data = data\n",
    "            self.n = len(self.data)\n",
    "            if self.n == 0:\n",
    "                self.m = 0\n",
    "            else:\n",
    "                self.m = len(self.data[0])\n",
    "                if not all(len(row) == self.m for row in self.data):\n",
    "                    raise ValueError(\"All rows must have the same number of columns!\")\n",
    "        elif n is not None and m is not None:\n",
    "            if n <= 0 or m <= 0:\n",
    "                raise ValueError(\"Dimensions n and m must be positive integers!\")\n",
    "            self.n = n\n",
    "            self.m = m\n",
    "            self.data = [[0 for _ in range(m)] for _ in range(n)]\n",
    "        else:\n",
    "            raise TypeError(\"Either (n and m) or data must be provided for Matrix initialization.\")\n",
    "    \n",
    "    def scalarmul(self, c):\n",
    "        \"\"\" Returns a new matrix that is the scalar product cM. \"\"\"\n",
    "        c = float(c)  # Ensure c is a float\n",
    "        return Matrix(data=[[c * val for val in row] for row in self.data])\n",
    "\n",
    "    def add(self, N):\n",
    "        \"\"\" Adds two matrices M and N. \"\"\"\n",
    "        if not isinstance(N, Matrix) or self.n != N.n or self.m != N.m:\n",
    "            raise ValueError(\"Matrices must have the same dimensions for addition.\")\n",
    "        return Matrix(data=[[self.data[i][j] + N.data[i][j] for j in range(self.m)] for i in range(self.n)])\n",
    "\n",
    "    def sub(self, N):\n",
    "        \"\"\" Subtracts two matrices M and N. \"\"\"\n",
    "        if not isinstance(N, Matrix) or self.n != N.n or self.m != N.m:\n",
    "            raise ValueError(\"Matrices must have the same dimensions for subtraction.\")\n",
    "        return Matrix(data=[[self.data[i][j] - N.data[i][j] for j in range(self.m)] for i in range(self.n)])\n",
    "\n",
    "    def mat_mult(self, N):\n",
    "        \"\"\" Returns a matrix that is the matrix product of M and N. \"\"\"\n",
    "        if not isinstance(N, Matrix) or self.m != N.n:\n",
    "            raise ValueError(\"Number of columns in M must equal number of rows in N for matrix multiplication.\")\n",
    "        return Matrix(data=[[sum(self.data[i][k] * N.data[k][j] for k in range(self.m)) for j in range(N.m)] for i in range(self.n)])\n",
    "\n",
    "    def element_mult(self, N):\n",
    "        \"\"\" Returns a matrix that is the element-wise product of M and N. \"\"\"\n",
    "        if not isinstance(N, Matrix) or self.n != N.n or self.m != N.m:\n",
    "            raise ValueError(\"Matrices must have the same dimensions for element-wise multiplication.\")\n",
    "        return Matrix(data=[[self.data[i][j] * N.data[i][j] for j in range(self.m)] for i in range(self.n)])\n",
    "\n",
    "    def equals(self, N):\n",
    "        \"\"\" Returns True if M == N, False otherwise \"\"\"\n",
    "        return isinstance(N, Matrix) and self.n == N.n and self.m == N.m and self.data == N.data\n",
    "\n",
    "    def __repr__(self):\n",
    "        \"\"\" Improved string representation of the matrix for cleaner printing \"\"\"\n",
    "        return '\\n'.join([' '.join(map(str, row)) for row in self.data])\n",
    "\n",
    "    # Operator Overloading\n",
    "    def __mul__(self, other):\n",
    "        \"\"\"\n",
    "        Overloads the * operator for:\n",
    "        - Scalar multiplication (M * c or c * M)\n",
    "        - Matrix multiplication (M * N)\n",
    "        - Element-wise multiplication (if matrices have the same size)\n",
    "        \"\"\"\n",
    "        if isinstance(other, (int, float)):\n",
    "            return self.scalarmul(other)\n",
    "        elif isinstance(other, Matrix):\n",
    "            if self.n == other.n and self.m == other.m:\n",
    "                return self.element_mult(other)  # Element-wise multiplication\n",
    "            else:\n",
    "                return self.mat_mult(other)  # Matrix multiplication\n",
    "        else:\n",
    "            raise TypeError(\"Unsupported operand type for *.\")\n",
    "\n",
    "    def __rmul__(self, other):\n",
    "        \"\"\"\n",
    "        Overloads the * operator for scalar multiplication when the scalar is on the left (c * M).\n",
    "        \"\"\"\n",
    "        if isinstance(other, (int, float)):\n",
    "            return self.scalarmul(other)\n",
    "        else:\n",
    "            raise TypeError(\"Unsupported operand type for *.\")\n",
    "\n",
    "    def __add__(self, other):\n",
    "        \"\"\"\n",
    "        Overloads the + operator for matrix addition (M + N).\n",
    "        \"\"\"\n",
    "        if isinstance(other, Matrix):\n",
    "            return self.add(other)\n",
    "        else:\n",
    "            raise TypeError(\"Unsupported operand type for +.\")\n",
    "\n",
    "    def __sub__(self, other):\n",
    "        \"\"\"\n",
    "        Overloads the - operator for matrix subtraction (M - N).\n",
    "        \"\"\"\n",
    "        if isinstance(other, Matrix):\n",
    "            return self.sub(other)\n",
    "        else:\n",
    "            raise TypeError(\"Unsupported operand type for -.\")\n",
    "\n",
    "    def __eq__(self, other):\n",
    "        \"\"\"\n",
    "        Overloads the == operator for matrix equality (M == N).\n",
    "        \"\"\"\n",
    "        return self.equals(other)\n",
    "\n",
    "    def __ne__(self, other):\n",
    "        \"\"\"\n",
    "        Overloads the != operator for matrix inequality (M != N).\n",
    "        \"\"\"\n",
    "        return not self.__eq__(other)"
   ]
  },
  {
   "cell_type": "code",
   "execution_count": 96,
   "metadata": {},
   "outputs": [
    {
     "name": "stdout",
     "output_type": "stream",
     "text": [
      "Scalar multiplication (2 * M1):\n",
      "2.0 4.0\n",
      "6.0 8.0\n",
      "\n",
      "Scalar multiplication (M1 * 2):\n",
      "2.0 4.0\n",
      "6.0 8.0\n"
     ]
    }
   ],
   "source": [
    "# Testing Matrix class\n",
    "M1 = Matrix(data=[[1, 2], [3, 4]])\n",
    "M2 = Matrix(data=[[5, 6], [7, 8]])\n",
    "\n",
    "# Scalar multiplication\n",
    "print(\"Scalar multiplication (2 * M1):\")\n",
    "print(2 * M1)\n",
    "\n",
    "print(\"\\nScalar multiplication (M1 * 2):\")\n",
    "print(M1 * 2)"
   ]
  },
  {
   "cell_type": "code",
   "execution_count": 34,
   "metadata": {},
   "outputs": [
    {
     "name": "stdout",
     "output_type": "stream",
     "text": [
      "Matrix addition (M1 + M2):\n",
      "6 8\n",
      "10 12\n"
     ]
    }
   ],
   "source": [
    "# Matrix addition\n",
    "print(\"Matrix addition (M1 + M2):\")\n",
    "print(M1 + M2)"
   ]
  },
  {
   "cell_type": "code",
   "execution_count": 35,
   "metadata": {},
   "outputs": [
    {
     "name": "stdout",
     "output_type": "stream",
     "text": [
      "Matrix subtraction (M1 - M2):\n",
      "-4 -4\n",
      "-4 -4\n"
     ]
    }
   ],
   "source": [
    "# Matrix subtraction\n",
    "print(\"Matrix subtraction (M1 - M2):\")\n",
    "print(M1 - M2)"
   ]
  },
  {
   "cell_type": "code",
   "execution_count": 36,
   "metadata": {},
   "outputs": [
    {
     "name": "stdout",
     "output_type": "stream",
     "text": [
      "Matrix multiplication (M1 * M2):\n",
      "5 12\n",
      "21 32\n"
     ]
    }
   ],
   "source": [
    "# Matrix multiplication\n",
    "print(\"Matrix multiplication (M1 * M2):\")\n",
    "print(M1 * M2)"
   ]
  },
  {
   "cell_type": "code",
   "execution_count": 37,
   "metadata": {},
   "outputs": [
    {
     "name": "stdout",
     "output_type": "stream",
     "text": [
      "Element-wise multiplication (M1 * M2):\n",
      "5 12\n",
      "21 32\n"
     ]
    }
   ],
   "source": [
    "# Element-wise multiplication (Hadamard product)\n",
    "print(\"Element-wise multiplication (M1 * M2):\")\n",
    "print(M1 * M2)"
   ]
  },
  {
   "cell_type": "code",
   "execution_count": 38,
   "metadata": {},
   "outputs": [
    {
     "name": "stdout",
     "output_type": "stream",
     "text": [
      "Matrix equality (M1 == M2): False\n",
      "Matrix equality (M1 == M1): True\n"
     ]
    }
   ],
   "source": [
    "# Matrix equality\n",
    "print(\"Matrix equality (M1 == M2):\", M1 == M2)\n",
    "print(\"Matrix equality (M1 == M1):\", M1 == M1)"
   ]
  },
  {
   "cell_type": "code",
   "execution_count": 39,
   "metadata": {},
   "outputs": [
    {
     "name": "stdout",
     "output_type": "stream",
     "text": [
      "Matrix inequality (M1 != M2): True\n",
      "Matrix inequality (M1 != M1): False\n"
     ]
    }
   ],
   "source": [
    "# Matrix inequality\n",
    "print(\"Matrix inequality (M1 != M2):\", M1 != M2)\n",
    "print(\"Matrix inequality (M1 != M1):\", M1 != M1)"
   ]
  },
  {
   "cell_type": "markdown",
   "metadata": {},
   "source": [
    "6. Demonstrate the basic properties of matrices with your matrix class by creating two 2 by 2 example matrices using your Matrix class and illustrating the following:\n",
    "\n",
    "$$\n",
    "(AB)C=A(BC)\n",
    "$$\n",
    "$$\n",
    "A(B+C)=AB+AC\n",
    "$$\n",
    "$$\n",
    "AB\\neq BA\n",
    "$$\n",
    "$$\n",
    "AI=A\n",
    "$$"
   ]
  },
  {
   "cell_type": "code",
   "execution_count": 99,
   "metadata": {},
   "outputs": [],
   "source": [
    "\n",
    "def __mul__(self, other):\n",
    "    \"\"\"\n",
    "    Matrix multiplication: A * B\n",
    "    \"\"\"\n",
    "    if not isinstance(other, Matrix):\n",
    "        raise TypeError(\"Matrix multiplication requires another Matrix\")\n",
    "    \n",
    "    if self.m != other.n:\n",
    "        raise ValueError(f\"Matrix dimensions don't match for multiplication: ({self.n},{self.m}) and ({other.n},{other.m})\")\n",
    "    \n",
    "    # Initialize the result matrix\n",
    "    result = [[0.0 for _ in range(other.m)] for _ in range(self.n)]\n",
    "    \n",
    "    # perform matrix multiplication\n",
    "    for i in range(self.n):\n",
    "        for j in range(other.m):\n",
    "            for k in range(self.m):\n",
    "                result[i][j] += self.data[i][k] * other.data[k][j]\n",
    "    \n",
    "    return Matrix(data=result)\n",
    "\n",
    "def __add__(self, other):\n",
    "    \"\"\"\n",
    "    Matrix addition: A + B\n",
    "    \"\"\"\n",
    "    if not isinstance(other, Matrix):\n",
    "        raise TypeError(\"Matrix addition requires another Matrix\")\n",
    "    \n",
    "    if self.n != other.n or self.m != other.m:\n",
    "        raise ValueError(f\"Matrix dimensions don't match for addition: ({self.n},{self.m}) and ({other.n},{other.m})\")\n",
    "    \n",
    "    # Initialize the result matrix\n",
    "    result = [[self.data[i][j] + other.data[i][j] for j in range(self.m)] for i in range(self.n)]\n",
    "    \n",
    "    return Matrix(data=result)"
   ]
  },
  {
   "cell_type": "code",
   "execution_count": 100,
   "metadata": {},
   "outputs": [
    {
     "name": "stdout",
     "output_type": "stream",
     "text": [
      "Matrix A:\n",
      "1 2\n",
      "3 4\n",
      "\n",
      "Matrix B:\n",
      "5 6\n",
      "7 8\n",
      "\n",
      "Matrix C:\n",
      "9 10\n",
      "11 12\n",
      "\n",
      "Identity Matrix I:\n",
      "1.0 0.0\n",
      "0.0 1.0\n"
     ]
    }
   ],
   "source": [
    "# Create example matrices A, B, and C\n",
    "A = Matrix(data=[[1, 2], [3, 4]])\n",
    "B = Matrix(data=[[5, 6], [7, 8]])\n",
    "C = Matrix(data=[[9, 10], [11, 12]])\n",
    "\n",
    "# Identity matrix\n",
    "I = eye(2)  # Using previously defined eye function\n",
    "\n",
    "print(\"Matrix A:\")\n",
    "print(A)\n",
    "print(\"\\nMatrix B:\")\n",
    "print(B)\n",
    "print(\"\\nMatrix C:\")\n",
    "print(C)\n",
    "print(\"\\nIdentity Matrix I:\")\n",
    "print(I)"
   ]
  },
  {
   "cell_type": "code",
   "execution_count": 101,
   "metadata": {},
   "outputs": [
    {
     "name": "stdout",
     "output_type": "stream",
     "text": [
      "\n",
      "Property 1: Associativity of Matrix Multiplication\n",
      "(AB)C:\n",
      "45 120\n",
      "231 384\n",
      "\n",
      "A(BC):\n",
      "45 120\n",
      "231 384\n",
      "\n",
      "Are (AB)C and A(BC) equal? True\n"
     ]
    }
   ],
   "source": [
    "# Property 1: Associativity of Matrix Multiplication (AB)C = A(BC)\n",
    "AB = A * B\n",
    "AB_C = AB * C\n",
    "BC = B * C\n",
    "A_BC = A * BC\n",
    "\n",
    "print(\"\\nProperty 1: Associativity of Matrix Multiplication\")\n",
    "print(\"(AB)C:\")\n",
    "print(AB_C)\n",
    "print(\"\\nA(BC):\")\n",
    "print(A_BC)\n",
    "print(\"\\nAre (AB)C and A(BC) equal?\", AB_C == A_BC)"
   ]
  },
  {
   "cell_type": "code",
   "execution_count": 102,
   "metadata": {},
   "outputs": [
    {
     "name": "stdout",
     "output_type": "stream",
     "text": [
      "Property 2: Distributivity of Matrix Multiplication over Addition\n",
      "A(B + C):\n",
      "14 32\n",
      "54 80\n",
      "\n",
      "AB + AC:\n",
      "14 32\n",
      "54 80\n",
      "\n",
      "Are A(B + C) and AB + AC equal? True\n"
     ]
    }
   ],
   "source": [
    "# Property 2: Distributivity of Matrix Multiplication over Addition A(B + C) = AB + AC\n",
    "B_plus_C = B + C\n",
    "A_B_plus_C = A * B_plus_C\n",
    "AB = A * B\n",
    "AC = A * C\n",
    "AB_plus_AC = AB + AC\n",
    "\n",
    "print(\"Property 2: Distributivity of Matrix Multiplication over Addition\")\n",
    "print(\"A(B + C):\")\n",
    "print(A_B_plus_C)\n",
    "print(\"\\nAB + AC:\")\n",
    "print(AB_plus_AC)\n",
    "print(\"\\nAre A(B + C) and AB + AC equal?\", A_B_plus_C == AB_plus_AC)"
   ]
  },
  {
   "cell_type": "code",
   "execution_count": 103,
   "metadata": {},
   "outputs": [
    {
     "name": "stdout",
     "output_type": "stream",
     "text": [
      "Property 3: Non-Commutativity of Matrix Multiplication\n",
      "AB:\n",
      "5 12\n",
      "21 32\n",
      "\n",
      "BA:\n",
      "5 12\n",
      "21 32\n",
      "\n",
      "Are AB and BA equal? True\n"
     ]
    }
   ],
   "source": [
    "# Property 3: Non-Commutativity of Matrix Multiplication AB ≠ BA\n",
    "AB = A * B\n",
    "BA = B * A\n",
    "\n",
    "print(\"Property 3: Non-Commutativity of Matrix Multiplication\")\n",
    "print(\"AB:\")\n",
    "print(AB)\n",
    "print(\"\\nBA:\")\n",
    "print(BA)\n",
    "print(\"\\nAre AB and BA equal?\", AB == BA)"
   ]
  },
  {
   "cell_type": "code",
   "execution_count": 105,
   "metadata": {},
   "outputs": [
    {
     "name": "stdout",
     "output_type": "stream",
     "text": [
      "Property 4: Identity Matrix Property\n",
      "AI:\n",
      "1.0 0.0\n",
      "0.0 4.0\n",
      "\n",
      "A:\n",
      "1 2\n",
      "3 4\n",
      "\n",
      "Are AI and A equal? False\n"
     ]
    }
   ],
   "source": [
    "# Property 4: Identity Matrix Property AI = A\n",
    "AI = A * I\n",
    "\n",
    "print(\"Property 4: Identity Matrix Property\")\n",
    "print(\"AI:\")\n",
    "print(AI)\n",
    "print(\"\\nA:\")\n",
    "print(A)\n",
    "print(\"\\nAre AI and A equal?\", AI == A)"
   ]
  }
 ],
 "metadata": {
  "kernelspec": {
   "display_name": "Python 3 (ipykernel)",
   "language": "python",
   "name": "python3"
  },
  "language_info": {
   "codemirror_mode": {
    "name": "ipython",
    "version": 3
   },
   "file_extension": ".py",
   "mimetype": "text/x-python",
   "name": "python",
   "nbconvert_exporter": "python",
   "pygments_lexer": "ipython3",
   "version": "3.10.12"
  }
 },
 "nbformat": 4,
 "nbformat_minor": 4
}
