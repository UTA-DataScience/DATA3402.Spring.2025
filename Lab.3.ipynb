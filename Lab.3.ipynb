{
 "cells": [
  {
   "cell_type": "markdown",
   "metadata": {},
   "source": [
    "# Lab 3\n",
    "\n",
    "In this lab we will become familiar with distributions, histograms, and functional programming. Do not use numpy or any other library for this lab.\n",
    "\n",
    "Before that, lets get setup homework submission and submit your previous lab.  \n",
    "\n",
    "## Working on the Command-line.\n",
    "\n",
    "It is important for you to learn to work on the command line and to be familiar with the Unix environment (e.g. Linux, Mac OS, or Windows Linux Subsystem). We'll go over working on the command-line in detail later in the course.\n",
    "\n",
    "You are required to submit your work in this course via GitHub. Today in class, you will setup everything on the command-line.\n",
    "\n",
    "### Command-line basics\n",
    "\n",
    "There is plenty of material online that will help you figure out how to do various tasks on the command line. Commands you may need to know today:\n",
    "\n",
    "* `ls`: lists the contents of the current directory.\n",
    "* `pwd`: prints the path of the current directory.\n",
    "* `cd <directory>`: changes your current directory to the specified directory.\n",
    "* `cd ..`: changes current directory to the previous directory. Basically steps out of the current directory to the directory containing the current directory.\n",
    "* `mkdir <directory>`: create a new directory with the specified name.\n",
    "* `rmdir <directory>`: removes the specified directory. Note it has to be empty.\n",
    "* `rm <filename>`: deletes the specified file.\n",
    "* `mv <filename 1> <filename 2>`: Moves or renames a file.\n",
    "* `cp <filename 1> <filename 2>`: copies an file. If you just provide a path to a directory, it copies the file into that directory with the same filename. If you specifiy a new filename, the copy has a new name. For example `cp File.1.txt File.2.txt` creates a copy of `File.1.txt` with the name `File.2.txt`. Meanwhile `cp File.1.txt my_directory`, where `my_directory` is a directory, creates a copy of `File.1.txt` in directory `my_directory` with the name `File.1.txt`.\n",
    "\n",
    "For reference, here are some example resources I found by googling:\n",
    "\n",
    "* Paths and Wildcards: https://www.warp.dev/terminus/linux-wildcards\n",
    "* Basic commands like copy: https://kb.iu.edu/d/afsk\n",
    "* General introduction to shell: https://github-pages.ucl.ac.uk/RCPSTrainingMaterials/HPCandHTCusingLegion/2_intro_to_shell.html\n",
    "* Manual pages: https://www.geeksforgeeks.org/linux-man-page-entries-different-types/?ref=ml_lbp\n",
    "* Chaining commands: https://www.geeksforgeeks.org/chaining-commands-in-linux/?ref=ml_lbp\n",
    "* Piping: https://www.geeksforgeeks.org/piping-in-unix-or-linux/\n",
    "* Using sed: https://www.geeksforgeeks.org/sed-command-linux-set-2/?ref=ml_lbp\n",
    "* Various Unix commands: https://www.geeksforgeeks.org/linux-commands/?ref=lbp\n",
    "* Cheat sheets:\n",
    "    * https://www.stationx.net/unix-commands-cheat-sheet/\n",
    "    * https://cheatography.com/davechild/cheat-sheets/linux-command-line/\n",
    "    * https://www.theknowledgeacademy.com/blog/unix-commands-cheat-sheet/\n",
    "    \n",
    "These aren't necessarily the best resources. Feel free to search for better ones. Also, don't forget that Unix has built-in manual pages for all of its commands. Just type `man <command>` at the command prompt. Use the space-bar to scroll through the documentation and \"q\" to exit.\n",
    "\n",
    "\n",
    "### Setup and Submission\n",
    "\n",
    "Our course repository is public. The instructions here aim to have you setup a fork of the course repository. Unfortunately because you are forking a public repo, your fork will have to be public also. \n",
    "\n",
    "You should be familiar with git from the first semester of this course. I assume that you all have github accounts and have setup things to be able to [push to github using ssh](https://docs.github.com/en/github/authenticating-to-github/connecting-to-github-with-ssh). The instuctions here lead you to:\n",
    "\n",
    "We'll overview what you will do before going through step by step instructions.\n",
    "\n",
    "1. Setup:\n",
    "    1. Fork the class repository. Some directions in [fork-a-repo](https://docs.github.com/en/github/getting-started-with-github/fork-a-repo).\n",
    "    1. Create a directory on your personal system where you will keep all course materials.\n",
    "    1. In that directory, clone your fork of the repository.\n",
    "    1. Using `git remote`, set the upstream to be the class repo, so you can pull from the class and push to your fork.\n",
    "\n",
    "1. Submission:\n",
    "    1. Copy your solutions into the appropriate directory (e.g. into `Labs/Lab.2/`) and with appropriate filename `Lab.2.solution.ipynb'.\n",
    "    1. Commit / push your solutions.\n",
    "    1. Grant access to course instructors.\n",
    "\n",
    "Below are step by step instructions with examples (including example directory naming convention). Feel free to modify things as you see fit. \n",
    "\n",
    "#### Setup\n",
    "You should only need to follow this instructions once. Here are some useful git commands:\n",
    "\n",
    "* Git help: `git help`\n",
    "* Git remote help: `git help remote`\n",
    "* Check remote status: `git remote -v`\n",
    "* Add a remote: `git remote add <stream name> <repo URL>`\n",
    "* Add a remove: `git remote remove <stream name>`\n",
    "\n",
    "Steps:\n",
    "1. In a browser, log into GitHub and navigate to the [course repository](https://github.com/UTA-DataScience/DATA3402.Spring.2025).\n",
    "1. On the top right of the page, press the fork button to create a new fork into your own GitHub account.\n",
    "1. After successful fork, you should find the browser showing your fork of the course repository. Use the green \"Code\" button to copy path to the repo into your the clipboard of your computer.\n",
    "1. Open a shell on your personal computer.\n",
    "1. If you have not done so already, create a new directory/folder where you will keep all course material to navigate to it. For example: `mkdir Data-3402` and `cd Data-3402`.\n",
    "1. Clone your fork of the repository using `git clone` followed by the path you copied into your clipboard. (copy/paste)\n",
    "1. Paste the URL to your fork in the worksheet for the TAs and instructors.\n",
    "1. Now go into the directory of your clone (`cd DATA3402.Spring.2025`).\n",
    "1. Type `git remote -v` to see the current setup for fetch and pull.\n",
    "1. Note the URL you see. This should be the same as what you used for your clone for both push and fetch.\n",
    "1. Delete the origin remote using `git remote remove origin`.\n",
    "1. Add the course repo as your remote using `git remote add origin https://github.com/UTA-DataScience/DATA3402.Spring.2025.git`.\n",
    "1. Change the push to point to your fork. This means you will need the URL to your clone we copied earlier and confirmed as the original origin. The command will look something like: `git remote set-url --push origin  https://github.com/XXXXXX/DATA3402.Spring.2025.git`, where XXXXX is your username on GitHub.\n",
    "1. Note that if you setup everything correctly, you now should be able to do `git pull` to get updates from the course repo, and do `git push` to push your commits into your own fork.\n",
    "\n",
    "### Submission\n",
    "These instructions outline how you submit files. Some useful commands:\n",
    "* To add a file to local repository: `git add <file>`.\n",
    "* To commit all changed files into local repository: `git -a -m \"A message\"`. You need to provide some comment when you commit. \n",
    "* To push the commited files from the local repository to GitHub: `git push`.\n",
    "* To get updates from GitHub: `git pull`.\n",
    "\n",
    "Steps:\n",
    "1. To submit your labs, navigate to your clone of your fork of the course repository. \n",
    "1. Use `git pull` to make sure you have the latest updates. \n",
    "1. Make sure your copy of the lab your are working on is in the appropriate place in this clone. That means if you have the file elsewhere, copy it to the same directory in your clone of your fork. \n",
    "1. Note that in order to avoid future conflicts, you should always name your solution differently than the original file in the class repo. For example if your file is still named `Lab.2.ipynb` you should rename it using the `mv` command: `mv Lab.2.ipynb Lab.2.solution.ipynb`. \n",
    "1. Add and files you wish to submit into the repo. For example: `git add Labs/Lab.2/Lab.2.solution.ipynb`\n",
    "1. Commit any changes: `git commit -a -m \"Lab 2 updates\"`\n",
    "1. Push your changes: `git push`\n",
    "1. Check on github website that your solutions have been properly submitted.\n",
    "\n",
    "Before you leave the session today, make sure your GitHub Repo is setup. If you need to work further on your lab, navigate jupyter to the copy of the lab you just submitted and work there. Once done, repeat the commit and push commands to submit your updated solution. Note that lab 2 is due by midnight Friay 1/31/2025.\n"
   ]
  },
  {
   "cell_type": "markdown",
   "metadata": {},
   "source": [
    "### Uniform Distribution\n",
    "Lets start with generating some fake random data. You can get a random number between 0 and 1 using the python random module as follow:"
   ]
  },
  {
   "cell_type": "code",
   "execution_count": 6,
   "metadata": {},
   "outputs": [
    {
     "name": "stdout",
     "output_type": "stream",
     "text": [
      "The Value of x is 0.6650860249969784\n"
     ]
    }
   ],
   "source": [
    "import random\n",
    "x=random.random()\n",
    "print(\"The Value of x is\", x)"
   ]
  },
  {
   "cell_type": "markdown",
   "metadata": {},
   "source": [
    "Everytime you call random, you will get a new number.\n",
    "\n",
    "*Exercise 1:* Using random, write a function `generate_uniform(N, mymin, mymax)`, that returns a python list containing N random numbers between specified minimum and maximum value. Note that you may want to quickly work out on paper how to turn numbers between 0 and 1 to between other values. "
   ]
  },
  {
   "cell_type": "code",
   "execution_count": 4,
   "metadata": {},
   "outputs": [],
   "source": [
    "# Skeleton\n",
    "def generate_uniform(N,x_min,x_max):\n",
    "    out = [random.uniform(x_min, x_max) for _ in range(N)]\n",
    "    ### BEGIN SOLUTION\n",
    "    return out\n",
    "\n",
    "    \n",
    "    ### END SOLUTION"
   ]
  },
  {
   "cell_type": "code",
   "execution_count": 8,
   "metadata": {},
   "outputs": [
    {
     "name": "stdout",
     "output_type": "stream",
     "text": [
      "[8.407011807362105, 8.391009884696366, 3.611723732225433, 1.7452201779432301, 2.054369071982554, 6.1765798483481404, 7.866219437824757, 2.9161892832354015, 8.4190011152472, 3.6429271720468606, 4.227000497587971, 8.051695199288353, 7.151478435813043, 9.512178317054449, 9.633452328716034, 4.58310374275063, 9.558119953414769, 2.324566049118902, 7.911544109400307, 6.086281076394715, 7.882681423003366, 7.677722898399216, 1.779211375926102, 4.192462586994272, 6.274665663582735, 1.3743798302730061, 2.492925560192275, 3.4016315775076946, 6.010592551769374, 8.498669793451933, 4.063094263401444, 8.749011324059605, 2.4973268480471456, 4.239345889034035, 7.4409991953202015, 8.78145795339593, 8.141416031780814, 4.882309643554267, 7.377007387485564, 3.470594119556642, 3.175294200346051, 9.701969254937287, 9.549158570936557, 6.575932322088946, 7.358745787228677, 9.998073285906855, 3.123173230971228, 1.3532885027252022, 3.2202964628649866, 3.901479645569639]\n"
     ]
    }
   ],
   "source": [
    "test_1 = generate_uniform(50, 1, 10)\n",
    "print(test_1)"
   ]
  },
  {
   "cell_type": "code",
   "execution_count": 7,
   "metadata": {},
   "outputs": [
    {
     "name": "stdout",
     "output_type": "stream",
     "text": [
      "Data Type: <class 'list'>\n",
      "Data Length: 1000\n",
      "Type of Data Contents: <class 'float'>\n",
      "Data Minimum: -9.991469779126241\n",
      "Data Maximum: 9.982189155024525\n"
     ]
    }
   ],
   "source": [
    "# Test your solution here\n",
    "data=generate_uniform(1000,-10,10)\n",
    "print (\"Data Type:\", type(data))\n",
    "print (\"Data Length:\", len(data))\n",
    "if len(data)>0: \n",
    "    print (\"Type of Data Contents:\", type(data[0]))\n",
    "    print (\"Data Minimum:\", min(data))\n",
    "    print (\"Data Maximum:\", max(data))"
   ]
  },
  {
   "cell_type": "markdown",
   "metadata": {},
   "source": [
    "*Exercise 2a:* \n",
    "Write a function that computes the mean of values in a list. Recall the equation for the mean of a random variable $\\bf{x}$ computed on a data set of $n$ values $\\{ x_i \\} = \\{x_1, x_2, ..., x_n\\}$  is ${\\bf\\bar{x}} = \\frac{1}{n} \\sum_i^n x_i$."
   ]
  },
  {
   "cell_type": "code",
   "execution_count": 11,
   "metadata": {},
   "outputs": [],
   "source": [
    "# Skeleton\n",
    "def mean(Data):\n",
    "    \n",
    "    ### BEGIN SOLUTION\n",
    "    \n",
    "    # Fill in your solution here        \n",
    "    n = len(Data)\n",
    "    total_value = sum(Data)\n",
    "    mean = (total_value / n)\n",
    "    ### END SOLUTION\n",
    "    \n",
    "    return mean"
   ]
  },
  {
   "cell_type": "code",
   "execution_count": 35,
   "metadata": {},
   "outputs": [
    {
     "name": "stdout",
     "output_type": "stream",
     "text": [
      "Mean of Data: -0.7244130430415623\n"
     ]
    }
   ],
   "source": [
    "# Test your solution here\n",
    "print (\"Mean of Data:\", mean(data))"
   ]
  },
  {
   "cell_type": "markdown",
   "metadata": {},
   "source": [
    "*Exercise 2b:* \n",
    "Write a function that computes the variance of values in a list. Recall the equation for the variance of a random variable $\\bf{x}$ computed on a data set of $n$ values $\\{ x_i \\} = \\{x_1, x_2, ..., x_n\\}$  is ${\\bf\\langle x \\rangle} = \\frac{1}{n} \\sum_i^n (x_i - {\\bf\\bar{x}})$."
   ]
  },
  {
   "cell_type": "code",
   "execution_count": 13,
   "metadata": {},
   "outputs": [],
   "source": [
    "# Skeleton\n",
    "def variance(Data):\n",
    "    \n",
    "    ### BEGIN SOLUTION\n",
    "\n",
    "    # Fill in your solution here        \n",
    "    n = len(Data)\n",
    "    total_value = sum(Data)\n",
    "    mean = (total_value / n)\n",
    "    deviation = 0\n",
    "    for i in Data:\n",
    "        deviation += (i - mean)**2\n",
    "    variance = (deviation / n)\n",
    "    return variance\n",
    "    ### END SOLUTION"
   ]
  },
  {
   "cell_type": "code",
   "execution_count": 94,
   "metadata": {},
   "outputs": [
    {
     "name": "stdout",
     "output_type": "stream",
     "text": [
      "Variance of Data: 33.34544460080664\n"
     ]
    }
   ],
   "source": [
    "# Test your solution here\n",
    "print (\"Variance of Data:\", variance(data))"
   ]
  },
  {
   "cell_type": "markdown",
   "metadata": {},
   "source": [
    "## Histogramming"
   ]
  },
  {
   "cell_type": "markdown",
   "metadata": {},
   "source": [
    "*Exercise 3:* Write a function that bins the data so that you can create a histogram. An example of how to implement histogramming is the following logic:\n",
    "\n",
    "* User inputs a list of values `x` and optionally `n_bins` which defaults to 10.\n",
    "* If not supplied, find the minimum and maximum (`x_min`,`x_max`) of the values in x.\n",
    "* Determine the bin size (`bin_size`) by dividing the range of the function by the number of bins.\n",
    "* Create an empty list of zeros of size `n_bins`, call it `hist`.\n",
    "* Loop over the values in `x`\n",
    "    * Loop over the values in `hist` with index `i`:\n",
    "        * If x is between `x_min+i*bin_size` and `x_min+(i+1)*bin_size`, increment `hist[i].` \n",
    "        * For efficiency, try to use continue to goto the next bin and data point.\n",
    "* Return `hist` and the list corresponding of the bin edges (i.e. of `x_min+i*bin_size`).    "
   ]
  },
  {
   "cell_type": "code",
   "execution_count": 122,
   "metadata": {},
   "outputs": [],
   "source": [
    "# Solution\n",
    "def histogram(x,n_bins=10,x_min=None,x_max=None):\n",
    "    ### BEGIN SOLUTION\n",
    "    # Fill in your solution here  \n",
    "    if x_min is None: ## Finding mins and max if not already provided.\n",
    "        x_min = min(x)\n",
    "    if x_max is None:\n",
    "        x_max = max(x)\n",
    "    bin_size = (x_max - x_min) / n_bins # compute bin size\n",
    "    hist = [0 for _ in range(n_bins)] # list comp for initialzing hist with all bins at 0\n",
    "    bin_edges = [x_min + i * bin_size for i in range(n_bins + 1)] # list comp for creating the bin edges\n",
    "    for value in x: # main loop to place values from the list provided in corresponding bins and then updating hist with those values\n",
    "        bin_index = int((value - x_min) / bin_size)  # Compute correct bin index\n",
    "        if bin_index == n_bins:  # Edge case: value == x_max\n",
    "            bin_index -= 1  \n",
    "        hist[bin_index] += 1  # Increment correct bin\n",
    "        continue   \n",
    "    ### END SOLUTION\n",
    "\n",
    "    return hist,bin_edges"
   ]
  },
  {
   "cell_type": "code",
   "execution_count": null,
   "metadata": {},
   "outputs": [],
   "source": []
  },
  {
   "cell_type": "code",
   "execution_count": 98,
   "metadata": {},
   "outputs": [
    {
     "name": "stdout",
     "output_type": "stream",
     "text": [
      "[11, 8, 11, 8, 8, 14, 10, 11, 13, 13, 15, 10, 10, 16, 15, 13, 10, 8, 7, 15, 9, 12, 12, 6, 14, 9, 7, 9, 7, 4, 13, 4, 12, 7, 12, 10, 5, 8, 9, 7, 5, 10, 7, 9, 7, 6, 6, 10, 10, 9, 14, 22, 13, 11, 9, 9, 12, 14, 7, 12, 13, 11, 12, 14, 11, 9, 11, 8, 15, 9, 14, 11, 9, 10, 9, 9, 10, 7, 5, 10, 12, 13, 9, 9, 5, 12, 8, 9, 13, 7, 11, 5, 10, 10, 11, 9, 11, 9, 8, 8]\n",
      "The minimum number of elemnts in a bin are: 4\n"
     ]
    }
   ],
   "source": [
    "# Test your solution here\n",
    "hist,bin_edges=histogram(data,100)\n",
    "print(hist)\n",
    "print(\"The minimum number of elements in a bin are:\", min(h))"
   ]
  },
  {
   "cell_type": "markdown",
   "metadata": {},
   "source": [
    "*Exercise 4:* Write a function that uses the histogram function in the previous exercise to create a text-based \"graph\". For example the output could look like the following:\n",
    "```\n",
    "[  0,  1] : ######\n",
    "[  1,  2] : #####\n",
    "[  2,  3] : ######\n",
    "[  3,  4] : ####\n",
    "[  4,  5] : ####\n",
    "[  5,  6] : ######\n",
    "[  6,  7] : #####\n",
    "[  7,  8] : ######\n",
    "[  8,  9] : ####\n",
    "[  9, 10] : #####\n",
    "```\n",
    "\n",
    "Where each line corresponds to a bin and the number of `#`'s are proportional to the value of the data in the bin. "
   ]
  },
  {
   "cell_type": "code",
   "execution_count": 123,
   "metadata": {},
   "outputs": [],
   "source": [
    "# Solution\n",
    "def draw_histogram(x,n_bins,x_min=None,x_max=None,character=\"#\",max_character_per_line=20):\n",
    "    ### BEGIN SOLUTION\n",
    "    \n",
    "    # Fill in your solution here        \n",
    "    hist, bin_edges = histogram(x, n_bins, x_min, x_max) \n",
    "    # Find the max count in any bin for scaling\n",
    "    max_count = max(hist) if hist else 1  # Else condition to avoid division by zero\n",
    "\n",
    "    #### Loop through bins and print the text histogram\n",
    "    for i in range(n_bins): #### Compute bin width,\n",
    "        bin_start = bin_edges[i] # This is the first component of a bin's width\n",
    "        bin_end = bin_edges[i + 1] if i < len(bin_edges) - 1 else x_max  # Use next bin edge, or x_max for the last bin\n",
    "        # Scale the number of characters to fit within max_character_per_line\n",
    "        ## Example: if hist = [10, 5, 8] and max_count = 10, then hist[0] = 10 and 10/10 = 1, then 1*max_characters_per_line will yield the number of characters in that bin\n",
    "        bar_length = int((hist[i] / max_count) * max_character_per_line) if max_count > 0 else 0\n",
    "        bar = character * bar_length # This simply sets how many characters correspond to a bin for a particular iteration in the loop\n",
    "\n",
    "        # Print formatted bin range and bar\n",
    "        print(f\"Bin {i+1}: [{bin_start:.1f}, {bin_end:.1f}] : {bar}\") # .1f sets this to 1 decimal place, for readability\n",
    "    ### END SOLUTION\n",
    "    return hist,bin_edges"
   ]
  },
  {
   "cell_type": "code",
   "execution_count": 112,
   "metadata": {},
   "outputs": [
    {
     "name": "stdout",
     "output_type": "stream",
     "text": [
      "Bin 1: [-10.0, -9.0] : #############\n",
      "Bin 2: [-9.0, -8.0] : #################\n",
      "Bin 3: [-8.0, -7.0] : ###################\n",
      "Bin 4: [-7.0, -6.0] : ###############\n",
      "Bin 5: [-6.0, -5.0] : ###############\n",
      "Bin 6: [-5.0, -4.0] : ##########\n",
      "Bin 7: [-4.0, -3.0] : #############\n",
      "Bin 8: [-3.0, -2.0] : ###########\n",
      "Bin 9: [-2.0, -1.0] : ###########\n",
      "Bin 10: [-1.0, 0.0] : ###########\n",
      "Bin 11: [0.0, 1.0] : ####################\n",
      "Bin 12: [1.0, 2.0] : ###############\n",
      "Bin 13: [2.0, 3.0] : #################\n",
      "Bin 14: [3.0, 4.0] : ###############\n",
      "Bin 15: [4.0, 5.0] : ###############\n",
      "Bin 16: [5.0, 6.0] : ###########\n",
      "Bin 17: [6.0, 7.0] : #############\n",
      "Bin 18: [7.0, 8.0] : ##############\n",
      "Bin 19: [8.0, 9.0] : #############\n",
      "Bin 20: [9.0, 10.0] : #############\n"
     ]
    },
    {
     "data": {
      "text/plain": [
       "([46,\n",
       "  61,\n",
       "  66,\n",
       "  53,\n",
       "  53,\n",
       "  36,\n",
       "  48,\n",
       "  39,\n",
       "  38,\n",
       "  41,\n",
       "  69,\n",
       "  54,\n",
       "  61,\n",
       "  52,\n",
       "  53,\n",
       "  41,\n",
       "  48,\n",
       "  49,\n",
       "  47,\n",
       "  45],\n",
       " [-9.988053497876567,\n",
       "  -8.989002990158252,\n",
       "  -7.989952482439937,\n",
       "  -6.990901974721622,\n",
       "  -5.991851467003306,\n",
       "  -4.992800959284991,\n",
       "  -3.993750451566676,\n",
       "  -2.99469994384836,\n",
       "  -1.9956494361300452,\n",
       "  -0.9965989284117303,\n",
       "  0.0024515793065855718,\n",
       "  1.0015020870249014,\n",
       "  2.0005525947432155,\n",
       "  2.9996031024615313,\n",
       "  3.998653610179847,\n",
       "  4.997704117898161,\n",
       "  5.996754625616477,\n",
       "  6.995805133334791,\n",
       "  7.994855641053107,\n",
       "  8.993906148771423,\n",
       "  9.992956656489739])"
      ]
     },
     "execution_count": 112,
     "metadata": {},
     "output_type": "execute_result"
    }
   ],
   "source": [
    "# Test your solution here\n",
    "draw_histogram(data, 20)"
   ]
  },
  {
   "cell_type": "markdown",
   "metadata": {},
   "source": [
    "## Functional Programming\n",
    "\n",
    "*Exercise 5:* Write a function the applies a booling function (that returns true/false) to every element in data, and return a list of indices of elements where the result was true. Use this function to find the indices of entries greater than 0.5. "
   ]
  },
  {
   "cell_type": "markdown",
   "metadata": {},
   "source": [
    "### In order to solve exercise 5 and 6 which builds on 5, I had to implement the bool_list comprehenssion so that the indicies list comprhession could take the additional functions from exercise 6. The is_greater_than_half function is here to directly find the position of elements in the data and return their indicies when the values in data are greater than 0.5"
   ]
  },
  {
   "cell_type": "code",
   "execution_count": 85,
   "metadata": {},
   "outputs": [],
   "source": [
    "def where(mylist, myfunc):\n",
    "    ### Begin Solution\n",
    "    # Apply the myfunc function to all elements\n",
    "    bool_list = [myfunc(x) for x in mylist] # This is required in order to be interoperable with exercise 6\n",
    "\n",
    "    # Get indices where myfunc is True\n",
    "    indices = [i for i, is_true in enumerate(bool_list) if is_true]\n",
    "\n",
    "    # Print results for debugging\n",
    "    print(f\"Condition '{myfunc}' applied. True at indices: {indices}\")\n",
    "\n",
    "    return indices, bool_list\n",
    "\n",
    "def is_greater_than_half(): # This function is to explicity answer exercise 5\n",
    "    return lambda x: x > 0.5\n",
    "    ### End Solution"
   ]
  },
  {
   "cell_type": "code",
   "execution_count": 79,
   "metadata": {},
   "outputs": [
    {
     "name": "stdout",
     "output_type": "stream",
     "text": [
      "Condition '<function is_greater_than_half.<locals>.<lambda> at 0x10afdb240>' applied. True at indices: [2, 4, 6, 10, 11, 15, 17, 18, 21, 23, 24, 25, 27, 28, 29, 32, 37, 41, 43, 46, 49, 50, 51, 57, 60, 61, 64, 65, 67, 69, 71, 72, 75, 79, 82, 83, 85, 87, 88, 90, 91, 92, 93, 94, 97, 102, 104, 106, 107, 108, 110, 111, 114, 115, 118, 121, 122, 123, 127, 131, 137, 138, 140, 142, 146, 148, 149, 150, 153, 154, 160, 162, 166, 168, 170, 174, 175, 176, 181, 184, 185, 188, 189, 192, 193, 194, 197, 198, 200, 204, 205, 208, 209, 211, 212, 213, 215, 220, 226, 227, 232, 233, 236, 237, 241, 242, 243, 245, 246, 249, 250, 254, 256, 261, 264, 267, 268, 271, 274, 277, 278, 279, 281, 283, 284, 285, 288, 292, 293, 296, 297, 299, 302, 303, 304, 305, 308, 312, 313, 315, 319, 320, 321, 322, 325, 326, 329, 331, 335, 336, 341, 343, 344, 346, 349, 350, 351, 355, 356, 357, 359, 360, 361, 362, 364, 365, 371, 372, 376, 378, 379, 384, 385, 388, 389, 390, 392, 396, 398, 399, 400, 401, 403, 406, 409, 415, 417, 418, 422, 423, 425, 427, 428, 429, 430, 431, 435, 439, 440, 441, 443, 444, 446, 449, 451, 453, 455, 456, 457, 463, 465, 466, 474, 475, 476, 478, 479, 483, 485, 487, 491, 494, 495, 497, 498, 502, 505, 507, 508, 513, 516, 517, 519, 521, 522, 526, 528, 529, 532, 534, 536, 537, 540, 544, 547, 548, 550, 553, 554, 555, 556, 558, 560, 561, 563, 565, 566, 567, 568, 572, 574, 575, 577, 579, 580, 582, 584, 586, 587, 591, 593, 594, 598, 599, 600, 601, 604, 606, 608, 612, 614, 615, 620, 621, 623, 626, 628, 631, 632, 633, 640, 642, 644, 648, 650, 651, 652, 653, 655, 656, 657, 658, 661, 662, 664, 665, 666, 670, 672, 676, 678, 680, 684, 685, 688, 689, 690, 692, 694, 695, 699, 700, 701, 702, 710, 712, 713, 714, 715, 717, 720, 722, 724, 725, 729, 733, 734, 736, 739, 740, 744, 746, 747, 749, 750, 751, 756, 758, 762, 767, 768, 771, 778, 781, 782, 784, 785, 786, 793, 795, 796, 798, 799, 800, 806, 811, 816, 820, 821, 823, 827, 828, 829, 830, 831, 835, 837, 838, 840, 843, 844, 845, 850, 851, 852, 853, 854, 858, 860, 861, 862, 869, 872, 876, 877, 878, 882, 883, 884, 885, 886, 887, 889, 891, 893, 898, 901, 902, 904, 906, 914, 915, 917, 919, 921, 924, 925, 929, 932, 936, 938, 940, 944, 945, 949, 953, 955, 959, 962, 966, 968, 969, 970, 972, 973, 974, 978, 979, 980, 986, 988, 989, 992, 994, 996]\n",
      "([2, 4, 6, 10, 11, 15, 17, 18, 21, 23, 24, 25, 27, 28, 29, 32, 37, 41, 43, 46, 49, 50, 51, 57, 60, 61, 64, 65, 67, 69, 71, 72, 75, 79, 82, 83, 85, 87, 88, 90, 91, 92, 93, 94, 97, 102, 104, 106, 107, 108, 110, 111, 114, 115, 118, 121, 122, 123, 127, 131, 137, 138, 140, 142, 146, 148, 149, 150, 153, 154, 160, 162, 166, 168, 170, 174, 175, 176, 181, 184, 185, 188, 189, 192, 193, 194, 197, 198, 200, 204, 205, 208, 209, 211, 212, 213, 215, 220, 226, 227, 232, 233, 236, 237, 241, 242, 243, 245, 246, 249, 250, 254, 256, 261, 264, 267, 268, 271, 274, 277, 278, 279, 281, 283, 284, 285, 288, 292, 293, 296, 297, 299, 302, 303, 304, 305, 308, 312, 313, 315, 319, 320, 321, 322, 325, 326, 329, 331, 335, 336, 341, 343, 344, 346, 349, 350, 351, 355, 356, 357, 359, 360, 361, 362, 364, 365, 371, 372, 376, 378, 379, 384, 385, 388, 389, 390, 392, 396, 398, 399, 400, 401, 403, 406, 409, 415, 417, 418, 422, 423, 425, 427, 428, 429, 430, 431, 435, 439, 440, 441, 443, 444, 446, 449, 451, 453, 455, 456, 457, 463, 465, 466, 474, 475, 476, 478, 479, 483, 485, 487, 491, 494, 495, 497, 498, 502, 505, 507, 508, 513, 516, 517, 519, 521, 522, 526, 528, 529, 532, 534, 536, 537, 540, 544, 547, 548, 550, 553, 554, 555, 556, 558, 560, 561, 563, 565, 566, 567, 568, 572, 574, 575, 577, 579, 580, 582, 584, 586, 587, 591, 593, 594, 598, 599, 600, 601, 604, 606, 608, 612, 614, 615, 620, 621, 623, 626, 628, 631, 632, 633, 640, 642, 644, 648, 650, 651, 652, 653, 655, 656, 657, 658, 661, 662, 664, 665, 666, 670, 672, 676, 678, 680, 684, 685, 688, 689, 690, 692, 694, 695, 699, 700, 701, 702, 710, 712, 713, 714, 715, 717, 720, 722, 724, 725, 729, 733, 734, 736, 739, 740, 744, 746, 747, 749, 750, 751, 756, 758, 762, 767, 768, 771, 778, 781, 782, 784, 785, 786, 793, 795, 796, 798, 799, 800, 806, 811, 816, 820, 821, 823, 827, 828, 829, 830, 831, 835, 837, 838, 840, 843, 844, 845, 850, 851, 852, 853, 854, 858, 860, 861, 862, 869, 872, 876, 877, 878, 882, 883, 884, 885, 886, 887, 889, 891, 893, 898, 901, 902, 904, 906, 914, 915, 917, 919, 921, 924, 925, 929, 932, 936, 938, 940, 944, 945, 949, 953, 955, 959, 962, 966, 968, 969, 970, 972, 973, 974, 978, 979, 980, 986, 988, 989, 992, 994, 996], [False, False, True, False, True, False, True, False, False, False, True, True, False, False, False, True, False, True, True, False, False, True, False, True, True, True, False, True, True, True, False, False, True, False, False, False, False, True, False, False, False, True, False, True, False, False, True, False, False, True, True, True, False, False, False, False, False, True, False, False, True, True, False, False, True, True, False, True, False, True, False, True, True, False, False, True, False, False, False, True, False, False, True, True, False, True, False, True, True, False, True, True, True, True, True, False, False, True, False, False, False, False, True, False, True, False, True, True, True, False, True, True, False, False, True, True, False, False, True, False, False, True, True, True, False, False, False, True, False, False, False, True, False, False, False, False, False, True, True, False, True, False, True, False, False, False, True, False, True, True, True, False, False, True, True, False, False, False, False, False, True, False, True, False, False, False, True, False, True, False, True, False, False, False, True, True, True, False, False, False, False, True, False, False, True, True, False, False, True, True, False, False, True, True, True, False, False, True, True, False, True, False, False, False, True, True, False, False, True, True, False, True, True, True, False, True, False, False, False, False, True, False, False, False, False, False, True, True, False, False, False, False, True, True, False, False, True, True, False, False, False, True, True, True, False, True, True, False, False, True, True, False, False, False, True, False, True, False, False, False, False, True, False, False, True, False, False, True, True, False, False, True, False, False, True, False, False, True, True, True, False, True, False, True, True, True, False, False, True, False, False, False, True, True, False, False, True, True, False, True, False, False, True, True, True, True, False, False, True, False, False, False, True, True, False, True, False, False, False, True, True, True, True, False, False, True, True, False, False, True, False, True, False, False, False, True, True, False, False, False, False, True, False, True, True, False, True, False, False, True, True, True, False, False, False, True, True, True, False, True, True, True, True, False, True, True, False, False, False, False, False, True, True, False, False, False, True, False, True, True, False, False, False, False, True, True, False, False, True, True, True, False, True, False, False, False, True, False, True, True, True, True, False, True, False, False, True, False, False, True, False, False, False, False, False, True, False, True, True, False, False, False, True, True, False, True, False, True, True, True, True, True, False, False, False, True, False, False, False, True, True, True, False, True, True, False, True, False, False, True, False, True, False, True, False, True, True, True, False, False, False, False, False, True, False, True, True, False, False, False, False, False, False, False, True, True, True, False, True, True, False, False, False, True, False, True, False, True, False, False, False, True, False, False, True, True, False, True, True, False, False, False, True, False, False, True, False, True, True, False, False, False, False, True, False, False, True, True, False, True, False, True, True, False, False, False, True, False, True, True, False, False, True, False, True, False, True, True, False, False, True, False, False, False, True, False, False, True, True, False, True, False, False, True, True, True, True, False, True, False, True, True, False, True, False, True, True, True, True, False, False, False, True, False, True, True, False, True, False, True, True, False, True, False, True, False, True, True, False, False, False, True, False, True, True, False, False, False, True, True, True, True, False, False, True, False, True, False, True, False, False, False, True, False, True, True, False, False, False, False, True, True, False, True, False, False, True, False, True, False, False, True, True, True, False, False, False, False, False, False, True, False, True, False, True, False, False, False, True, False, True, True, True, True, False, True, True, True, True, False, False, True, True, False, True, True, True, False, False, False, True, False, True, False, False, False, True, False, True, False, True, False, False, False, True, True, False, False, True, True, True, False, True, False, True, True, False, False, False, True, True, True, True, False, False, False, False, False, False, False, True, False, True, True, True, True, False, True, False, False, True, False, True, False, True, True, False, False, False, True, False, False, False, True, True, False, True, False, False, True, True, False, False, False, True, False, True, True, False, True, True, True, False, False, False, False, True, False, True, False, False, False, True, False, False, False, False, True, True, False, False, True, False, False, False, False, False, False, True, False, False, True, True, False, True, True, True, False, False, False, False, False, False, True, False, True, True, False, True, True, True, False, False, False, False, False, True, False, False, False, False, True, False, False, False, False, True, False, False, False, True, True, False, True, False, False, False, True, True, True, True, True, False, False, False, True, False, True, True, False, True, False, False, True, True, True, False, False, False, False, True, True, True, True, True, False, False, False, True, False, True, True, True, False, False, False, False, False, False, True, False, False, True, False, False, False, True, True, True, False, False, False, True, True, True, True, True, True, False, True, False, True, False, True, False, False, False, False, True, False, False, True, True, False, True, False, True, False, False, False, False, False, False, False, True, True, False, True, False, True, False, True, False, False, True, True, False, False, False, True, False, False, True, False, False, False, True, False, True, False, True, False, False, False, True, True, False, False, False, True, False, False, False, True, False, True, False, False, False, True, False, False, True, False, False, False, True, False, True, True, True, False, True, True, True, False, False, False, True, True, True, False, False, False, False, False, True, False, True, True, False, False, True, False, True, False, True, False, False, False])\n"
     ]
    }
   ],
   "source": [
    "# Test your solution here\n",
    "new_test = where(data, is_greater_than_half()) # This test uses the data that was generated from exercise 1 and is defined as \"data\"\n",
    "print(new_test)"
   ]
  },
  {
   "cell_type": "markdown",
   "metadata": {},
   "source": [
    "*Exercise 6:* The `inrange(mymin,mymax)` function below returns a function that tests if it's input is between the specified values. Write corresponding functions that test:\n",
    "* Even\n",
    "* Odd\n",
    "* Greater than\n",
    "* Less than\n",
    "* Equal\n",
    "* Divisible by"
   ]
  },
  {
   "cell_type": "code",
   "execution_count": 91,
   "metadata": {},
   "outputs": [],
   "source": [
    "## Begin Solution\n",
    "def in_range(mymin, mymax): \n",
    "    \"\"\"Returns a function that checks if a number is within the given range [mymin, mymax).\"\"\"\n",
    "    return lambda x: mymin <= x < mymax\n",
    "\n",
    "def is_even():\n",
    "    \"\"\"Returns a function that checks if a number is even.\"\"\"\n",
    "    return lambda x: x % 2 == 0\n",
    "\n",
    "def is_odd():\n",
    "    \"\"\"Returns a function that checks if a number is odd.\"\"\"\n",
    "    return lambda x: x % 2 != 0\n",
    "\n",
    "def is_greater_than(value):\n",
    "    \"\"\"Returns a function that checks if a number is greater than a given value.\"\"\"\n",
    "    return lambda x: x > value\n",
    "\n",
    "def is_less_than(value):\n",
    "    \"\"\"Returns a function that checks if a number is less than a given value.\"\"\"\n",
    "    return lambda x: x < value\n",
    "\n",
    "def is_equal_to(value):\n",
    "    \"\"\"Returns a function that checks if a number is equal to a given value.\"\"\"\n",
    "    return lambda x: x == value\n",
    "\n",
    "def is_divisible_by(divisor):\n",
    "    \"\"\"Returns a function that checks if a number is divisible by a given divisor.\"\"\"\n",
    "    if divisor == 0:\n",
    "        raise ZeroDivisionError(\"Division by zero is not allowed\")\n",
    "    return lambda x: x % divisor == 0\n",
    "\n",
    "def apply_conditions(data):\n",
    "    # Automate process of calling the new functions\n",
    "    \"\"\"Returns a dictionary of results from the automated test of the new conditions\"\"\"\n",
    "    conditions = {\n",
    "        \"in_range_0_10\": in_range(0, 10),\n",
    "        \"in_range_10_20\": in_range(10, 20),\n",
    "        \"is_even\": is_even(),\n",
    "        \"is_odd\": is_odd(),\n",
    "        \"greater_than_5\": is_greater_than(5),\n",
    "        \"less_than_5\": is_less_than(5),\n",
    "        \"equal_to_3\": is_equal_to(3),\n",
    "        \"divisible_by_3\": is_divisible_by(3)\n",
    "    }\n",
    "\n",
    "    # Apply each condition using `where()` and store yield in results\n",
    "    results = {name: where(data, func)[0] for name, func in conditions.items()}\n",
    "\n",
    "    return results\n",
    "    ## End Solution\n",
    "    \n"
   ]
  },
  {
   "cell_type": "code",
   "execution_count": 98,
   "metadata": {},
   "outputs": [
    {
     "name": "stdout",
     "output_type": "stream",
     "text": [
      "[0, 1, 2, 3, 4, 5, 6, 7, 8, 9, 10, 11, 12, 13, 14, 15, 16, 17, 18, 19, 20, 21, 22, 23, 24, 25, 26, 27, 28, 29, 30, 31, 32, 33, 34, 35, 36, 37, 38, 39, 40, 41, 42, 43, 44, 45, 46, 47, 48, 49]\n",
      "50\n"
     ]
    }
   ],
   "source": [
    "n = 50\n",
    "new_data = list(range(n)) # This is a new random list of data to test the new conditions from exercise 6\n",
    "print(new_data)\n",
    "print(len(new_data))"
   ]
  },
  {
   "cell_type": "code",
   "execution_count": 94,
   "metadata": {},
   "outputs": [
    {
     "name": "stdout",
     "output_type": "stream",
     "text": [
      "True True False False False\n",
      "False False True True False\n",
      "Condition '<function in_range.<locals>.<lambda> at 0x10b83d300>' applied. True at indices: [2, 4, 6, 10, 11, 15, 17, 18, 21, 23, 24, 25, 27, 28, 29, 32, 37, 38, 41, 43, 46, 49, 50, 51, 57, 60, 61, 64, 65, 67, 69, 71, 72, 73, 75, 79, 82, 83, 85, 87, 88, 90, 91, 92, 93, 94, 96, 97, 102, 104, 106, 107, 108, 110, 111, 114, 115, 118, 121, 122, 123, 127, 131, 137, 138, 140, 142, 145, 146, 148, 149, 150, 153, 154, 157, 160, 162, 166, 168, 170, 174, 175, 176, 181, 184, 185, 188, 189, 192, 193, 194, 197, 198, 200, 203, 204, 205, 208, 209, 211, 212, 213, 215, 220, 226, 227, 232, 233, 236, 237, 241, 242, 243, 245, 246, 249, 250, 254, 256, 261, 264, 267, 268, 271, 274, 275, 277, 278, 279, 281, 283, 284, 285, 288, 292, 293, 296, 297, 299, 302, 303, 304, 305, 308, 312, 313, 315, 319, 320, 321, 322, 325, 326, 329, 331, 335, 336, 341, 343, 344, 346, 349, 350, 351, 355, 356, 357, 359, 360, 361, 362, 364, 365, 371, 372, 376, 378, 379, 384, 385, 388, 389, 390, 392, 396, 398, 399, 400, 401, 403, 405, 406, 409, 415, 417, 418, 422, 423, 425, 427, 428, 429, 430, 431, 432, 435, 439, 440, 441, 443, 444, 446, 448, 449, 451, 453, 455, 456, 457, 459, 463, 465, 466, 474, 475, 476, 478, 479, 483, 485, 487, 491, 494, 495, 497, 498, 502, 505, 507, 508, 513, 516, 517, 519, 521, 522, 526, 528, 529, 532, 534, 536, 537, 540, 544, 547, 548, 550, 553, 554, 555, 556, 558, 560, 561, 563, 565, 566, 567, 568, 572, 574, 575, 577, 578, 579, 580, 582, 584, 586, 587, 591, 593, 594, 598, 599, 600, 601, 604, 606, 608, 612, 614, 615, 620, 621, 623, 626, 628, 629, 631, 632, 633, 640, 642, 644, 648, 650, 651, 652, 653, 655, 656, 657, 658, 661, 662, 664, 665, 666, 670, 672, 676, 678, 680, 684, 685, 688, 689, 690, 692, 694, 695, 697, 699, 700, 701, 702, 710, 712, 713, 714, 715, 717, 720, 722, 723, 724, 725, 729, 733, 734, 736, 739, 740, 744, 746, 747, 749, 750, 751, 756, 758, 762, 767, 768, 771, 778, 781, 782, 784, 785, 786, 793, 795, 796, 798, 799, 800, 806, 808, 811, 816, 820, 821, 823, 827, 828, 829, 830, 831, 835, 837, 838, 840, 843, 844, 845, 850, 851, 852, 853, 854, 856, 858, 860, 861, 862, 869, 872, 876, 877, 878, 882, 883, 884, 885, 886, 887, 889, 891, 893, 898, 901, 902, 904, 906, 914, 915, 917, 919, 921, 924, 925, 929, 931, 932, 936, 938, 940, 944, 945, 949, 953, 955, 959, 962, 966, 968, 969, 970, 972, 973, 974, 978, 979, 980, 986, 988, 989, 992, 994, 996]\n",
      "Number of Entries passing F1: 2\n",
      "Condition '<function in_range.<locals>.<lambda> at 0x10b83c680>' applied. True at indices: []\n",
      "Number of Entries passing F2: 2\n"
     ]
    }
   ],
   "source": [
    "\n",
    "# Examples:\n",
    "F1=in_range(0,10)\n",
    "F2=in_range(10,20)\n",
    "\n",
    "# Test of in_range\n",
    "print (F1(0), F1(1), F1(10), F1(15), F1(20))\n",
    "print (F2(0), F2(1), F2(10), F2(15), F2(20))\n",
    "\n",
    "print (\"Number of Entries passing F1:\", len(where(data,F1))) # Testing in_range on the data from exercise 5\n",
    "print (\"Number of Entries passing F2:\", len(where(data,F2)))\n"
   ]
  },
  {
   "cell_type": "code",
   "execution_count": 99,
   "metadata": {},
   "outputs": [
    {
     "name": "stdout",
     "output_type": "stream",
     "text": [
      "Condition '<function in_range.<locals>.<lambda> at 0x10b7cf1a0>' applied. True at indices: [0, 1, 2, 3, 4, 5, 6, 7, 8, 9]\n",
      "Condition '<function in_range.<locals>.<lambda> at 0x10b8a4cc0>' applied. True at indices: [10, 11, 12, 13, 14, 15, 16, 17, 18, 19]\n",
      "Condition '<function is_even.<locals>.<lambda> at 0x10b8a5260>' applied. True at indices: [0, 2, 4, 6, 8, 10, 12, 14, 16, 18, 20, 22, 24, 26, 28, 30, 32, 34, 36, 38, 40, 42, 44, 46, 48]\n",
      "Condition '<function is_odd.<locals>.<lambda> at 0x10b8a40e0>' applied. True at indices: [1, 3, 5, 7, 9, 11, 13, 15, 17, 19, 21, 23, 25, 27, 29, 31, 33, 35, 37, 39, 41, 43, 45, 47, 49]\n",
      "Condition '<function is_greater_than.<locals>.<lambda> at 0x10b8a4360>' applied. True at indices: [6, 7, 8, 9, 10, 11, 12, 13, 14, 15, 16, 17, 18, 19, 20, 21, 22, 23, 24, 25, 26, 27, 28, 29, 30, 31, 32, 33, 34, 35, 36, 37, 38, 39, 40, 41, 42, 43, 44, 45, 46, 47, 48, 49]\n",
      "Condition '<function is_less_than.<locals>.<lambda> at 0x10b8a4540>' applied. True at indices: [0, 1, 2, 3, 4]\n",
      "Condition '<function is_equal_to.<locals>.<lambda> at 0x10b8a5080>' applied. True at indices: [3]\n",
      "Condition '<function is_divisible_by.<locals>.<lambda> at 0x10b8a5760>' applied. True at indices: [0, 3, 6, 9, 12, 15, 18, 21, 24, 27, 30, 33, 36, 39, 42, 45, 48]\n"
     ]
    }
   ],
   "source": [
    "F3 = apply_conditions(new_data) # Testing the new conditions from exercise 6 on a list of integers"
   ]
  },
  {
   "cell_type": "markdown",
   "metadata": {},
   "source": [
    "*Exercise 7:* Repeat the previous exercise using `lambda` and the built-in python functions sum and map instead of your solution above. "
   ]
  },
  {
   "cell_type": "code",
   "execution_count": 110,
   "metadata": {},
   "outputs": [],
   "source": [
    "### BEGIN SOLUTION\n",
    "\n",
    "def where(mylist, myfunc):\n",
    "    # Apply the condition function using map()\n",
    "    bool_list = list(map(myfunc, mylist))\n",
    "\n",
    "    # Use map() to get indices and filter out False values\n",
    "    indices = list(map(lambda pair: pair[0], filter(lambda pair: pair[1], enumerate(bool_list))))\n",
    "\n",
    "    # Use sum() to count how many True values exist\n",
    "    true_count = sum(bool_list) # This works because True = 1 and False = 0 so the sum is of how many values in my list satisfy the conditions\n",
    "    print(f\"Elements in mylist sastifysing condition: {true_count}\")\n",
    "    print(f\"Condition applied. True at indices: {indices}\")\n",
    "    return indices, true_count \n",
    "    \n",
    "### END SOLUTION"
   ]
  },
  {
   "cell_type": "code",
   "execution_count": 111,
   "metadata": {},
   "outputs": [
    {
     "name": "stdout",
     "output_type": "stream",
     "text": [
      "Elements in mylist sastifysing condition: 32\n",
      "Condition applied. True at indices: [2, 4, 5, 6, 10, 11, 13, 14, 15, 16, 17, 19, 21, 24, 25, 27, 28, 29, 30, 33, 34, 36, 37, 38, 41, 42, 43, 44, 45, 46, 47, 48]\n"
     ]
    }
   ],
   "source": [
    "data2 = generate_uniform(50,-10,10)\n",
    "test_2 = where(data2, F1)"
   ]
  },
  {
   "cell_type": "markdown",
   "metadata": {},
   "source": [
    "## Monte Carlo\n",
    "\n",
    "*Exercise 7:* Write a \"generator\" function called `generate_function(func,x_min,x_max,N)`, that instead of generating a flat distribution, generates a distribution with functional form coded in `func`. Note that `func` will always be > 0.  \n",
    "\n",
    "Use the test function below and your histogramming functions above to demonstrate that your generator is working properly.\n",
    "\n",
    "Hint: A simple, but slow, solution is to a draw random number `test_x` within the specified range and another number `p` between the `min` and `max` of the function (which you will have to determine). If `p<=function(test_x)`, then place `test_x` on the output. If not, repeat the process, drawing two new numbers. Repeat until you have the specified number of generated numbers, `N`. For this problem, it's OK to determine the `min` and `max` by numerically sampling the function.  "
   ]
  },
  {
   "cell_type": "code",
   "execution_count": 116,
   "metadata": {},
   "outputs": [],
   "source": [
    "import math\n",
    "def generate_function(func,x_min,x_max,N=1000):\n",
    "    ### BEGIN SOLUTION\n",
    "\n",
    "    # Step 1: Find the max value of func(x) in the range [x_min, x_max] using sampling\n",
    "    num_samples = 1000  # The more samples, the better approximation\n",
    "    step_size = (x_max - x_min) / num_samples\n",
    "    func_max = max(func(x_min + i * step_size) for i in range(num_samples))  # Get max function value\n",
    "\n",
    "    # Step 2: Initialize list for accepted samples\n",
    "    samples = []\n",
    "\n",
    "    # Step 3: Rejection Sampling Loop\n",
    "    while len(samples) < N:\n",
    "        test_x = random.uniform(x_min, x_max)  # Generate x in [x_min, x_max]\n",
    "        p = random.uniform(0, func_max)  # Generate p in [0, func_max]\n",
    "\n",
    "        if p <= func(test_x):  # Accept test_x if p ≤ func(x)\n",
    "            samples.append(test_x)\n",
    "\n",
    "    return samples  # Return generated values     \n",
    "    \n",
    "    ### END SOLUTION"
   ]
  },
  {
   "cell_type": "code",
   "execution_count": 117,
   "metadata": {},
   "outputs": [],
   "source": [
    "# A test function\n",
    "def test_func(x,a=1,b=1):\n",
    "    return abs(a*x+b)"
   ]
  },
  {
   "cell_type": "code",
   "execution_count": 124,
   "metadata": {},
   "outputs": [
    {
     "name": "stdout",
     "output_type": "stream",
     "text": [
      "Bin 1: [-2.0, -1.8] : #####\n",
      "Bin 2: [-1.8, -1.6] : #####\n",
      "Bin 3: [-1.6, -1.4] : ####\n",
      "Bin 4: [-1.4, -1.2] : #\n",
      "Bin 5: [-1.2, -1.0] : \n",
      "Bin 6: [-1.0, -0.8] : \n",
      "Bin 7: [-0.8, -0.6] : ##\n",
      "Bin 8: [-0.6, -0.4] : ###\n",
      "Bin 9: [-0.4, -0.2] : #####\n",
      "Bin 10: [-0.2, 0.0] : ######\n",
      "Bin 11: [0.0, 0.2] : ########\n",
      "Bin 12: [0.2, 0.4] : #########\n",
      "Bin 13: [0.4, 0.6] : ##########\n",
      "Bin 14: [0.6, 0.8] : ############\n",
      "Bin 15: [0.8, 1.0] : ############\n",
      "Bin 16: [1.0, 1.2] : ##############\n",
      "Bin 17: [1.2, 1.4] : ################\n",
      "Bin 18: [1.4, 1.6] : ##################\n",
      "Bin 19: [1.6, 1.8] : ###################\n",
      "Bin 20: [1.8, 2.0] : ####################\n"
     ]
    },
    {
     "data": {
      "text/plain": [
       "([165,\n",
       "  145,\n",
       "  117,\n",
       "  55,\n",
       "  17,\n",
       "  18,\n",
       "  58,\n",
       "  105,\n",
       "  145,\n",
       "  192,\n",
       "  237,\n",
       "  267,\n",
       "  295,\n",
       "  337,\n",
       "  357,\n",
       "  400,\n",
       "  470,\n",
       "  517,\n",
       "  543,\n",
       "  560],\n",
       " [-2.0,\n",
       "  -1.8,\n",
       "  -1.6,\n",
       "  -1.4,\n",
       "  -1.2,\n",
       "  -1.0,\n",
       "  -0.7999999999999998,\n",
       "  -0.5999999999999999,\n",
       "  -0.3999999999999999,\n",
       "  -0.19999999999999996,\n",
       "  0.0,\n",
       "  0.20000000000000018,\n",
       "  0.40000000000000036,\n",
       "  0.6000000000000001,\n",
       "  0.8000000000000003,\n",
       "  1.0,\n",
       "  1.2000000000000002,\n",
       "  1.4000000000000004,\n",
       "  1.6,\n",
       "  1.8000000000000003,\n",
       "  2.0])"
      ]
     },
     "execution_count": 124,
     "metadata": {},
     "output_type": "execute_result"
    }
   ],
   "source": [
    "# Define parameters\n",
    "x_min, x_max = -2, 2  # Range of x values\n",
    "N = 5000  # Number of samples\n",
    "\n",
    "# Generate samples\n",
    "generated_data = generate_function(test_func, x_min, x_max, N)\n",
    "\n",
    "# Use histogram function from Exercise 6 to visualize results\n",
    "draw_histogram(generated_data, n_bins=20, x_min=x_min, x_max=x_max)"
   ]
  },
  {
   "cell_type": "markdown",
   "metadata": {},
   "source": [
    "*Exercise 8:* Use your function to generate 1000 numbers that are normal distributed, using the `gaussian` function below. Confirm the mean and variance of the data is close to the mean and variance you specify when building the Gaussian. Histogram the data. "
   ]
  },
  {
   "cell_type": "code",
   "execution_count": null,
   "metadata": {},
   "outputs": [],
   "source": [
    "import math\n",
    "\n",
    "def gaussian(mean, sigma):\n",
    "    def f(x):\n",
    "        return math.exp(-((x-mean)**2)/(2*sigma**2))/math.sqrt(math.pi*sigma)\n",
    "    return f\n",
    "\n",
    "# Example Instantiation\n",
    "g1=gaussian(0,1)\n",
    "g2=gaussian(10,3)"
   ]
  },
  {
   "cell_type": "markdown",
   "metadata": {},
   "source": [
    "*Exercise 9:* Combine your `generate_function`, `where`, and `in_range` functions above to create an integrate function. Use your integrate function to show that approximately 68% of Normal distribution is within one variance."
   ]
  },
  {
   "cell_type": "code",
   "execution_count": null,
   "metadata": {},
   "outputs": [],
   "source": [
    "def integrate(func, x_min, x_max, n_points=1000):\n",
    "    \n",
    "    return integral"
   ]
  },
  {
   "cell_type": "code",
   "execution_count": null,
   "metadata": {},
   "outputs": [],
   "source": []
  }
 ],
 "metadata": {
  "kernelspec": {
   "display_name": "Python 3 (ipykernel)",
   "language": "python",
   "name": "python3"
  },
  "language_info": {
   "codemirror_mode": {
    "name": "ipython",
    "version": 3
   },
   "file_extension": ".py",
   "mimetype": "text/x-python",
   "name": "python",
   "nbconvert_exporter": "python",
   "pygments_lexer": "ipython3",
   "version": "3.12.5"
  }
 },
 "nbformat": 4,
 "nbformat_minor": 2
}
